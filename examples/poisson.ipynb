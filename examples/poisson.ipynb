{
 "cells": [
  {
   "cell_type": "code",
   "execution_count": 1,
   "id": "cfbf8a03-a204-4835-96d3-f2ccc3c4a0d7",
   "metadata": {},
   "outputs": [],
   "source": [
    "%load_ext autoreload\n",
    "%autoreload 2\n",
    "import sys\n",
    "\n",
    "sys.path.append(\"../\")"
   ]
  },
  {
   "cell_type": "code",
   "execution_count": 2,
   "id": "496cbf3c-9772-4f12-94dc-62ffde0301a7",
   "metadata": {},
   "outputs": [],
   "source": [
    "import numpy as np\n",
    "import pandas as pd\n",
    "import penaltyblog as pb\n",
    "from scipy.optimize import minimize\n",
    "from scipy.stats import poisson"
   ]
  },
  {
   "cell_type": "code",
   "execution_count": 3,
   "id": "622f4dee-ed8d-4a76-a7f9-c81bc849e96a",
   "metadata": {},
   "outputs": [
    {
     "data": {
      "text/html": [
       "<div>\n",
       "<style scoped>\n",
       "    .dataframe tbody tr th:only-of-type {\n",
       "        vertical-align: middle;\n",
       "    }\n",
       "\n",
       "    .dataframe tbody tr th {\n",
       "        vertical-align: top;\n",
       "    }\n",
       "\n",
       "    .dataframe thead th {\n",
       "        text-align: right;\n",
       "    }\n",
       "</style>\n",
       "<table border=\"1\" class=\"dataframe\">\n",
       "  <thead>\n",
       "    <tr style=\"text-align: right;\">\n",
       "      <th></th>\n",
       "      <th>Date</th>\n",
       "      <th>HomeTeam</th>\n",
       "      <th>AwayTeam</th>\n",
       "      <th>FTHG</th>\n",
       "      <th>FTAG</th>\n",
       "    </tr>\n",
       "  </thead>\n",
       "  <tbody>\n",
       "    <tr>\n",
       "      <th>0</th>\n",
       "      <td>2018-08-10</td>\n",
       "      <td>Man United</td>\n",
       "      <td>Leicester</td>\n",
       "      <td>2</td>\n",
       "      <td>1</td>\n",
       "    </tr>\n",
       "    <tr>\n",
       "      <th>1</th>\n",
       "      <td>2018-08-11</td>\n",
       "      <td>Bournemouth</td>\n",
       "      <td>Cardiff</td>\n",
       "      <td>2</td>\n",
       "      <td>0</td>\n",
       "    </tr>\n",
       "    <tr>\n",
       "      <th>2</th>\n",
       "      <td>2018-08-11</td>\n",
       "      <td>Fulham</td>\n",
       "      <td>Crystal Palace</td>\n",
       "      <td>0</td>\n",
       "      <td>2</td>\n",
       "    </tr>\n",
       "    <tr>\n",
       "      <th>3</th>\n",
       "      <td>2018-08-11</td>\n",
       "      <td>Huddersfield</td>\n",
       "      <td>Chelsea</td>\n",
       "      <td>0</td>\n",
       "      <td>3</td>\n",
       "    </tr>\n",
       "    <tr>\n",
       "      <th>4</th>\n",
       "      <td>2018-08-11</td>\n",
       "      <td>Newcastle</td>\n",
       "      <td>Tottenham</td>\n",
       "      <td>1</td>\n",
       "      <td>2</td>\n",
       "    </tr>\n",
       "  </tbody>\n",
       "</table>\n",
       "</div>"
      ],
      "text/plain": [
       "        Date      HomeTeam        AwayTeam  FTHG  FTAG\n",
       "0 2018-08-10    Man United       Leicester     2     1\n",
       "1 2018-08-11   Bournemouth         Cardiff     2     0\n",
       "2 2018-08-11        Fulham  Crystal Palace     0     2\n",
       "3 2018-08-11  Huddersfield         Chelsea     0     3\n",
       "4 2018-08-11     Newcastle       Tottenham     1     2"
      ]
     },
     "execution_count": 3,
     "metadata": {},
     "output_type": "execute_result"
    }
   ],
   "source": [
    "df = pb.footballdata.fetch_data(\"England\", 2018, 0)\n",
    "df[[\"Date\", \"HomeTeam\", \"AwayTeam\", \"FTHG\", \"FTAG\"]].head()"
   ]
  },
  {
   "cell_type": "markdown",
   "id": "5d1b5c0b-83a9-4a98-9ce3-d2a63493ad1f",
   "metadata": {},
   "source": [
    "### Poisson Model"
   ]
  },
  {
   "cell_type": "code",
   "execution_count": 4,
   "id": "e06c5ae9-c5b9-4802-bf15-62b5661b7ac9",
   "metadata": {},
   "outputs": [],
   "source": [
    "pois = pb.PoissonGoalsModel(df[\"FTHG\"], df[\"FTAG\"], df[\"HomeTeam\"], df[\"AwayTeam\"])"
   ]
  },
  {
   "cell_type": "code",
   "execution_count": 5,
   "id": "a3b31dde-449e-4ddd-b741-361ca16fe4ac",
   "metadata": {},
   "outputs": [
    {
     "name": "stderr",
     "output_type": "stream",
     "text": [
      "/opt/conda/lib/python3.9/site-packages/pandas/core/arraylike.py:358: RuntimeWarning: divide by zero encountered in log\n",
      "  result = getattr(ufunc, method)(*inputs, **kwargs)\n"
     ]
    }
   ],
   "source": [
    "pois.fit()"
   ]
  },
  {
   "cell_type": "code",
   "execution_count": 6,
   "id": "ab69e99c-1fbd-4b5f-8331-013c376f310b",
   "metadata": {},
   "outputs": [
    {
     "data": {
      "text/plain": [
       "Module: Penaltyblog\n",
       "\n",
       "Model: Poisson\n",
       "\n",
       "Number of parameters: 42\n",
       "Log Likelihood: -1065.077\n",
       "AIC: 2214.154\n",
       "\n",
       "Team                 Attack               Defence             \n",
       "------------------------------------------------------------\n",
       "Arsenal              1.362                -1.078              \n",
       "Bournemouth          1.115                -0.777              \n",
       "Brighton             0.634                -0.952              \n",
       "Burnley              0.894                -0.817              \n",
       "Cardiff              0.614                -0.813              \n",
       "Chelsea              1.202                -1.357              \n",
       "Crystal Palace       1.004                -1.061              \n",
       "Everton              1.055                -1.2                \n",
       "Fulham               0.626                -0.652              \n",
       "Huddersfield         0.184                -0.728              \n",
       "Leicester            1.0                  -1.16               \n",
       "Liverpool            1.532                -1.905              \n",
       "Man City             1.598                -1.854              \n",
       "Man United           1.249                -1.028              \n",
       "Newcastle            0.805                -1.169              \n",
       "Southampton          0.891                -0.862              \n",
       "Tottenham            1.264                -1.353              \n",
       "Watford              1.03                 -0.952              \n",
       "West Ham             1.026                -1.023              \n",
       "Wolves               0.916                -1.207              \n",
       "------------------------------------------------------------\n",
       "Home Advantage: 0.225\n",
       "Intercept: 0.221"
      ]
     },
     "execution_count": 6,
     "metadata": {},
     "output_type": "execute_result"
    }
   ],
   "source": [
    "pois"
   ]
  },
  {
   "cell_type": "markdown",
   "id": "ac9b02d9-e8c7-4f02-bbcd-89081efcc08b",
   "metadata": {},
   "source": [
    "### Dixon and Coles"
   ]
  },
  {
   "cell_type": "code",
   "execution_count": 7,
   "id": "154a4641-6166-4ab3-aa0e-3cb150abd796",
   "metadata": {},
   "outputs": [],
   "source": [
    "dc = pb.DixonColesGoalModel(df[\"FTHG\"], df[\"FTAG\"], df[\"HomeTeam\"], df[\"AwayTeam\"])"
   ]
  },
  {
   "cell_type": "code",
   "execution_count": 8,
   "id": "c3084f2f-45d8-4aac-9dbf-d5734a811cc0",
   "metadata": {},
   "outputs": [
    {
     "name": "stderr",
     "output_type": "stream",
     "text": [
      "/opt/conda/lib/python3.9/site-packages/pandas/core/arraylike.py:358: RuntimeWarning: invalid value encountered in log\n",
      "  result = getattr(ufunc, method)(*inputs, **kwargs)\n"
     ]
    }
   ],
   "source": [
    "dc.fit()"
   ]
  },
  {
   "cell_type": "code",
   "execution_count": 9,
   "id": "4d6cbc1b-fa2a-4c76-93bb-96dfb5798292",
   "metadata": {
    "tags": []
   },
   "outputs": [
    {
     "data": {
      "text/plain": [
       "Module: Penaltyblog\n",
       "\n",
       "Model: Dixon and Coles\n",
       "\n",
       "Number of parameters: 43\n",
       "Log Likelihood: -1064.943\n",
       "AIC: 2215.886\n",
       "\n",
       "Team                 Attack               Defence             \n",
       "------------------------------------------------------------\n",
       "Arsenal              1.36                 -0.958              \n",
       "Bournemouth          1.115                -0.655              \n",
       "Brighton             0.632                -0.833              \n",
       "Burnley              0.897                -0.692              \n",
       "Cardiff              0.615                -0.691              \n",
       "Chelsea              1.205                -1.23               \n",
       "Crystal Palace       1.007                -0.937              \n",
       "Everton              1.054                -1.077              \n",
       "Fulham               0.625                -0.533              \n",
       "Huddersfield         0.18                 -0.607              \n",
       "Leicester            0.996                -1.04               \n",
       "Liverpool            1.534                -1.779              \n",
       "Man City             1.599                -1.738              \n",
       "Man United           1.251                -0.907              \n",
       "Newcastle            0.807                -1.046              \n",
       "Southampton          0.897                -0.736              \n",
       "Tottenham            1.259                -1.237              \n",
       "Watford              1.031                -0.829              \n",
       "West Ham             1.023                -0.903              \n",
       "Wolves               0.914                -1.088              \n",
       "------------------------------------------------------------\n",
       "Home Advantage: 0.225\n",
       "Intercept: 0.1\n",
       "Rho: -0.041"
      ]
     },
     "execution_count": 9,
     "metadata": {},
     "output_type": "execute_result"
    }
   ],
   "source": [
    "dc"
   ]
  },
  {
   "cell_type": "markdown",
   "id": "0e9c6036-27cf-4393-bc60-b43d501a16c2",
   "metadata": {},
   "source": [
    "### Rue Salvesen Model"
   ]
  },
  {
   "cell_type": "code",
   "execution_count": 10,
   "id": "470d4d34-6a0c-492e-ad4e-12f6521fae27",
   "metadata": {},
   "outputs": [],
   "source": [
    "rs = pb.RueSalvesenGoalModel(df[\"FTHG\"], df[\"FTAG\"], df[\"HomeTeam\"], df[\"AwayTeam\"])"
   ]
  },
  {
   "cell_type": "code",
   "execution_count": 11,
   "id": "573d3aaf-3f32-4bdb-8636-71528460e669",
   "metadata": {},
   "outputs": [
    {
     "name": "stderr",
     "output_type": "stream",
     "text": [
      "/opt/conda/lib/python3.9/site-packages/pandas/core/arraylike.py:358: RuntimeWarning: divide by zero encountered in log\n",
      "  result = getattr(ufunc, method)(*inputs, **kwargs)\n",
      "/opt/conda/lib/python3.9/site-packages/pandas/core/arraylike.py:358: RuntimeWarning: invalid value encountered in log\n",
      "  result = getattr(ufunc, method)(*inputs, **kwargs)\n"
     ]
    }
   ],
   "source": [
    "rs.fit()"
   ]
  },
  {
   "cell_type": "code",
   "execution_count": 12,
   "id": "a7dc51f8-38dd-4758-a359-06181b75e6c1",
   "metadata": {},
   "outputs": [
    {
     "data": {
      "text/plain": [
       "Module: Penaltyblog\n",
       "\n",
       "Model: Rue Salvesen\n",
       "\n",
       "Number of parameters: 44\n",
       "Log Likelihood: -1061.167\n",
       "AIC: 2210.334\n",
       "\n",
       "Team                 Attack               Defence             \n",
       "------------------------------------------------------------\n",
       "Arsenal              1.312                -0.94               \n",
       "Bournemouth          1.059                -0.63               \n",
       "Brighton             0.664                -0.895              \n",
       "Burnley              0.875                -0.701              \n",
       "Cardiff              0.629                -0.737              \n",
       "Chelsea              1.216                -1.298              \n",
       "Crystal Palace       1.002                -0.963              \n",
       "Everton              1.064                -1.141              \n",
       "Fulham               0.618                -0.556              \n",
       "Huddersfield         0.243                -0.714              \n",
       "Leicester            1.007                -1.081              \n",
       "Liverpool            1.571                -1.847              \n",
       "Man City             1.594                -1.799              \n",
       "Man United           1.21                 -0.897              \n",
       "Newcastle            0.843                -1.113              \n",
       "Southampton          0.881                -0.769              \n",
       "Tottenham            1.248                -1.272              \n",
       "Watford              1.009                -0.838              \n",
       "West Ham             1.013                -0.923              \n",
       "Wolves               0.942                -1.147              \n",
       "------------------------------------------------------------\n",
       "Home Advantage: 0.222\n",
       "Intercept: 0.136\n",
       "Rho: -0.04\n",
       "Gamma: -0.264"
      ]
     },
     "execution_count": 12,
     "metadata": {},
     "output_type": "execute_result"
    }
   ],
   "source": [
    "rs"
   ]
  },
  {
   "cell_type": "markdown",
   "id": "4e5f5b3f-2845-4c61-9bb0-c0be847e2310",
   "metadata": {},
   "source": [
    "### Prediction"
   ]
  },
  {
   "cell_type": "code",
   "execution_count": 14,
   "id": "3e8a4685-bdf8-40e2-873a-0d6bfb3e0b4d",
   "metadata": {},
   "outputs": [],
   "source": [
    "probs = rs.predict(\"Liverpool\", \"Leicester\")"
   ]
  },
  {
   "cell_type": "code",
   "execution_count": 15,
   "id": "aaabebd4-11f0-4831-9823-d88c178a43a5",
   "metadata": {},
   "outputs": [
    {
     "data": {
      "text/plain": [
       "0.5369271457805791"
      ]
     },
     "execution_count": 15,
     "metadata": {},
     "output_type": "execute_result"
    }
   ],
   "source": [
    "probs.total_goals(\"over\", 2.5)"
   ]
  },
  {
   "cell_type": "code",
   "execution_count": 16,
   "id": "96a0546b-fd35-4627-86ae-d75922b5b776",
   "metadata": {},
   "outputs": [
    {
     "data": {
      "text/plain": [
       "0.4630728336858418"
      ]
     },
     "execution_count": 16,
     "metadata": {},
     "output_type": "execute_result"
    }
   ],
   "source": [
    "probs.total_goals(\"under\", 2.5)"
   ]
  },
  {
   "cell_type": "code",
   "execution_count": 17,
   "id": "dce20362-d05a-4c13-b4fb-5fd65c73460b",
   "metadata": {},
   "outputs": [
    {
     "data": {
      "text/plain": [
       "0.47390434527269804"
      ]
     },
     "execution_count": 17,
     "metadata": {},
     "output_type": "execute_result"
    }
   ],
   "source": [
    "probs.asian_handicap(\"away\", -1.5)"
   ]
  },
  {
   "cell_type": "code",
   "execution_count": 18,
   "id": "ba647b60-fe49-42b8-8219-34f4ec665b77",
   "metadata": {},
   "outputs": [
    {
     "data": {
      "text/plain": [
       "0.5260956341937232"
      ]
     },
     "execution_count": 18,
     "metadata": {},
     "output_type": "execute_result"
    }
   ],
   "source": [
    "probs.asian_handicap(\"home\", 1.5)"
   ]
  },
  {
   "cell_type": "code",
   "execution_count": 19,
   "id": "97fcb4fa-fbbc-4645-aa44-2768d428bc21",
   "metadata": {},
   "outputs": [
    {
     "name": "stdout",
     "output_type": "stream",
     "text": [
      "{'attack_Arsenal': 1.3120016760793092,\n",
      " 'attack_Bournemouth': 1.0588195509494989,\n",
      " 'attack_Brighton': 0.663664325111337,\n",
      " 'attack_Burnley': 0.8750424744288547,\n",
      " 'attack_Cardiff': 0.6294811036701214,\n",
      " 'attack_Chelsea': 1.215858639718227,\n",
      " 'attack_Crystal Palace': 1.0023366877127713,\n",
      " 'attack_Everton': 1.0641132668379063,\n",
      " 'attack_Fulham': 0.6176359248987324,\n",
      " 'attack_Huddersfield': 0.24252036707099134,\n",
      " 'attack_Leicester': 1.0070419542645253,\n",
      " 'attack_Liverpool': 1.5709862208464636,\n",
      " 'attack_Man City': 1.5943626910700817,\n",
      " 'attack_Man United': 1.2104512969927286,\n",
      " 'attack_Newcastle': 0.8429692085737125,\n",
      " 'attack_Southampton': 0.8814749404469013,\n",
      " 'attack_Tottenham': 1.2480679730571407,\n",
      " 'attack_Watford': 1.008878573402672,\n",
      " 'attack_West Ham': 1.01251649604207,\n",
      " 'attack_Wolves': 0.9417766288259545,\n",
      " 'defence_Arsenal': -0.9402296750817191,\n",
      " 'defence_Bournemouth': -0.6298999824051443,\n",
      " 'defence_Brighton': -0.8954346287809901,\n",
      " 'defence_Burnley': -0.7009150478574419,\n",
      " 'defence_Cardiff': -0.7368508448432185,\n",
      " 'defence_Chelsea': -1.2983298775906205,\n",
      " 'defence_Crystal Palace': -0.9631836447190129,\n",
      " 'defence_Everton': -1.1411648032547066,\n",
      " 'defence_Fulham': -0.5561854659509691,\n",
      " 'defence_Huddersfield': -0.7143640103409709,\n",
      " 'defence_Leicester': -1.0809547954253986,\n",
      " 'defence_Liverpool': -1.8471100111357355,\n",
      " 'defence_Man City': -1.7994404503272137,\n",
      " 'defence_Man United': -0.8965531598886942,\n",
      " 'defence_Newcastle': -1.112952092653466,\n",
      " 'defence_Southampton': -0.7687662677740557,\n",
      " 'defence_Tottenham': -1.272361542990715,\n",
      " 'defence_Watford': -0.8383741924849393,\n",
      " 'defence_West Ham': -0.9227893383514979,\n",
      " 'defence_Wolves': -1.146749361654675,\n",
      " 'home_advantage': 0.22164394211176208,\n",
      " 'intercept': 0.13633162806655413,\n",
      " 'rho': -0.04034100382703995,\n",
      " 'rue_salvesen': -0.2639076953459626}\n"
     ]
    }
   ],
   "source": [
    "from pprint import pprint\n",
    "params = rs.get_params()\n",
    "pprint(params)"
   ]
  },
  {
   "cell_type": "code",
   "execution_count": null,
   "id": "404441c5-144f-4aa3-9e2f-9dfaed1212de",
   "metadata": {},
   "outputs": [],
   "source": []
  }
 ],
 "metadata": {
  "kernelspec": {
   "display_name": "Python 3",
   "language": "python",
   "name": "python3"
  },
  "language_info": {
   "codemirror_mode": {
    "name": "ipython",
    "version": 3
   },
   "file_extension": ".py",
   "mimetype": "text/x-python",
   "name": "python",
   "nbconvert_exporter": "python",
   "pygments_lexer": "ipython3",
   "version": "3.9.4"
  }
 },
 "nbformat": 4,
 "nbformat_minor": 5
}
