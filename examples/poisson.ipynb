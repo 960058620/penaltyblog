{
 "cells": [
  {
   "cell_type": "code",
   "execution_count": 1,
   "id": "cfbf8a03-a204-4835-96d3-f2ccc3c4a0d7",
   "metadata": {},
   "outputs": [],
   "source": [
    "%load_ext autoreload\n",
    "%autoreload 2\n",
    "import sys\n",
    "\n",
    "sys.path.append(\"../\")"
   ]
  },
  {
   "cell_type": "code",
   "execution_count": 2,
   "id": "496cbf3c-9772-4f12-94dc-62ffde0301a7",
   "metadata": {},
   "outputs": [],
   "source": [
    "import numpy as np\n",
    "import pandas as pd\n",
    "import penaltyblog as pb\n",
    "from scipy.optimize import minimize\n",
    "from scipy.stats import poisson"
   ]
  },
  {
   "cell_type": "code",
   "execution_count": 3,
   "id": "622f4dee-ed8d-4a76-a7f9-c81bc849e96a",
   "metadata": {},
   "outputs": [
    {
     "data": {
      "text/html": [
       "<div>\n",
       "<style scoped>\n",
       "    .dataframe tbody tr th:only-of-type {\n",
       "        vertical-align: middle;\n",
       "    }\n",
       "\n",
       "    .dataframe tbody tr th {\n",
       "        vertical-align: top;\n",
       "    }\n",
       "\n",
       "    .dataframe thead th {\n",
       "        text-align: right;\n",
       "    }\n",
       "</style>\n",
       "<table border=\"1\" class=\"dataframe\">\n",
       "  <thead>\n",
       "    <tr style=\"text-align: right;\">\n",
       "      <th></th>\n",
       "      <th>Date</th>\n",
       "      <th>HomeTeam</th>\n",
       "      <th>AwayTeam</th>\n",
       "      <th>FTHG</th>\n",
       "      <th>FTAG</th>\n",
       "    </tr>\n",
       "  </thead>\n",
       "  <tbody>\n",
       "    <tr>\n",
       "      <th>0</th>\n",
       "      <td>2018-08-10</td>\n",
       "      <td>Man United</td>\n",
       "      <td>Leicester</td>\n",
       "      <td>2</td>\n",
       "      <td>1</td>\n",
       "    </tr>\n",
       "    <tr>\n",
       "      <th>1</th>\n",
       "      <td>2018-08-11</td>\n",
       "      <td>Bournemouth</td>\n",
       "      <td>Cardiff</td>\n",
       "      <td>2</td>\n",
       "      <td>0</td>\n",
       "    </tr>\n",
       "    <tr>\n",
       "      <th>2</th>\n",
       "      <td>2018-08-11</td>\n",
       "      <td>Fulham</td>\n",
       "      <td>Crystal Palace</td>\n",
       "      <td>0</td>\n",
       "      <td>2</td>\n",
       "    </tr>\n",
       "    <tr>\n",
       "      <th>3</th>\n",
       "      <td>2018-08-11</td>\n",
       "      <td>Huddersfield</td>\n",
       "      <td>Chelsea</td>\n",
       "      <td>0</td>\n",
       "      <td>3</td>\n",
       "    </tr>\n",
       "    <tr>\n",
       "      <th>4</th>\n",
       "      <td>2018-08-11</td>\n",
       "      <td>Newcastle</td>\n",
       "      <td>Tottenham</td>\n",
       "      <td>1</td>\n",
       "      <td>2</td>\n",
       "    </tr>\n",
       "  </tbody>\n",
       "</table>\n",
       "</div>"
      ],
      "text/plain": [
       "        Date      HomeTeam        AwayTeam  FTHG  FTAG\n",
       "0 2018-08-10    Man United       Leicester     2     1\n",
       "1 2018-08-11   Bournemouth         Cardiff     2     0\n",
       "2 2018-08-11        Fulham  Crystal Palace     0     2\n",
       "3 2018-08-11  Huddersfield         Chelsea     0     3\n",
       "4 2018-08-11     Newcastle       Tottenham     1     2"
      ]
     },
     "execution_count": 3,
     "metadata": {},
     "output_type": "execute_result"
    }
   ],
   "source": [
    "df = pb.footballdata.fetch_data(\"England\", 2018, 0)\n",
    "df[[\"Date\", \"HomeTeam\", \"AwayTeam\", \"FTHG\", \"FTAG\"]].head()"
   ]
  },
  {
   "cell_type": "markdown",
   "id": "5d1b5c0b-83a9-4a98-9ce3-d2a63493ad1f",
   "metadata": {},
   "source": [
    "### Poisson Model"
   ]
  },
  {
   "cell_type": "code",
   "execution_count": 4,
   "id": "e06c5ae9-c5b9-4802-bf15-62b5661b7ac9",
   "metadata": {},
   "outputs": [],
   "source": [
    "pois = pb.poisson.PoissonGoalsModel(df[\"FTHG\"], df[\"FTAG\"], df[\"HomeTeam\"], df[\"AwayTeam\"])"
   ]
  },
  {
   "cell_type": "code",
   "execution_count": 5,
   "id": "a3b31dde-449e-4ddd-b741-361ca16fe4ac",
   "metadata": {},
   "outputs": [
    {
     "name": "stderr",
     "output_type": "stream",
     "text": [
      "/opt/conda/lib/python3.9/site-packages/pandas/core/arraylike.py:358: RuntimeWarning: divide by zero encountered in log\n",
      "  result = getattr(ufunc, method)(*inputs, **kwargs)\n"
     ]
    }
   ],
   "source": [
    "pois.fit()"
   ]
  },
  {
   "cell_type": "code",
   "execution_count": 6,
   "id": "ab69e99c-1fbd-4b5f-8331-013c376f310b",
   "metadata": {},
   "outputs": [
    {
     "data": {
      "text/plain": [
       "Module: Penaltyblog\n",
       "\n",
       "Model: Poisson\n",
       "\n",
       "Number of parameters: 41\n",
       "Log Likelihood: -1065.077\n",
       "AIC: 2212.154\n",
       "\n",
       "Team                 Attack               Defence             \n",
       "------------------------------------------------------------\n",
       "Arsenal              1.362                -0.856              \n",
       "Bournemouth          1.115                -0.555              \n",
       "Brighton             0.634                -0.731              \n",
       "Burnley              0.894                -0.595              \n",
       "Cardiff              0.614                -0.592              \n",
       "Chelsea              1.202                -1.135              \n",
       "Crystal Palace       1.004                -0.839              \n",
       "Everton              1.055                -0.978              \n",
       "Fulham               0.626                -0.431              \n",
       "Huddersfield         0.184                -0.507              \n",
       "Leicester            1.0                  -0.939              \n",
       "Liverpool            1.532                -1.683              \n",
       "Man City             1.598                -1.633              \n",
       "Man United           1.249                -0.807              \n",
       "Newcastle            0.805                -0.948              \n",
       "Southampton          0.891                -0.641              \n",
       "Tottenham            1.264                -1.131              \n",
       "Watford              1.03                 -0.731              \n",
       "West Ham             1.026                -0.801              \n",
       "Wolves               0.916                -0.985              \n",
       "------------------------------------------------------------\n",
       "Home Advantage: 0.225"
      ]
     },
     "execution_count": 6,
     "metadata": {},
     "output_type": "execute_result"
    }
   ],
   "source": [
    "pois"
   ]
  },
  {
   "cell_type": "code",
   "execution_count": 7,
   "id": "41408ae9-d384-496b-9ac8-88b605ef64fd",
   "metadata": {},
   "outputs": [
    {
     "data": {
      "text/plain": [
       "{'attack_Arsenal': 1.3622182692354565,\n",
       " 'attack_Bournemouth': 1.1151950638392283,\n",
       " 'attack_Brighton': 0.6339238162809544,\n",
       " 'attack_Burnley': 0.8936894280490494,\n",
       " 'attack_Cardiff': 0.6136413243137976,\n",
       " 'attack_Chelsea': 1.2024806358377873,\n",
       " 'attack_Crystal Palace': 1.0043948012112704,\n",
       " 'attack_Everton': 1.0548886842016354,\n",
       " 'attack_Fulham': 0.6255475814984898,\n",
       " 'attack_Huddersfield': 0.18430169225986576,\n",
       " 'attack_Leicester': 0.9995578292065143,\n",
       " 'attack_Liverpool': 1.5319802424266495,\n",
       " 'attack_Man City': 1.5983141483364756,\n",
       " 'attack_Man United': 1.248697315010879,\n",
       " 'attack_Newcastle': 0.8048579264432804,\n",
       " 'attack_Southampton': 0.8907128648860027,\n",
       " 'attack_Tottenham': 1.2641636112230386,\n",
       " 'attack_Watford': 1.0298583264833256,\n",
       " 'attack_West Ham': 1.0258195592667356,\n",
       " 'attack_Wolves': 0.9157568799895628,\n",
       " 'defence_Arsenal': -0.8560871226786197,\n",
       " 'defence_Bournemouth': -0.5553454067066441,\n",
       " 'defence_Brighton': -0.7306942286847046,\n",
       " 'defence_Burnley': -0.595423759614251,\n",
       " 'defence_Cardiff': -0.5916629896574759,\n",
       " 'defence_Chelsea': -1.1351370726752974,\n",
       " 'defence_Crystal Palace': -0.8393941947919253,\n",
       " 'defence_Everton': -0.9784241380572468,\n",
       " 'defence_Fulham': -0.4309568319409839,\n",
       " 'defence_Huddersfield': -0.5066162250194886,\n",
       " 'defence_Leicester': -0.938730344294819,\n",
       " 'defence_Liverpool': -1.6832827929928618,\n",
       " 'defence_Man City': -1.6326945967174293,\n",
       " 'defence_Man United': -0.806719382704598,\n",
       " 'defence_Newcastle': -0.9475533688449971,\n",
       " 'defence_Southampton': -0.6407053248411821,\n",
       " 'defence_Tottenham': -1.1310699951679524,\n",
       " 'defence_Watford': -0.7308422694741865,\n",
       " 'defence_West Ham': -0.801265272304779,\n",
       " 'defence_Wolves': -0.985287002339868,\n",
       " 'home_advantage': 0.22480030122999206}"
      ]
     },
     "execution_count": 7,
     "metadata": {},
     "output_type": "execute_result"
    }
   ],
   "source": [
    "pois.get_params()"
   ]
  },
  {
   "cell_type": "code",
   "execution_count": 8,
   "id": "ad49bec5-e000-484e-9446-52342b21c67f",
   "metadata": {},
   "outputs": [
    {
     "data": {
      "text/plain": [
       "Module: Penaltyblog\n",
       "\n",
       "Class: FootballProbabilityGrid\n",
       "\n",
       "Home Goal Expectation: 1.309141560879353\n",
       "Away Goal Expectation: 1.2031157023116301\n",
       "\n",
       "Home Win: 0.3907965326317279\n",
       "Draw: 0.2688104777800772\n",
       "Away Win: 0.3403929895714368"
      ]
     },
     "execution_count": 8,
     "metadata": {},
     "output_type": "execute_result"
    }
   ],
   "source": [
    "goals = pois.predict(\"Watford\", \"Wolves\")\n",
    "goals"
   ]
  },
  {
   "cell_type": "code",
   "execution_count": 9,
   "id": "b12356a2-29fc-48e8-ac7b-15d086370b5e",
   "metadata": {},
   "outputs": [
    {
     "data": {
      "text/plain": [
       "[0.3907965326317279, 0.2688104777800772, 0.3403929895714368]"
      ]
     },
     "execution_count": 9,
     "metadata": {},
     "output_type": "execute_result"
    }
   ],
   "source": [
    "goals.home_draw_away"
   ]
  },
  {
   "cell_type": "markdown",
   "id": "ac9b02d9-e8c7-4f02-bbcd-89081efcc08b",
   "metadata": {},
   "source": [
    "### Dixon and Coles"
   ]
  },
  {
   "cell_type": "code",
   "execution_count": 10,
   "id": "154a4641-6166-4ab3-aa0e-3cb150abd796",
   "metadata": {},
   "outputs": [],
   "source": [
    "dc = pb.poisson.DixonColesGoalModel(df[\"FTHG\"], df[\"FTAG\"], df[\"HomeTeam\"], df[\"AwayTeam\"])"
   ]
  },
  {
   "cell_type": "code",
   "execution_count": 11,
   "id": "c3084f2f-45d8-4aac-9dbf-d5734a811cc0",
   "metadata": {},
   "outputs": [
    {
     "name": "stderr",
     "output_type": "stream",
     "text": [
      "/opt/conda/lib/python3.9/site-packages/scipy/optimize/optimize.py:282: RuntimeWarning: Values in x were outside bounds during a minimize step, clipping to bounds\n",
      "  warnings.warn(\"Values in x were outside bounds during a \"\n",
      "/opt/conda/lib/python3.9/site-packages/pandas/core/arraylike.py:358: RuntimeWarning: invalid value encountered in log\n",
      "  result = getattr(ufunc, method)(*inputs, **kwargs)\n"
     ]
    }
   ],
   "source": [
    "dc.fit()"
   ]
  },
  {
   "cell_type": "code",
   "execution_count": 12,
   "id": "4d6cbc1b-fa2a-4c76-93bb-96dfb5798292",
   "metadata": {
    "tags": []
   },
   "outputs": [
    {
     "data": {
      "text/plain": [
       "Module: Penaltyblog\n",
       "\n",
       "Model: Dixon and Coles\n",
       "\n",
       "Number of parameters: 42\n",
       "Log Likelihood: -1064.943\n",
       "AIC: 2213.886\n",
       "\n",
       "Team                 Attack               Defence             \n",
       "------------------------------------------------------------\n",
       "Arsenal              1.36                 -0.858              \n",
       "Bournemouth          1.115                -0.555              \n",
       "Brighton             0.632                -0.733              \n",
       "Burnley              0.897                -0.592              \n",
       "Cardiff              0.615                -0.591              \n",
       "Chelsea              1.205                -1.13               \n",
       "Crystal Palace       1.007                -0.837              \n",
       "Everton              1.054                -0.977              \n",
       "Fulham               0.625                -0.433              \n",
       "Huddersfield         0.18                 -0.507              \n",
       "Leicester            0.996                -0.94               \n",
       "Liverpool            1.534                -1.679              \n",
       "Man City             1.599                -1.638              \n",
       "Man United           1.251                -0.807              \n",
       "Newcastle            0.806                -0.946              \n",
       "Southampton          0.897                -0.636              \n",
       "Tottenham            1.259                -1.137              \n",
       "Watford              1.031                -0.729              \n",
       "West Ham             1.023                -0.803              \n",
       "Wolves               0.914                -0.988              \n",
       "------------------------------------------------------------\n",
       "Home Advantage: 0.225\n",
       "Rho: -0.041"
      ]
     },
     "execution_count": 12,
     "metadata": {},
     "output_type": "execute_result"
    }
   ],
   "source": [
    "dc"
   ]
  },
  {
   "cell_type": "code",
   "execution_count": 13,
   "id": "e1150423-058d-40eb-8eb9-1c2e1455dc06",
   "metadata": {},
   "outputs": [
    {
     "data": {
      "text/plain": [
       "{'attack_Arsenal': 1.3601911791708892,\n",
       " 'attack_Bournemouth': 1.1145307240461475,\n",
       " 'attack_Brighton': 0.6321895363265042,\n",
       " 'attack_Burnley': 0.8970977474233514,\n",
       " 'attack_Cardiff': 0.614718346758065,\n",
       " 'attack_Chelsea': 1.2054631766079373,\n",
       " 'attack_Crystal Palace': 1.0066565931220084,\n",
       " 'attack_Everton': 1.0541841709895725,\n",
       " 'attack_Fulham': 0.6246566669840924,\n",
       " 'attack_Huddersfield': 0.18023347766337813,\n",
       " 'attack_Leicester': 0.9964723801388785,\n",
       " 'attack_Liverpool': 1.5337965942611675,\n",
       " 'attack_Man City': 1.5986872195471342,\n",
       " 'attack_Man United': 1.2510996911128331,\n",
       " 'attack_Newcastle': 0.8063670442934346,\n",
       " 'attack_Southampton': 0.8966160731893246,\n",
       " 'attack_Tottenham': 1.2590431240092954,\n",
       " 'attack_Watford': 1.0305630591196495,\n",
       " 'attack_West Ham': 1.0234853816377847,\n",
       " 'attack_Wolves': 0.9139478135985553,\n",
       " 'defence_Arsenal': -0.8578523243246394,\n",
       " 'defence_Bournemouth': -0.5551112760231923,\n",
       " 'defence_Brighton': -0.7332968897143658,\n",
       " 'defence_Burnley': -0.5924217806361621,\n",
       " 'defence_Cardiff': -0.5911296020618231,\n",
       " 'defence_Chelsea': -1.1298902868926304,\n",
       " 'defence_Crystal Palace': -0.8368301929170536,\n",
       " 'defence_Everton': -0.9774635977962726,\n",
       " 'defence_Fulham': -0.4327443951210357,\n",
       " 'defence_Huddersfield': -0.5072063498765077,\n",
       " 'defence_Leicester': -0.9398689898471313,\n",
       " 'defence_Liverpool': -1.6791997827931526,\n",
       " 'defence_Man City': -1.6381022348090715,\n",
       " 'defence_Man United': -0.8066164250103396,\n",
       " 'defence_Newcastle': -0.9459404297970053,\n",
       " 'defence_Southampton': -0.636471696044145,\n",
       " 'defence_Tottenham': -1.1368624647606962,\n",
       " 'defence_Watford': -0.7293561688785577,\n",
       " 'defence_West Ham': -0.8031609373547683,\n",
       " 'defence_Wolves': -0.9883498743245828,\n",
       " 'home_advantage': 0.22457978477097695,\n",
       " 'rho': -0.04099795054752323}"
      ]
     },
     "execution_count": 13,
     "metadata": {},
     "output_type": "execute_result"
    }
   ],
   "source": [
    "dc.get_params()"
   ]
  },
  {
   "cell_type": "code",
   "execution_count": 14,
   "id": "d1040f5c-4044-4cc0-bb9d-ac7a5efd27eb",
   "metadata": {},
   "outputs": [
    {
     "data": {
      "text/plain": [
       "Module: Penaltyblog\n",
       "\n",
       "Class: FootballProbabilityGrid\n",
       "\n",
       "Home Goal Expectation: 1.3057700841978466\n",
       "Away Goal Expectation: 1.2027271998317837\n",
       "\n",
       "Home Win: 0.38473277025139113\n",
       "Draw: 0.27955307378424477\n",
       "Away Win: 0.33571415594807"
      ]
     },
     "execution_count": 14,
     "metadata": {},
     "output_type": "execute_result"
    }
   ],
   "source": [
    "goals = dc.predict(\"Watford\", \"Wolves\")\n",
    "goals"
   ]
  },
  {
   "cell_type": "code",
   "execution_count": 15,
   "id": "c65d1449-f385-47eb-bf9b-4842c34a8974",
   "metadata": {},
   "outputs": [
    {
     "data": {
      "text/plain": [
       "[0.38473277025139113, 0.27955307378424477, 0.33571415594807]"
      ]
     },
     "execution_count": 15,
     "metadata": {},
     "output_type": "execute_result"
    }
   ],
   "source": [
    "goals.home_draw_away"
   ]
  },
  {
   "cell_type": "markdown",
   "id": "0e9c6036-27cf-4393-bc60-b43d501a16c2",
   "metadata": {},
   "source": [
    "### Rue Salvesen Model"
   ]
  },
  {
   "cell_type": "code",
   "execution_count": 16,
   "id": "470d4d34-6a0c-492e-ad4e-12f6521fae27",
   "metadata": {},
   "outputs": [],
   "source": [
    "rs = pb.poisson.RueSalvesenGoalModel(df[\"FTHG\"], df[\"FTAG\"], df[\"HomeTeam\"], df[\"AwayTeam\"])"
   ]
  },
  {
   "cell_type": "code",
   "execution_count": 17,
   "id": "573d3aaf-3f32-4bdb-8636-71528460e669",
   "metadata": {},
   "outputs": [
    {
     "name": "stderr",
     "output_type": "stream",
     "text": [
      "/opt/conda/lib/python3.9/site-packages/pandas/core/arraylike.py:358: RuntimeWarning: divide by zero encountered in log\n",
      "  result = getattr(ufunc, method)(*inputs, **kwargs)\n",
      "/opt/conda/lib/python3.9/site-packages/pandas/core/arraylike.py:358: RuntimeWarning: invalid value encountered in log\n",
      "  result = getattr(ufunc, method)(*inputs, **kwargs)\n"
     ]
    }
   ],
   "source": [
    "rs.fit()"
   ]
  },
  {
   "cell_type": "code",
   "execution_count": 18,
   "id": "a7dc51f8-38dd-4758-a359-06181b75e6c1",
   "metadata": {},
   "outputs": [
    {
     "data": {
      "text/plain": [
       "Module: Penaltyblog\n",
       "\n",
       "Model: Rue Salvesen\n",
       "\n",
       "Number of parameters: 43\n",
       "Log Likelihood: -1061.167\n",
       "AIC: 2208.334\n",
       "\n",
       "Team                 Attack               Defence             \n",
       "------------------------------------------------------------\n",
       "Arsenal              1.496                -0.988              \n",
       "Bournemouth          1.27                 -0.705              \n",
       "Brighton             0.559                -0.655              \n",
       "Burnley              0.964                -0.654              \n",
       "Cardiff              0.585                -0.556              \n",
       "Chelsea              1.183                -1.129              \n",
       "Crystal Palace       1.027                -0.852              \n",
       "Everton              1.034                -0.974              \n",
       "Fulham               0.653                -0.455              \n",
       "Huddersfield         0.023                -0.359              \n",
       "Leicester            0.978                -0.916              \n",
       "Liverpool            1.445                -1.585              \n",
       "Man City             1.503                -1.571              \n",
       "Man United           1.367                -0.917              \n",
       "Newcastle            0.72                 -0.854              \n",
       "Southampton          0.942                -0.693              \n",
       "Tottenham            1.243                -1.131              \n",
       "Watford              1.097                -0.79               \n",
       "West Ham             1.062                -0.836              \n",
       "Wolves               0.85                 -0.919              \n",
       "------------------------------------------------------------\n",
       "Home Advantage: 0.222\n",
       "Rho: -0.04\n",
       "Gamma: 0.692"
      ]
     },
     "execution_count": 18,
     "metadata": {},
     "output_type": "execute_result"
    }
   ],
   "source": [
    "rs"
   ]
  },
  {
   "cell_type": "code",
   "execution_count": 19,
   "id": "b7cf3060-28f3-4b99-9587-dfe34572b146",
   "metadata": {},
   "outputs": [
    {
     "data": {
      "text/plain": [
       "{'attack_Arsenal': 1.4960574633781003,\n",
       " 'attack_Bournemouth': 1.2701540413261327,\n",
       " 'attack_Brighton': 0.559186251363228,\n",
       " 'attack_Burnley': 0.9644520899122194,\n",
       " 'attack_Cardiff': 0.5847648397569006,\n",
       " 'attack_Chelsea': 1.1828466188120765,\n",
       " 'attack_Crystal Palace': 1.0273361069287597,\n",
       " 'attack_Everton': 1.0335248035400801,\n",
       " 'attack_Fulham': 0.6531864264818924,\n",
       " 'attack_Huddersfield': 0.023109559960240708,\n",
       " 'attack_Leicester': 0.977933119588144,\n",
       " 'attack_Liverpool': 1.4451581320799645,\n",
       " 'attack_Man City': 1.5025454369883477,\n",
       " 'attack_Man United': 1.366845541477835,\n",
       " 'attack_Newcastle': 0.720009733703693,\n",
       " 'attack_Southampton': 0.9416226570416543,\n",
       " 'attack_Tottenham': 1.2427047093744437,\n",
       " 'attack_Watford': 1.096790079793436,\n",
       " 'attack_West Ham': 1.06163359275858,\n",
       " 'attack_Wolves': 0.8501387957342722,\n",
       " 'defence_Arsenal': -0.9879049844176601,\n",
       " 'defence_Bournemouth': -0.704968272653022,\n",
       " 'defence_Brighton': -0.6545658993274335,\n",
       " 'defence_Burnley': -0.6541299575160815,\n",
       " 'defence_Cardiff': -0.5555542344325824,\n",
       " 'defence_Chelsea': -1.128898069212659,\n",
       " 'defence_Crystal Palace': -0.8518829374985971,\n",
       " 'defence_Everton': -0.9742632965054263,\n",
       " 'defence_Fulham': -0.45545035895833286,\n",
       " 'defence_Huddersfield': -0.3586836043107179,\n",
       " 'defence_Leicester': -0.915653821531362,\n",
       " 'defence_Liverpool': -1.5850200706445228,\n",
       " 'defence_Man City': -1.5713140731733608,\n",
       " 'defence_Man United': -0.9165982110339421,\n",
       " 'defence_Newcastle': -0.8538889602642802,\n",
       " 'defence_Southampton': -0.6925502345992922,\n",
       " 'defence_Tottenham': -1.1307038809506598,\n",
       " 'defence_Watford': -0.7898505955782175,\n",
       " 'defence_West Ham': -0.8356435683761823,\n",
       " 'defence_Wolves': -0.9188112323803922,\n",
       " 'home_advantage': 0.22164932659641978,\n",
       " 'rho': -0.04033232667301132,\n",
       " 'rue_salvesen': 0.6922490800541602}"
      ]
     },
     "execution_count": 19,
     "metadata": {},
     "output_type": "execute_result"
    }
   ],
   "source": [
    "rs.get_params()"
   ]
  },
  {
   "cell_type": "code",
   "execution_count": 40,
   "id": "a694d762-c6ad-4be9-b621-da3d773c0601",
   "metadata": {},
   "outputs": [
    {
     "data": {
      "text/plain": [
       "Module: Penaltyblog\n",
       "\n",
       "Class: FootballProbabilityGrid\n",
       "\n",
       "Home Goal Expectation: 1.3094663275662697\n",
       "Away Goal Expectation: 1.2096084394688094\n",
       "\n",
       "Home Win: 0.3843462702759874\n",
       "Draw: 0.2787256663458056\n",
       "Away Win: 0.3369280633610962"
      ]
     },
     "execution_count": 40,
     "metadata": {},
     "output_type": "execute_result"
    }
   ],
   "source": [
    "probs = rs.predict(\"Watford\", \"Wolves\")\n",
    "probs"
   ]
  },
  {
   "cell_type": "code",
   "execution_count": 31,
   "id": "d0e7f60c-48a3-45a2-968f-e204b8ee5090",
   "metadata": {},
   "outputs": [
    {
     "data": {
      "text/plain": [
       "[0.3843462702759874, 0.2787256663458056, 0.3369280633610962]"
      ]
     },
     "execution_count": 31,
     "metadata": {},
     "output_type": "execute_result"
    }
   ],
   "source": [
    "goals.home_draw_away"
   ]
  },
  {
   "cell_type": "markdown",
   "id": "4e5f5b3f-2845-4c61-9bb0-c0be847e2310",
   "metadata": {},
   "source": [
    "### Market Probabilities"
   ]
  },
  {
   "cell_type": "code",
   "execution_count": 41,
   "id": "3e8a4685-bdf8-40e2-873a-0d6bfb3e0b4d",
   "metadata": {},
   "outputs": [],
   "source": [
    "probs = rs.predict(\"Watford\", \"Wolves\")"
   ]
  },
  {
   "cell_type": "code",
   "execution_count": 42,
   "id": "aaabebd4-11f0-4831-9823-d88c178a43a5",
   "metadata": {},
   "outputs": [
    {
     "data": {
      "text/plain": [
       "0.4610704441088047"
      ]
     },
     "execution_count": 42,
     "metadata": {},
     "output_type": "execute_result"
    }
   ],
   "source": [
    "probs.total_goals(\"over\", 2.5)"
   ]
  },
  {
   "cell_type": "code",
   "execution_count": 46,
   "id": "96a0546b-fd35-4627-86ae-d75922b5b776",
   "metadata": {},
   "outputs": [
    {
     "data": {
      "text/plain": [
       "0.5389295558740843"
      ]
     },
     "execution_count": 46,
     "metadata": {},
     "output_type": "execute_result"
    }
   ],
   "source": [
    "probs.total_goals(\"under\", 2.5)"
   ]
  },
  {
   "cell_type": "code",
   "execution_count": 48,
   "id": "dce20362-d05a-4c13-b4fb-5fd65c73460b",
   "metadata": {},
   "outputs": [
    {
     "data": {
      "text/plain": [
       "0.8246856221675609"
      ]
     },
     "execution_count": 48,
     "metadata": {},
     "output_type": "execute_result"
    }
   ],
   "source": [
    "probs.asian_handicap(\"away\", -1.5)"
   ]
  },
  {
   "cell_type": "code",
   "execution_count": 47,
   "id": "ba647b60-fe49-42b8-8219-34f4ec665b77",
   "metadata": {},
   "outputs": [
    {
     "data": {
      "text/plain": [
       "0.17531437781532913"
      ]
     },
     "execution_count": 47,
     "metadata": {},
     "output_type": "execute_result"
    }
   ],
   "source": [
    "probs.asian_handicap(\"home\", 1.5)"
   ]
  },
  {
   "cell_type": "code",
   "execution_count": 37,
   "id": "41271301-456c-43a7-8053-29ef3bbde794",
   "metadata": {},
   "outputs": [
    {
     "data": {
      "text/plain": [
       "[0.3843462702759874, 0.2787256663458056, 0.3369280633610962]"
      ]
     },
     "execution_count": 37,
     "metadata": {},
     "output_type": "execute_result"
    }
   ],
   "source": [
    "probs.home_draw_away"
   ]
  },
  {
   "cell_type": "code",
   "execution_count": null,
   "id": "7109e34e-af7a-4500-86b2-79c8f0c52e82",
   "metadata": {},
   "outputs": [],
   "source": []
  },
  {
   "cell_type": "code",
   "execution_count": null,
   "id": "912bf917-6f32-41a7-bb83-37d1af18438d",
   "metadata": {},
   "outputs": [],
   "source": []
  }
 ],
 "metadata": {
  "kernelspec": {
   "display_name": "Python 3",
   "language": "python",
   "name": "python3"
  },
  "language_info": {
   "codemirror_mode": {
    "name": "ipython",
    "version": 3
   },
   "file_extension": ".py",
   "mimetype": "text/x-python",
   "name": "python",
   "nbconvert_exporter": "python",
   "pygments_lexer": "ipython3",
   "version": "3.9.4"
  }
 },
 "nbformat": 4,
 "nbformat_minor": 5
}
