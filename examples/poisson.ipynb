{
 "cells": [
  {
   "cell_type": "code",
   "execution_count": 1,
   "id": "cfbf8a03-a204-4835-96d3-f2ccc3c4a0d7",
   "metadata": {},
   "outputs": [],
   "source": [
    "%load_ext autoreload\n",
    "%autoreload 2\n",
    "import sys\n",
    "\n",
    "sys.path.append(\"../\")"
   ]
  },
  {
   "cell_type": "code",
   "execution_count": 2,
   "id": "496cbf3c-9772-4f12-94dc-62ffde0301a7",
   "metadata": {},
   "outputs": [],
   "source": [
    "import numpy as np\n",
    "import pandas as pd\n",
    "import penaltyblog as pb\n",
    "from scipy.optimize import minimize\n",
    "from scipy.stats import poisson"
   ]
  },
  {
   "cell_type": "code",
   "execution_count": 3,
   "id": "622f4dee-ed8d-4a76-a7f9-c81bc849e96a",
   "metadata": {},
   "outputs": [
    {
     "data": {
      "text/html": [
       "<div>\n",
       "<style scoped>\n",
       "    .dataframe tbody tr th:only-of-type {\n",
       "        vertical-align: middle;\n",
       "    }\n",
       "\n",
       "    .dataframe tbody tr th {\n",
       "        vertical-align: top;\n",
       "    }\n",
       "\n",
       "    .dataframe thead th {\n",
       "        text-align: right;\n",
       "    }\n",
       "</style>\n",
       "<table border=\"1\" class=\"dataframe\">\n",
       "  <thead>\n",
       "    <tr style=\"text-align: right;\">\n",
       "      <th></th>\n",
       "      <th>Date</th>\n",
       "      <th>HomeTeam</th>\n",
       "      <th>AwayTeam</th>\n",
       "      <th>FTHG</th>\n",
       "      <th>FTAG</th>\n",
       "    </tr>\n",
       "  </thead>\n",
       "  <tbody>\n",
       "    <tr>\n",
       "      <th>0</th>\n",
       "      <td>2018-08-10</td>\n",
       "      <td>Man United</td>\n",
       "      <td>Leicester</td>\n",
       "      <td>2</td>\n",
       "      <td>1</td>\n",
       "    </tr>\n",
       "    <tr>\n",
       "      <th>1</th>\n",
       "      <td>2018-08-11</td>\n",
       "      <td>Bournemouth</td>\n",
       "      <td>Cardiff</td>\n",
       "      <td>2</td>\n",
       "      <td>0</td>\n",
       "    </tr>\n",
       "    <tr>\n",
       "      <th>2</th>\n",
       "      <td>2018-08-11</td>\n",
       "      <td>Fulham</td>\n",
       "      <td>Crystal Palace</td>\n",
       "      <td>0</td>\n",
       "      <td>2</td>\n",
       "    </tr>\n",
       "    <tr>\n",
       "      <th>3</th>\n",
       "      <td>2018-08-11</td>\n",
       "      <td>Huddersfield</td>\n",
       "      <td>Chelsea</td>\n",
       "      <td>0</td>\n",
       "      <td>3</td>\n",
       "    </tr>\n",
       "    <tr>\n",
       "      <th>4</th>\n",
       "      <td>2018-08-11</td>\n",
       "      <td>Newcastle</td>\n",
       "      <td>Tottenham</td>\n",
       "      <td>1</td>\n",
       "      <td>2</td>\n",
       "    </tr>\n",
       "  </tbody>\n",
       "</table>\n",
       "</div>"
      ],
      "text/plain": [
       "        Date      HomeTeam        AwayTeam  FTHG  FTAG\n",
       "0 2018-08-10    Man United       Leicester     2     1\n",
       "1 2018-08-11   Bournemouth         Cardiff     2     0\n",
       "2 2018-08-11        Fulham  Crystal Palace     0     2\n",
       "3 2018-08-11  Huddersfield         Chelsea     0     3\n",
       "4 2018-08-11     Newcastle       Tottenham     1     2"
      ]
     },
     "execution_count": 3,
     "metadata": {},
     "output_type": "execute_result"
    }
   ],
   "source": [
    "df = pb.footballdata.fetch_data(\"England\", 2018, 0)\n",
    "df[[\"Date\", \"HomeTeam\", \"AwayTeam\", \"FTHG\", \"FTAG\"]].head()"
   ]
  },
  {
   "cell_type": "markdown",
   "id": "5d1b5c0b-83a9-4a98-9ce3-d2a63493ad1f",
   "metadata": {},
   "source": [
    "### Poisson Model"
   ]
  },
  {
   "cell_type": "code",
   "execution_count": 4,
   "id": "e06c5ae9-c5b9-4802-bf15-62b5661b7ac9",
   "metadata": {},
   "outputs": [],
   "source": [
    "pois = pb.poisson.PoissonGoalsModel(\n",
    "    df[\"FTHG\"], df[\"FTAG\"], df[\"HomeTeam\"], df[\"AwayTeam\"]\n",
    ")"
   ]
  },
  {
   "cell_type": "code",
   "execution_count": 5,
   "id": "a3b31dde-449e-4ddd-b741-361ca16fe4ac",
   "metadata": {},
   "outputs": [
    {
     "name": "stdout",
     "output_type": "stream",
     "text": [
      "12.9 s ± 0 ns per loop (mean ± std. dev. of 1 run, 1 loop each)\n"
     ]
    }
   ],
   "source": [
    "%%timeit -n 1 -r 1\n",
    "pois.fit()"
   ]
  },
  {
   "cell_type": "code",
   "execution_count": 6,
   "id": "ab69e99c-1fbd-4b5f-8331-013c376f310b",
   "metadata": {},
   "outputs": [
    {
     "data": {
      "text/plain": [
       "Module: Penaltyblog\n",
       "\n",
       "Model: Poisson\n",
       "\n",
       "Number of parameters: 41\n",
       "Log Likelihood: -1065.077\n",
       "AIC: 2212.154\n",
       "\n",
       "Team                 Attack               Defence             \n",
       "------------------------------------------------------------\n",
       "Arsenal              1.362                -0.856              \n",
       "Bournemouth          1.115                -0.555              \n",
       "Brighton             0.634                -0.731              \n",
       "Burnley              0.894                -0.595              \n",
       "Cardiff              0.614                -0.592              \n",
       "Chelsea              1.202                -1.135              \n",
       "Crystal Palace       1.004                -0.839              \n",
       "Everton              1.055                -0.978              \n",
       "Fulham               0.626                -0.431              \n",
       "Huddersfield         0.184                -0.507              \n",
       "Leicester            0.999                -0.939              \n",
       "Liverpool            1.532                -1.683              \n",
       "Man City             1.598                -1.633              \n",
       "Man United           1.249                -0.807              \n",
       "Newcastle            0.805                -0.948              \n",
       "Southampton          0.891                -0.641              \n",
       "Tottenham            1.264                -1.131              \n",
       "Watford              1.03                 -0.731              \n",
       "West Ham             1.026                -0.801              \n",
       "Wolves               0.916                -0.985              \n",
       "------------------------------------------------------------\n",
       "Home Advantage: 0.225"
      ]
     },
     "execution_count": 6,
     "metadata": {},
     "output_type": "execute_result"
    }
   ],
   "source": [
    "pois"
   ]
  },
  {
   "cell_type": "code",
   "execution_count": 7,
   "id": "41408ae9-d384-496b-9ac8-88b605ef64fd",
   "metadata": {},
   "outputs": [
    {
     "data": {
      "text/plain": [
       "{'attack_Arsenal': 1.3621745496246604,\n",
       " 'attack_Bournemouth': 1.115185287448802,\n",
       " 'attack_Brighton': 0.6339106634211633,\n",
       " 'attack_Burnley': 0.8937361704562544,\n",
       " 'attack_Cardiff': 0.6136874108839112,\n",
       " 'attack_Chelsea': 1.2024715923923994,\n",
       " 'attack_Crystal Palace': 1.0043997814678136,\n",
       " 'attack_Everton': 1.054819293459089,\n",
       " 'attack_Fulham': 0.6255680483307611,\n",
       " 'attack_Huddersfield': 0.1843965301887161,\n",
       " 'attack_Leicester': 0.9994828625132763,\n",
       " 'attack_Liverpool': 1.5319631797676319,\n",
       " 'attack_Man City': 1.598332346974268,\n",
       " 'attack_Man United': 1.248697804338311,\n",
       " 'attack_Newcastle': 0.8049189177444026,\n",
       " 'attack_Southampton': 0.890756819929392,\n",
       " 'attack_Tottenham': 1.2641739492035766,\n",
       " 'attack_Watford': 1.0298067450193877,\n",
       " 'attack_West Ham': 1.0258464326712924,\n",
       " 'attack_Wolves': 0.9156716141500305,\n",
       " 'defence_Arsenal': -0.8560763214410562,\n",
       " 'defence_Bournemouth': -0.5553098917626262,\n",
       " 'defence_Brighton': -0.730743005878916,\n",
       " 'defence_Burnley': -0.595420417769868,\n",
       " 'defence_Cardiff': -0.5916638368817484,\n",
       " 'defence_Chelsea': -1.1350952175673126,\n",
       " 'defence_Crystal Palace': -0.8393956285393054,\n",
       " 'defence_Everton': -0.9784533041221393,\n",
       " 'defence_Fulham': -0.430925011895575,\n",
       " 'defence_Huddersfield': -0.5066134675112917,\n",
       " 'defence_Leicester': -0.9387303233120778,\n",
       " 'defence_Liverpool': -1.68320786224058,\n",
       " 'defence_Man City': -1.6326953918088962,\n",
       " 'defence_Man United': -0.8067397678672603,\n",
       " 'defence_Newcastle': -0.9475069846056278,\n",
       " 'defence_Southampton': -0.640669312457307,\n",
       " 'defence_Tottenham': -1.1311404081951666,\n",
       " 'defence_Watford': -0.7308580999996867,\n",
       " 'defence_West Ham': -0.8012699964204352,\n",
       " 'defence_Wolves': -0.9852936244157655,\n",
       " 'home_advantage': 0.22482103541489165}"
      ]
     },
     "execution_count": 7,
     "metadata": {},
     "output_type": "execute_result"
    }
   ],
   "source": [
    "pois.get_params()"
   ]
  },
  {
   "cell_type": "code",
   "execution_count": 8,
   "id": "ad49bec5-e000-484e-9446-52342b21c67f",
   "metadata": {},
   "outputs": [
    {
     "data": {
      "text/plain": [
       "Module: Penaltyblog\n",
       "\n",
       "Class: FootballProbabilityGrid\n",
       "\n",
       "Home Goal Expectation: 1.3090925091085217\n",
       "Away Goal Expectation: 1.202994077835413\n",
       "\n",
       "Home Win: 0.3908094738965409\n",
       "Draw: 0.26882054755628126\n",
       "Away Win: 0.3403699785304319"
      ]
     },
     "execution_count": 8,
     "metadata": {},
     "output_type": "execute_result"
    }
   ],
   "source": [
    "goals = pois.predict(\"Watford\", \"Wolves\")\n",
    "goals"
   ]
  },
  {
   "cell_type": "code",
   "execution_count": 9,
   "id": "b12356a2-29fc-48e8-ac7b-15d086370b5e",
   "metadata": {},
   "outputs": [
    {
     "data": {
      "text/plain": [
       "[0.3908094738965409, 0.26882054755628126, 0.3403699785304319]"
      ]
     },
     "execution_count": 9,
     "metadata": {},
     "output_type": "execute_result"
    }
   ],
   "source": [
    "goals.home_draw_away"
   ]
  },
  {
   "cell_type": "markdown",
   "id": "ac9b02d9-e8c7-4f02-bbcd-89081efcc08b",
   "metadata": {},
   "source": [
    "### Dixon and Coles"
   ]
  },
  {
   "cell_type": "code",
   "execution_count": 10,
   "id": "154a4641-6166-4ab3-aa0e-3cb150abd796",
   "metadata": {},
   "outputs": [],
   "source": [
    "dc = pb.poisson.DixonColesGoalModel(\n",
    "    df[\"FTHG\"], df[\"FTAG\"], df[\"HomeTeam\"], df[\"AwayTeam\"]\n",
    ")"
   ]
  },
  {
   "cell_type": "code",
   "execution_count": 11,
   "id": "c3084f2f-45d8-4aac-9dbf-d5734a811cc0",
   "metadata": {},
   "outputs": [
    {
     "name": "stdout",
     "output_type": "stream",
     "text": [
      "18.7 s ± 0 ns per loop (mean ± std. dev. of 1 run, 1 loop each)\n"
     ]
    }
   ],
   "source": [
    "%%timeit -n 1 -r 1\n",
    "dc.fit()"
   ]
  },
  {
   "cell_type": "code",
   "execution_count": 12,
   "id": "4d6cbc1b-fa2a-4c76-93bb-96dfb5798292",
   "metadata": {
    "tags": []
   },
   "outputs": [
    {
     "data": {
      "text/plain": [
       "Module: Penaltyblog\n",
       "\n",
       "Model: Dixon and Coles\n",
       "\n",
       "Number of parameters: 42\n",
       "Log Likelihood: -1064.943\n",
       "AIC: 2213.886\n",
       "\n",
       "Team                 Attack               Defence             \n",
       "------------------------------------------------------------\n",
       "Arsenal              1.36                 -0.858              \n",
       "Bournemouth          1.115                -0.555              \n",
       "Brighton             0.632                -0.733              \n",
       "Burnley              0.897                -0.592              \n",
       "Cardiff              0.615                -0.591              \n",
       "Chelsea              1.205                -1.13               \n",
       "Crystal Palace       1.007                -0.837              \n",
       "Everton              1.054                -0.977              \n",
       "Fulham               0.625                -0.433              \n",
       "Huddersfield         0.18                 -0.507              \n",
       "Leicester            0.996                -0.94               \n",
       "Liverpool            1.534                -1.679              \n",
       "Man City             1.599                -1.638              \n",
       "Man United           1.251                -0.807              \n",
       "Newcastle            0.806                -0.946              \n",
       "Southampton          0.897                -0.636              \n",
       "Tottenham            1.259                -1.137              \n",
       "Watford              1.031                -0.729              \n",
       "West Ham             1.023                -0.803              \n",
       "Wolves               0.914                -0.988              \n",
       "------------------------------------------------------------\n",
       "Home Advantage: 0.225\n",
       "Rho: -0.041"
      ]
     },
     "execution_count": 12,
     "metadata": {},
     "output_type": "execute_result"
    }
   ],
   "source": [
    "dc"
   ]
  },
  {
   "cell_type": "code",
   "execution_count": 13,
   "id": "e1150423-058d-40eb-8eb9-1c2e1455dc06",
   "metadata": {},
   "outputs": [
    {
     "data": {
      "text/plain": [
       "{'attack_Arsenal': 1.3601847051449685,\n",
       " 'attack_Bournemouth': 1.1145184817774574,\n",
       " 'attack_Brighton': 0.6322117765690474,\n",
       " 'attack_Burnley': 0.8970666604876617,\n",
       " 'attack_Cardiff': 0.6147208002064647,\n",
       " 'attack_Chelsea': 1.2053671601802987,\n",
       " 'attack_Crystal Palace': 1.0066731079751312,\n",
       " 'attack_Everton': 1.0541811871458513,\n",
       " 'attack_Fulham': 0.6247167441160756,\n",
       " 'attack_Huddersfield': 0.1802366555401616,\n",
       " 'attack_Leicester': 0.9964556127567427,\n",
       " 'attack_Liverpool': 1.533777769321428,\n",
       " 'attack_Man City': 1.5986946689807402,\n",
       " 'attack_Man United': 1.2510850286831325,\n",
       " 'attack_Newcastle': 0.8064977155628419,\n",
       " 'attack_Southampton': 0.8965791803986825,\n",
       " 'attack_Tottenham': 1.2590221553622505,\n",
       " 'attack_Watford': 1.030579198194093,\n",
       " 'attack_West Ham': 1.023452448569123,\n",
       " 'attack_Wolves': 0.9139789430224474,\n",
       " 'defence_Arsenal': -0.8579414650270959,\n",
       " 'defence_Bournemouth': -0.5551972901001498,\n",
       " 'defence_Brighton': -0.7332831080243792,\n",
       " 'defence_Burnley': -0.5924349227742409,\n",
       " 'defence_Cardiff': -0.5912413367620669,\n",
       " 'defence_Chelsea': -1.1298436848546576,\n",
       " 'defence_Crystal Palace': -0.8368995746914007,\n",
       " 'defence_Everton': -0.9774581501789226,\n",
       " 'defence_Fulham': -0.4327326866817223,\n",
       " 'defence_Huddersfield': -0.5072015686208802,\n",
       " 'defence_Leicester': -0.9397690376966656,\n",
       " 'defence_Liverpool': -1.6792242651657967,\n",
       " 'defence_Man City': -1.6380000036213043,\n",
       " 'defence_Man United': -0.8066123300773901,\n",
       " 'defence_Newcastle': -0.945948866732319,\n",
       " 'defence_Southampton': -0.636454968785757,\n",
       " 'defence_Tottenham': -1.1369438840873543,\n",
       " 'defence_Watford': -0.7292904669121466,\n",
       " 'defence_West Ham': -0.8031749681528529,\n",
       " 'defence_Wolves': -0.9883437403040336,\n",
       " 'home_advantage': 0.22458489084663688,\n",
       " 'rho': -0.04092696580461799}"
      ]
     },
     "execution_count": 13,
     "metadata": {},
     "output_type": "execute_result"
    }
   ],
   "source": [
    "dc.get_params()"
   ]
  },
  {
   "cell_type": "code",
   "execution_count": 14,
   "id": "d1040f5c-4044-4cc0-bb9d-ac7a5efd27eb",
   "metadata": {},
   "outputs": [
    {
     "data": {
      "text/plain": [
       "Module: Penaltyblog\n",
       "\n",
       "Class: FootballProbabilityGrid\n",
       "\n",
       "Home Goal Expectation: 1.3058058355892344\n",
       "Away Goal Expectation: 1.2028436672174572\n",
       "\n",
       "Home Win: 0.3847266083053733\n",
       "Draw: 0.2795257473371696\n",
       "Away Win: 0.3357476443411532"
      ]
     },
     "execution_count": 14,
     "metadata": {},
     "output_type": "execute_result"
    }
   ],
   "source": [
    "goals = dc.predict(\"Watford\", \"Wolves\")\n",
    "goals"
   ]
  },
  {
   "cell_type": "code",
   "execution_count": 15,
   "id": "c65d1449-f385-47eb-bf9b-4842c34a8974",
   "metadata": {},
   "outputs": [
    {
     "data": {
      "text/plain": [
       "[0.3847266083053733, 0.2795257473371696, 0.3357476443411532]"
      ]
     },
     "execution_count": 15,
     "metadata": {},
     "output_type": "execute_result"
    }
   ],
   "source": [
    "goals.home_draw_away"
   ]
  },
  {
   "cell_type": "markdown",
   "id": "0e9c6036-27cf-4393-bc60-b43d501a16c2",
   "metadata": {},
   "source": [
    "### Rue Salvesen Model"
   ]
  },
  {
   "cell_type": "code",
   "execution_count": 16,
   "id": "470d4d34-6a0c-492e-ad4e-12f6521fae27",
   "metadata": {},
   "outputs": [],
   "source": [
    "rs = pb.poisson.RueSalvesenGoalModel(\n",
    "    df[\"FTHG\"], df[\"FTAG\"], df[\"HomeTeam\"], df[\"AwayTeam\"]\n",
    ")"
   ]
  },
  {
   "cell_type": "code",
   "execution_count": 17,
   "id": "573d3aaf-3f32-4bdb-8636-71528460e669",
   "metadata": {},
   "outputs": [
    {
     "name": "stdout",
     "output_type": "stream",
     "text": [
      "28 s ± 0 ns per loop (mean ± std. dev. of 1 run, 1 loop each)\n"
     ]
    }
   ],
   "source": [
    "%%timeit -n 1 -r 1\n",
    "rs.fit()"
   ]
  },
  {
   "cell_type": "code",
   "execution_count": 18,
   "id": "a7dc51f8-38dd-4758-a359-06181b75e6c1",
   "metadata": {},
   "outputs": [
    {
     "data": {
      "text/plain": [
       "Module: Penaltyblog\n",
       "\n",
       "Model: Rue Salvesen\n",
       "\n",
       "Number of parameters: 43\n",
       "Log Likelihood: -1061.167\n",
       "AIC: 2208.334\n",
       "\n",
       "Team                 Attack               Defence             \n",
       "------------------------------------------------------------\n",
       "Arsenal              1.452                -0.943              \n",
       "Bournemouth          1.219                -0.654              \n",
       "Brighton             0.584                -0.68               \n",
       "Burnley              0.943                -0.633              \n",
       "Cardiff              0.596                -0.566              \n",
       "Chelsea              1.191                -1.137              \n",
       "Crystal Palace       1.021                -0.846              \n",
       "Everton              1.041                -0.982              \n",
       "Fulham               0.645                -0.447              \n",
       "Huddersfield         0.076                -0.412              \n",
       "Leicester            0.985                -0.923              \n",
       "Liverpool            1.476                -1.615              \n",
       "Man City             1.525                -1.594              \n",
       "Man United           1.329                -0.879              \n",
       "Newcastle            0.75                 -0.884              \n",
       "Southampton          0.927                -0.678              \n",
       "Tottenham            1.244                -1.132              \n",
       "Watford              1.076                -0.769              \n",
       "West Ham             1.05                 -0.824              \n",
       "Wolves               0.872                -0.941              \n",
       "------------------------------------------------------------\n",
       "Home Advantage: 0.222\n",
       "Rho: -0.04\n",
       "Gamma: 0.461"
      ]
     },
     "execution_count": 18,
     "metadata": {},
     "output_type": "execute_result"
    }
   ],
   "source": [
    "rs"
   ]
  },
  {
   "cell_type": "code",
   "execution_count": 19,
   "id": "b7cf3060-28f3-4b99-9587-dfe34572b146",
   "metadata": {},
   "outputs": [
    {
     "data": {
      "text/plain": [
       "{'attack_Arsenal': 1.4515499652333708,\n",
       " 'attack_Bournemouth': 1.2191251425992289,\n",
       " 'attack_Brighton': 0.5843791338523971,\n",
       " 'attack_Burnley': 0.9428394150636694,\n",
       " 'attack_Cardiff': 0.5956849400952619,\n",
       " 'attack_Chelsea': 1.1908298214241264,\n",
       " 'attack_Crystal Palace': 1.0212979883565116,\n",
       " 'attack_Everton': 1.04093244398572,\n",
       " 'attack_Fulham': 0.6445841286347946,\n",
       " 'attack_Huddersfield': 0.07606195171717726,\n",
       " 'attack_Leicester': 0.9849862932464387,\n",
       " 'attack_Liverpool': 1.4755351937422723,\n",
       " 'attack_Man City': 1.5247245284887485,\n",
       " 'attack_Man United': 1.3290620603598147,\n",
       " 'attack_Newcastle': 0.7496897900593501,\n",
       " 'attack_Southampton': 0.9270992466535436,\n",
       " 'attack_Tottenham': 1.2439656368821477,\n",
       " 'attack_Watford': 1.0755744438420514,\n",
       " 'attack_West Ham': 1.0497875097666782,\n",
       " 'attack_Wolves': 0.8722903659934693,\n",
       " 'defence_Arsenal': -0.9434890990774417,\n",
       " 'defence_Bournemouth': -0.6539566991571978,\n",
       " 'defence_Brighton': -0.6797746720168024,\n",
       " 'defence_Burnley': -0.6325068403959166,\n",
       " 'defence_Cardiff': -0.5664153962311339,\n",
       " 'defence_Chelsea': -1.136903284820732,\n",
       " 'defence_Crystal Palace': -0.8458221371184556,\n",
       " 'defence_Everton': -0.9816834581748712,\n",
       " 'defence_Fulham': -0.4468083282735708,\n",
       " 'defence_Huddersfield': -0.4116225918770486,\n",
       " 'defence_Leicester': -0.9226799325665792,\n",
       " 'defence_Liverpool': -1.6154202970094313,\n",
       " 'defence_Man City': -1.5935102342961114,\n",
       " 'defence_Man United': -0.8788160212581563,\n",
       " 'defence_Newcastle': -0.8835714580027304,\n",
       " 'defence_Southampton': -0.6779957699058927,\n",
       " 'defence_Tottenham': -1.131957532165431,\n",
       " 'defence_Watford': -0.7686255591482313,\n",
       " 'defence_West Ham': -0.8237646517883742,\n",
       " 'defence_Wolves': -0.9409746464350264,\n",
       " 'home_advantage': 0.2216501745594267,\n",
       " 'rho': -0.040307753895749115,\n",
       " 'rue_salvesen': 0.4613584207571336}"
      ]
     },
     "execution_count": 19,
     "metadata": {},
     "output_type": "execute_result"
    }
   ],
   "source": [
    "rs.get_params()"
   ]
  },
  {
   "cell_type": "code",
   "execution_count": 20,
   "id": "a694d762-c6ad-4be9-b621-da3d773c0601",
   "metadata": {},
   "outputs": [
    {
     "data": {
      "text/plain": [
       "Module: Penaltyblog\n",
       "\n",
       "Class: FootballProbabilityGrid\n",
       "\n",
       "Home Goal Expectation: 1.3094395353322117\n",
       "Away Goal Expectation: 1.2096312592832934\n",
       "\n",
       "Home Win: 0.38433731314981423\n",
       "Draw: 0.27872007475335486\n",
       "Away Win: 0.33694261207972276"
      ]
     },
     "execution_count": 20,
     "metadata": {},
     "output_type": "execute_result"
    }
   ],
   "source": [
    "probs = rs.predict(\"Watford\", \"Wolves\")\n",
    "probs"
   ]
  },
  {
   "cell_type": "code",
   "execution_count": 21,
   "id": "d0e7f60c-48a3-45a2-968f-e204b8ee5090",
   "metadata": {},
   "outputs": [
    {
     "data": {
      "text/plain": [
       "[0.3847266083053733, 0.2795257473371696, 0.3357476443411532]"
      ]
     },
     "execution_count": 21,
     "metadata": {},
     "output_type": "execute_result"
    }
   ],
   "source": [
    "goals.home_draw_away"
   ]
  },
  {
   "cell_type": "markdown",
   "id": "4e5f5b3f-2845-4c61-9bb0-c0be847e2310",
   "metadata": {},
   "source": [
    "### Market Probabilities"
   ]
  },
  {
   "cell_type": "code",
   "execution_count": 22,
   "id": "3e8a4685-bdf8-40e2-873a-0d6bfb3e0b4d",
   "metadata": {},
   "outputs": [],
   "source": [
    "probs = rs.predict(\"Watford\", \"Wolves\")"
   ]
  },
  {
   "cell_type": "code",
   "execution_count": 23,
   "id": "aaabebd4-11f0-4831-9823-d88c178a43a5",
   "metadata": {},
   "outputs": [
    {
     "data": {
      "text/plain": [
       "0.46106942905949866"
      ]
     },
     "execution_count": 23,
     "metadata": {},
     "output_type": "execute_result"
    }
   ],
   "source": [
    "probs.total_goals(\"over\", 2.5)"
   ]
  },
  {
   "cell_type": "code",
   "execution_count": 24,
   "id": "96a0546b-fd35-4627-86ae-d75922b5b776",
   "metadata": {},
   "outputs": [
    {
     "data": {
      "text/plain": [
       "0.5389305709233934"
      ]
     },
     "execution_count": 24,
     "metadata": {},
     "output_type": "execute_result"
    }
   ],
   "source": [
    "probs.total_goals(\"under\", 2.5)"
   ]
  },
  {
   "cell_type": "code",
   "execution_count": 25,
   "id": "dce20362-d05a-4c13-b4fb-5fd65c73460b",
   "metadata": {},
   "outputs": [
    {
     "data": {
      "text/plain": [
       "0.8246939511562793"
      ]
     },
     "execution_count": 25,
     "metadata": {},
     "output_type": "execute_result"
    }
   ],
   "source": [
    "probs.asian_handicap(\"away\", -1.5)"
   ]
  },
  {
   "cell_type": "code",
   "execution_count": 26,
   "id": "ba647b60-fe49-42b8-8219-34f4ec665b77",
   "metadata": {},
   "outputs": [
    {
     "data": {
      "text/plain": [
       "0.1753060488266135"
      ]
     },
     "execution_count": 26,
     "metadata": {},
     "output_type": "execute_result"
    }
   ],
   "source": [
    "probs.asian_handicap(\"home\", 1.5)"
   ]
  },
  {
   "cell_type": "code",
   "execution_count": 27,
   "id": "41271301-456c-43a7-8053-29ef3bbde794",
   "metadata": {},
   "outputs": [
    {
     "data": {
      "text/plain": [
       "[0.38433731314981423, 0.27872007475335486, 0.33694261207972276]"
      ]
     },
     "execution_count": 27,
     "metadata": {},
     "output_type": "execute_result"
    }
   ],
   "source": [
    "probs.home_draw_away"
   ]
  },
  {
   "cell_type": "markdown",
   "id": "67938585-3275-4594-a271-b22c128c83f8",
   "metadata": {},
   "source": [
    "### Time Decay"
   ]
  },
  {
   "cell_type": "code",
   "execution_count": 28,
   "id": "cf9199fe-9723-4c14-b65b-a0362fea846b",
   "metadata": {},
   "outputs": [],
   "source": [
    "df = pd.concat(\n",
    "    [\n",
    "        pb.footballdata.fetch_data(\"england\", 2016, 0),\n",
    "        pb.footballdata.fetch_data(\"england\", 2017, 0),\n",
    "        pb.footballdata.fetch_data(\"england\", 2018, 0),\n",
    "        pb.footballdata.fetch_data(\"england\", 2019, 0),\n",
    "        pb.footballdata.fetch_data(\"england\", 2020, 0),\n",
    "    ]\n",
    ").reset_index()"
   ]
  },
  {
   "cell_type": "code",
   "execution_count": 29,
   "id": "93d97cac-792b-4816-b98e-77988101c3fc",
   "metadata": {},
   "outputs": [],
   "source": [
    "weights = pb.poisson.dixon_coles_weights(df[\"Date\"], 0.0018)"
   ]
  },
  {
   "cell_type": "code",
   "execution_count": 30,
   "id": "858e8fe7-319a-49c7-a4fe-501e219da2e4",
   "metadata": {},
   "outputs": [],
   "source": [
    "dc = pb.poisson.DixonColesGoalModel(\n",
    "    df[\"FTHG\"],\n",
    "    df[\"FTAG\"],\n",
    "    df[\"HomeTeam\"],\n",
    "    df[\"AwayTeam\"],\n",
    "    weights,\n",
    ")\n",
    "\n",
    "dc.fit()"
   ]
  },
  {
   "cell_type": "code",
   "execution_count": 31,
   "id": "f5432181-510f-427c-b168-d29b5d856139",
   "metadata": {},
   "outputs": [
    {
     "data": {
      "text/plain": [
       "Module: Penaltyblog\n",
       "\n",
       "Model: Dixon and Coles\n",
       "\n",
       "Number of parameters: 62\n",
       "Log Likelihood: -1753.91\n",
       "AIC: 3631.82\n",
       "\n",
       "Team                 Attack               Defence             \n",
       "------------------------------------------------------------\n",
       "Arsenal              1.338                -1.11               \n",
       "Aston Villa          1.148                -0.936              \n",
       "Bournemouth          1.08                 -0.681              \n",
       "Brighton             0.885                -0.991              \n",
       "Burnley              0.888                -0.913              \n",
       "Cardiff              0.782                -0.672              \n",
       "Chelsea              1.365                -1.165              \n",
       "Crystal Palace       0.955                -0.81               \n",
       "Everton              1.074                -0.996              \n",
       "Fulham               0.589                -0.86               \n",
       "Huddersfield         0.414                -0.65               \n",
       "Hull                 0.82                 -0.471              \n",
       "Leeds                1.393                -0.945              \n",
       "Leicester            1.387                -0.974              \n",
       "Liverpool            1.561                -1.27               \n",
       "Man City             1.749                -1.415              \n",
       "Man United           1.48                 -1.165              \n",
       "Middlesbrough        0.453                -0.874              \n",
       "Newcastle            1.045                -0.839              \n",
       "Norwich              0.391                -0.584              \n",
       "Sheffield United     0.521                -0.916              \n",
       "Southampton          1.109                -0.741              \n",
       "Stoke                0.805                -0.745              \n",
       "Sunderland           0.52                 -0.64               \n",
       "Swansea              0.727                -0.782              \n",
       "Tottenham            1.441                -1.102              \n",
       "Watford              0.969                -0.735              \n",
       "West Brom            0.854                -0.643              \n",
       "West Ham             1.283                -0.904              \n",
       "Wolves               0.974                -1.045              \n",
       "------------------------------------------------------------\n",
       "Home Advantage: 0.129\n",
       "Rho: -0.04"
      ]
     },
     "execution_count": 31,
     "metadata": {},
     "output_type": "execute_result"
    }
   ],
   "source": [
    "dc"
   ]
  },
  {
   "cell_type": "code",
   "execution_count": null,
   "id": "2434443f-4335-48ac-bab1-07f1690e11a8",
   "metadata": {},
   "outputs": [],
   "source": []
  }
 ],
 "metadata": {
  "kernelspec": {
   "display_name": "Python 3",
   "language": "python",
   "name": "python3"
  },
  "language_info": {
   "codemirror_mode": {
    "name": "ipython",
    "version": 3
   },
   "file_extension": ".py",
   "mimetype": "text/x-python",
   "name": "python",
   "nbconvert_exporter": "python",
   "pygments_lexer": "ipython3",
   "version": "3.9.4"
  }
 },
 "nbformat": 4,
 "nbformat_minor": 5
}
