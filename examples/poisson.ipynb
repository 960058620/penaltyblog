{
 "cells": [
  {
   "cell_type": "code",
   "execution_count": 1,
   "id": "cfbf8a03-a204-4835-96d3-f2ccc3c4a0d7",
   "metadata": {},
   "outputs": [],
   "source": [
    "%load_ext autoreload\n",
    "%autoreload 2\n",
    "import sys\n",
    "\n",
    "sys.path.append(\"../\")"
   ]
  },
  {
   "cell_type": "code",
   "execution_count": 4,
   "id": "c9375abe-3c3b-4e2f-bc6d-deb09c05fa50",
   "metadata": {},
   "outputs": [
    {
     "name": "stdout",
     "output_type": "stream",
     "text": [
      "Requirement already satisfied: tabulate in /opt/conda/lib/python3.9/site-packages (0.8.9)\n",
      "\u001b[33mWARNING: You are using pip version 20.2; however, version 21.1.2 is available.\n",
      "You should consider upgrading via the '/opt/conda/bin/python3.9 -m pip install --upgrade pip' command.\u001b[0m\n"
     ]
    }
   ],
   "source": [
    "! pip install tabulate"
   ]
  },
  {
   "cell_type": "code",
   "execution_count": 2,
   "id": "496cbf3c-9772-4f12-94dc-62ffde0301a7",
   "metadata": {},
   "outputs": [],
   "source": [
    "import numpy as np\n",
    "import pandas as pd\n",
    "import penaltyblog as pb\n",
    "from scipy.optimize import minimize\n",
    "from scipy.stats import poisson"
   ]
  },
  {
   "cell_type": "code",
   "execution_count": 4,
   "id": "ed7afd29-dd4f-4863-9d84-4087edb78814",
   "metadata": {},
   "outputs": [
    {
     "data": {
      "text/plain": [
       "\u001b[0;31mSignature:\u001b[0m \u001b[0mpb\u001b[0m\u001b[0;34m.\u001b[0m\u001b[0mfootballdata\u001b[0m\u001b[0;34m.\u001b[0m\u001b[0mfetch_data\u001b[0m\u001b[0;34m(\u001b[0m\u001b[0mcountry\u001b[0m\u001b[0;34m,\u001b[0m \u001b[0mseason_start_year\u001b[0m\u001b[0;34m,\u001b[0m \u001b[0mdivision\u001b[0m\u001b[0;34m)\u001b[0m \u001b[0;34m->\u001b[0m \u001b[0mpandas\u001b[0m\u001b[0;34m.\u001b[0m\u001b[0mcore\u001b[0m\u001b[0;34m.\u001b[0m\u001b[0mframe\u001b[0m\u001b[0;34m.\u001b[0m\u001b[0mDataFrame\u001b[0m\u001b[0;34m\u001b[0m\u001b[0;34m\u001b[0m\u001b[0m\n",
       "\u001b[0;31mDocstring:\u001b[0m\n",
       "Fetches the requested data from football-data.co.uk\n",
       "\n",
       "Parameters\n",
       "----------\n",
       "country : string\n",
       "    The name of the country of interest\n",
       "season_start_year : int\n",
       "    The year the season started, e.g. `2018` for the 2018/2019 season\n",
       "division : int\n",
       "    The division's level, where `0` is the top tier, `1` is the second tier etc\n",
       "\n",
       "Example\n",
       "-----------\n",
       "import penaltyblog as pb\n",
       "pb.footballdata.fetch(\"England\", 2018, 0)\n",
       "\n",
       "Returns\n",
       "------\n",
       "Pandas dataframe\n",
       "\u001b[0;31mFile:\u001b[0m      ~/repos/martin/penaltyblog/penaltyblog/footballdata/footballdata.py\n",
       "\u001b[0;31mType:\u001b[0m      function\n"
      ]
     },
     "metadata": {},
     "output_type": "display_data"
    }
   ],
   "source": [
    "?pb.footballdata.fetch_data"
   ]
  },
  {
   "cell_type": "code",
   "execution_count": 5,
   "id": "e71d8732-c4f6-40f7-90f4-2c1792c9d01c",
   "metadata": {},
   "outputs": [
    {
     "data": {
      "text/plain": [
       "['belgium',\n",
       " 'england',\n",
       " 'france',\n",
       " 'germany',\n",
       " 'greece',\n",
       " 'italy',\n",
       " 'portugal',\n",
       " 'scotland',\n",
       " 'spain',\n",
       " 'turkey']"
      ]
     },
     "execution_count": 5,
     "metadata": {},
     "output_type": "execute_result"
    }
   ],
   "source": [
    "pb.list_countries()"
   ]
  },
  {
   "cell_type": "code",
   "execution_count": 6,
   "id": "622f4dee-ed8d-4a76-a7f9-c81bc849e96a",
   "metadata": {},
   "outputs": [
    {
     "data": {
      "text/html": [
       "<div>\n",
       "<style scoped>\n",
       "    .dataframe tbody tr th:only-of-type {\n",
       "        vertical-align: middle;\n",
       "    }\n",
       "\n",
       "    .dataframe tbody tr th {\n",
       "        vertical-align: top;\n",
       "    }\n",
       "\n",
       "    .dataframe thead th {\n",
       "        text-align: right;\n",
       "    }\n",
       "</style>\n",
       "<table border=\"1\" class=\"dataframe\">\n",
       "  <thead>\n",
       "    <tr style=\"text-align: right;\">\n",
       "      <th></th>\n",
       "      <th>Date</th>\n",
       "      <th>HomeTeam</th>\n",
       "      <th>AwayTeam</th>\n",
       "      <th>FTHG</th>\n",
       "      <th>FTAG</th>\n",
       "    </tr>\n",
       "  </thead>\n",
       "  <tbody>\n",
       "    <tr>\n",
       "      <th>0</th>\n",
       "      <td>2018-08-10</td>\n",
       "      <td>Man United</td>\n",
       "      <td>Leicester</td>\n",
       "      <td>2</td>\n",
       "      <td>1</td>\n",
       "    </tr>\n",
       "    <tr>\n",
       "      <th>1</th>\n",
       "      <td>2018-08-11</td>\n",
       "      <td>Bournemouth</td>\n",
       "      <td>Cardiff</td>\n",
       "      <td>2</td>\n",
       "      <td>0</td>\n",
       "    </tr>\n",
       "    <tr>\n",
       "      <th>2</th>\n",
       "      <td>2018-08-11</td>\n",
       "      <td>Fulham</td>\n",
       "      <td>Crystal Palace</td>\n",
       "      <td>0</td>\n",
       "      <td>2</td>\n",
       "    </tr>\n",
       "    <tr>\n",
       "      <th>3</th>\n",
       "      <td>2018-08-11</td>\n",
       "      <td>Huddersfield</td>\n",
       "      <td>Chelsea</td>\n",
       "      <td>0</td>\n",
       "      <td>3</td>\n",
       "    </tr>\n",
       "    <tr>\n",
       "      <th>4</th>\n",
       "      <td>2018-08-11</td>\n",
       "      <td>Newcastle</td>\n",
       "      <td>Tottenham</td>\n",
       "      <td>1</td>\n",
       "      <td>2</td>\n",
       "    </tr>\n",
       "  </tbody>\n",
       "</table>\n",
       "</div>"
      ],
      "text/plain": [
       "        Date      HomeTeam        AwayTeam  FTHG  FTAG\n",
       "0 2018-08-10    Man United       Leicester     2     1\n",
       "1 2018-08-11   Bournemouth         Cardiff     2     0\n",
       "2 2018-08-11        Fulham  Crystal Palace     0     2\n",
       "3 2018-08-11  Huddersfield         Chelsea     0     3\n",
       "4 2018-08-11     Newcastle       Tottenham     1     2"
      ]
     },
     "execution_count": 6,
     "metadata": {},
     "output_type": "execute_result"
    }
   ],
   "source": [
    "df = pb.footballdata.fetch_data(\"England\", 2018, 0)\n",
    "df[[\"Date\", \"HomeTeam\", \"AwayTeam\", \"FTHG\", \"FTAG\"]].head()"
   ]
  },
  {
   "cell_type": "code",
   "execution_count": 5,
   "id": "4ec3877f-8bbd-4564-906c-aee52bffc734",
   "metadata": {},
   "outputs": [
    {
     "name": "stdout",
     "output_type": "stream",
     "text": [
      "|    | Date                | HomeTeam     | AwayTeam       |   FTHG |   FTAG |\n",
      "|---:|:--------------------|:-------------|:---------------|-------:|-------:|\n",
      "|  0 | 2018-08-10 00:00:00 | Man United   | Leicester      |      2 |      1 |\n",
      "|  1 | 2018-08-11 00:00:00 | Bournemouth  | Cardiff        |      2 |      0 |\n",
      "|  2 | 2018-08-11 00:00:00 | Fulham       | Crystal Palace |      0 |      2 |\n",
      "|  3 | 2018-08-11 00:00:00 | Huddersfield | Chelsea        |      0 |      3 |\n",
      "|  4 | 2018-08-11 00:00:00 | Newcastle    | Tottenham      |      1 |      2 |\n"
     ]
    }
   ],
   "source": [
    "df = pb.get_example_data()\n",
    "print(df[[\"Date\", \"HomeTeam\", \"AwayTeam\", \"FTHG\", \"FTAG\"]].head().to_markdown())"
   ]
  },
  {
   "cell_type": "code",
   "execution_count": 7,
   "id": "849c96b9-12b4-480c-9e49-8b83f587f16f",
   "metadata": {},
   "outputs": [
    {
     "name": "stdout",
     "output_type": "stream",
     "text": [
      "|    |   Rank | Club        | Country   |   Level |     Elo | From                | To                  |\n",
      "|---:|-------:|:------------|:----------|--------:|--------:|:--------------------|:--------------------|\n",
      "|  0 |      1 | Barcelona   | ESP       |       1 | 1987.68 | 2009-12-18 00:00:00 | 2010-01-02 00:00:00 |\n",
      "|  1 |      2 | Chelsea     | ENG       |       1 | 1945.54 | 2009-12-29 00:00:00 | 2010-01-16 00:00:00 |\n",
      "|  2 |      3 | Man United  | ENG       |       1 | 1928.53 | 2009-12-31 00:00:00 | 2010-01-09 00:00:00 |\n",
      "|  3 |      4 | Real Madrid | ESP       |       1 | 1902.72 | 2009-12-20 00:00:00 | 2010-01-03 00:00:00 |\n",
      "|  4 |      5 | Inter       | ITA       |       1 | 1884.49 | 2009-12-21 00:00:00 | 2010-01-06 00:00:00 |\n"
     ]
    }
   ],
   "source": [
    "print(pb.clubelo.fetch_rankings_by_date(2010, 1, 1).head().to_markdown())"
   ]
  },
  {
   "cell_type": "code",
   "execution_count": 8,
   "id": "854209ff-2296-4661-b62e-f0bf290a2927",
   "metadata": {},
   "outputs": [
    {
     "name": "stdout",
     "output_type": "stream",
     "text": [
      "|    | Rank   | Club      | Country   |   Level |     Elo | From                | To                  |\n",
      "|---:|:-------|:----------|:----------|--------:|--------:|:--------------------|:--------------------|\n",
      "|  0 | None   | Barcelona | ESP       |       1 | 1636.7  | 1939-10-22 00:00:00 | 1939-12-03 00:00:00 |\n",
      "|  1 | None   | Barcelona | ESP       |       1 | 1626.1  | 1939-12-04 00:00:00 | 1939-12-10 00:00:00 |\n",
      "|  2 | None   | Barcelona | ESP       |       1 | 1636.73 | 1939-12-11 00:00:00 | 1939-12-17 00:00:00 |\n",
      "|  3 | None   | Barcelona | ESP       |       1 | 1646.95 | 1939-12-18 00:00:00 | 1939-12-24 00:00:00 |\n",
      "|  4 | None   | Barcelona | ESP       |       1 | 1637.42 | 1939-12-25 00:00:00 | 1939-12-31 00:00:00 |\n"
     ]
    }
   ],
   "source": [
    "print(pb.clubelo.fetch_rankings_by_team(\"barcelona\").head().to_markdown())"
   ]
  },
  {
   "cell_type": "markdown",
   "id": "5d1b5c0b-83a9-4a98-9ce3-d2a63493ad1f",
   "metadata": {},
   "source": [
    "### Poisson Model"
   ]
  },
  {
   "cell_type": "code",
   "execution_count": 7,
   "id": "e06c5ae9-c5b9-4802-bf15-62b5661b7ac9",
   "metadata": {},
   "outputs": [],
   "source": [
    "pois = pb.PoissonGoalsModel(df[\"FTHG\"], df[\"FTAG\"], df[\"HomeTeam\"], df[\"AwayTeam\"])"
   ]
  },
  {
   "cell_type": "code",
   "execution_count": 8,
   "id": "a3b31dde-449e-4ddd-b741-361ca16fe4ac",
   "metadata": {},
   "outputs": [
    {
     "name": "stderr",
     "output_type": "stream",
     "text": [
      "/opt/conda/lib/python3.9/site-packages/scipy/optimize/optimize.py:282: RuntimeWarning: Values in x were outside bounds during a minimize step, clipping to bounds\n",
      "  warnings.warn(\"Values in x were outside bounds during a \"\n",
      "/opt/conda/lib/python3.9/site-packages/pandas/core/arraylike.py:358: RuntimeWarning: divide by zero encountered in log\n",
      "  result = getattr(ufunc, method)(*inputs, **kwargs)\n"
     ]
    }
   ],
   "source": [
    "pois.fit()"
   ]
  },
  {
   "cell_type": "code",
   "execution_count": 9,
   "id": "ab69e99c-1fbd-4b5f-8331-013c376f310b",
   "metadata": {},
   "outputs": [
    {
     "data": {
      "text/plain": [
       "Module: Penaltyblog\n",
       "\n",
       "Model: Poisson\n",
       "\n",
       "Number of parameters: 42\n",
       "Log Likelihood: -1065.077\n",
       "AIC: 2214.154\n",
       "\n",
       "Team                 Attack               Defence             \n",
       "------------------------------------------------------------\n",
       "Arsenal              1.362                -1.062              \n",
       "Bournemouth          1.115                -0.761              \n",
       "Brighton             0.634                -0.937              \n",
       "Burnley              0.894                -0.801              \n",
       "Cardiff              0.614                -0.798              \n",
       "Chelsea              1.202                -1.341              \n",
       "Crystal Palace       1.004                -1.045              \n",
       "Everton              1.055                -1.184              \n",
       "Fulham               0.626                -0.637              \n",
       "Huddersfield         0.184                -0.712              \n",
       "Leicester            0.999                -1.145              \n",
       "Liverpool            1.532                -1.889              \n",
       "Man City             1.598                -1.839              \n",
       "Man United           1.249                -1.013              \n",
       "Newcastle            0.805                -1.153              \n",
       "Southampton          0.891                -0.846              \n",
       "Tottenham            1.264                -1.337              \n",
       "Watford              1.03                 -0.937              \n",
       "West Ham             1.026                -1.007              \n",
       "Wolves               0.916                -1.191              \n",
       "------------------------------------------------------------\n",
       "Home Advantage: 0.225\n",
       "Intercept: 0.206"
      ]
     },
     "execution_count": 9,
     "metadata": {},
     "output_type": "execute_result"
    }
   ],
   "source": [
    "pois"
   ]
  },
  {
   "cell_type": "code",
   "execution_count": 7,
   "id": "ab0e865d-5905-45de-a4ff-7a61bb0582b9",
   "metadata": {},
   "outputs": [
    {
     "data": {
      "text/plain": [
       "[0.522666209710224, 0.281450920905797, 0.195882869363381]"
      ]
     },
     "execution_count": 7,
     "metadata": {},
     "output_type": "execute_result"
    }
   ],
   "source": [
    "x = pois.predict(\"Liverpool\", \"Stoke\")\n",
    "x.home_draw_away"
   ]
  },
  {
   "cell_type": "markdown",
   "id": "ac9b02d9-e8c7-4f02-bbcd-89081efcc08b",
   "metadata": {},
   "source": [
    "### Dixon and Coles"
   ]
  },
  {
   "cell_type": "code",
   "execution_count": 10,
   "id": "154a4641-6166-4ab3-aa0e-3cb150abd796",
   "metadata": {},
   "outputs": [],
   "source": [
    "dc = pb.DixonColesGoalModel(df[\"FTHG\"], df[\"FTAG\"], df[\"HomeTeam\"], df[\"AwayTeam\"])"
   ]
  },
  {
   "cell_type": "code",
   "execution_count": 11,
   "id": "c3084f2f-45d8-4aac-9dbf-d5734a811cc0",
   "metadata": {},
   "outputs": [
    {
     "name": "stderr",
     "output_type": "stream",
     "text": [
      "/opt/conda/lib/python3.9/site-packages/pandas/core/arraylike.py:358: RuntimeWarning: invalid value encountered in log\n",
      "  result = getattr(ufunc, method)(*inputs, **kwargs)\n"
     ]
    }
   ],
   "source": [
    "dc.fit()"
   ]
  },
  {
   "cell_type": "code",
   "execution_count": 12,
   "id": "4d6cbc1b-fa2a-4c76-93bb-96dfb5798292",
   "metadata": {
    "tags": []
   },
   "outputs": [
    {
     "data": {
      "text/plain": [
       "Module: Penaltyblog\n",
       "\n",
       "Model: Dixon and Coles\n",
       "\n",
       "Number of parameters: 43\n",
       "Log Likelihood: -1064.943\n",
       "AIC: 2215.886\n",
       "\n",
       "Team                 Attack               Defence             \n",
       "------------------------------------------------------------\n",
       "Arsenal              1.36                 -0.982              \n",
       "Bournemouth          1.115                -0.679              \n",
       "Brighton             0.632                -0.858              \n",
       "Burnley              0.897                -0.717              \n",
       "Cardiff              0.615                -0.715              \n",
       "Chelsea              1.205                -1.254              \n",
       "Crystal Palace       1.007                -0.961              \n",
       "Everton              1.054                -1.102              \n",
       "Fulham               0.625                -0.557              \n",
       "Huddersfield         0.18                 -0.631              \n",
       "Leicester            0.996                -1.064              \n",
       "Liverpool            1.534                -1.803              \n",
       "Man City             1.599                -1.762              \n",
       "Man United           1.251                -0.931              \n",
       "Newcastle            0.806                -1.07               \n",
       "Southampton          0.897                -0.761              \n",
       "Tottenham            1.259                -1.261              \n",
       "Watford              1.031                -0.854              \n",
       "West Ham             1.023                -0.927              \n",
       "Wolves               0.914                -1.113              \n",
       "------------------------------------------------------------\n",
       "Home Advantage: 0.225\n",
       "Intercept: 0.124\n",
       "Rho: -0.041"
      ]
     },
     "execution_count": 12,
     "metadata": {},
     "output_type": "execute_result"
    }
   ],
   "source": [
    "dc"
   ]
  },
  {
   "cell_type": "code",
   "execution_count": 13,
   "id": "515b18d5-4318-4a03-bf85-0ca7940980fb",
   "metadata": {},
   "outputs": [
    {
     "ename": "ValueError",
     "evalue": "No parameters for away team - please ensure the team was included in the training data",
     "output_type": "error",
     "traceback": [
      "\u001b[0;31m---------------------------------------------------------------------------\u001b[0m",
      "\u001b[0;31mValueError\u001b[0m                                Traceback (most recent call last)",
      "\u001b[0;32m<ipython-input-13-a228590e01b8>\u001b[0m in \u001b[0;36m<module>\u001b[0;34m\u001b[0m\n\u001b[0;32m----> 1\u001b[0;31m \u001b[0mx\u001b[0m \u001b[0;34m=\u001b[0m \u001b[0mdc\u001b[0m\u001b[0;34m.\u001b[0m\u001b[0mpredict\u001b[0m\u001b[0;34m(\u001b[0m\u001b[0;34m\"Liverpool\"\u001b[0m\u001b[0;34m,\u001b[0m \u001b[0;34m\"Stoke\"\u001b[0m\u001b[0;34m)\u001b[0m\u001b[0;34m\u001b[0m\u001b[0;34m\u001b[0m\u001b[0m\n\u001b[0m\u001b[1;32m      2\u001b[0m \u001b[0mx\u001b[0m\u001b[0;34m.\u001b[0m\u001b[0mhome_draw_away\u001b[0m\u001b[0;34m\u001b[0m\u001b[0;34m\u001b[0m\u001b[0m\n",
      "\u001b[0;32m~/repos/martin/penaltyblog/penaltyblog/poisson/dixon_coles.py\u001b[0m in \u001b[0;36mpredict\u001b[0;34m(self, home_team, away_team, max_goals)\u001b[0m\n\u001b[1;32m    221\u001b[0m \u001b[0;34m\u001b[0m\u001b[0m\n\u001b[1;32m    222\u001b[0m         \u001b[0;32mif\u001b[0m \u001b[0maway_team\u001b[0m \u001b[0;32mnot\u001b[0m \u001b[0;32min\u001b[0m \u001b[0mself\u001b[0m\u001b[0;34m.\u001b[0m\u001b[0mteams\u001b[0m\u001b[0;34m:\u001b[0m\u001b[0;34m\u001b[0m\u001b[0;34m\u001b[0m\u001b[0m\n\u001b[0;32m--> 223\u001b[0;31m             raise ValueError(\n\u001b[0m\u001b[1;32m    224\u001b[0m                 \u001b[0;34m\"No parameters for away team - please ensure the team was included in the training data\"\u001b[0m\u001b[0;34m\u001b[0m\u001b[0;34m\u001b[0m\u001b[0m\n\u001b[1;32m    225\u001b[0m             )\n",
      "\u001b[0;31mValueError\u001b[0m: No parameters for away team - please ensure the team was included in the training data"
     ]
    }
   ],
   "source": [
    "x = dc.predict(\"Liverpool\", \"Stoke\")\n",
    "x.home_draw_away"
   ]
  },
  {
   "cell_type": "markdown",
   "id": "ee5987f5-c1a8-4599-97b6-6b626192cd8f",
   "metadata": {},
   "source": [
    "### Dixon and Coles Time Decay"
   ]
  },
  {
   "cell_type": "code",
   "execution_count": 13,
   "id": "3a794f9f-f2da-433f-ac95-2de3ae5cbb2d",
   "metadata": {},
   "outputs": [],
   "source": [
    "weights = pb.dixon_coles_weights(df[\"Date\"], 0.001)"
   ]
  },
  {
   "cell_type": "code",
   "execution_count": 14,
   "id": "113029f0-d365-49f8-9e38-24a49c1d970a",
   "metadata": {},
   "outputs": [],
   "source": [
    "dc = pb.DixonColesGoalModel(\n",
    "    df[\"FTHG\"], df[\"FTAG\"], df[\"HomeTeam\"], df[\"AwayTeam\"], weights\n",
    ")"
   ]
  },
  {
   "cell_type": "code",
   "execution_count": 15,
   "id": "25968c59-c792-479b-b19e-fa05c1c5d02b",
   "metadata": {},
   "outputs": [
    {
     "name": "stderr",
     "output_type": "stream",
     "text": [
      "/opt/conda/lib/python3.9/site-packages/scipy/optimize/optimize.py:282: RuntimeWarning: Values in x were outside bounds during a minimize step, clipping to bounds\n",
      "  warnings.warn(\"Values in x were outside bounds during a \"\n"
     ]
    }
   ],
   "source": [
    "dc.fit()"
   ]
  },
  {
   "cell_type": "code",
   "execution_count": 16,
   "id": "ed9e7f59-e201-44be-a12a-cfad3ba4a62f",
   "metadata": {
    "tags": []
   },
   "outputs": [
    {
     "data": {
      "text/plain": [
       "Module: Penaltyblog\n",
       "\n",
       "Model: Dixon and Coles\n",
       "\n",
       "Number of parameters: 43\n",
       "Log Likelihood: -959.416\n",
       "AIC: 2004.831\n",
       "\n",
       "Team                 Attack               Defence             \n",
       "------------------------------------------------------------\n",
       "Arsenal              1.372                -1.611              \n",
       "Aston Villa          0.673                -1.531              \n",
       "Blackburn            0.932                -1.162              \n",
       "Bolton               0.914                -1.167              \n",
       "Chelsea              1.225                -1.653              \n",
       "Everton              0.967                -1.845              \n",
       "Fulham               0.938                -1.582              \n",
       "Liverpool            0.889                -1.803              \n",
       "Man City             1.543                -2.12               \n",
       "Man United           1.513                -2.005              \n",
       "Newcastle            1.099                -1.562              \n",
       "Norwich              1.018                -1.308              \n",
       "QPR                  0.838                -1.342              \n",
       "Stoke                0.637                -1.562              \n",
       "Sunderland           0.853                -1.676              \n",
       "Swansea              0.859                -1.572              \n",
       "Tottenham            1.228                -1.783              \n",
       "West Brom            0.876                -1.572              \n",
       "Wigan                0.834                -1.409              \n",
       "Wolves               0.793                -1.091              \n",
       "------------------------------------------------------------\n",
       "Home Advantage: 0.277\n",
       "Intercept: 0.687\n",
       "Rho: -0.128"
      ]
     },
     "execution_count": 16,
     "metadata": {},
     "output_type": "execute_result"
    }
   ],
   "source": [
    "dc"
   ]
  },
  {
   "cell_type": "code",
   "execution_count": 17,
   "id": "e2bfd2ff-fa9b-486d-8ac8-e7a33288e92f",
   "metadata": {},
   "outputs": [],
   "source": [
    "preds = list()\n",
    "outcome = list()\n",
    "for idx, row in df.iterrows():\n",
    "    pred = dc.predict(row[\"HomeTeam\"], row[\"AwayTeam\"])\n",
    "    preds.append(pred.home_draw_away)\n",
    "    \n",
    "    if row[\"FTR\"] == \"H\":\n",
    "        outcome.append(0)\n",
    "    elif row[\"FTR\"] == \"D\":\n",
    "        outcome.append(1)\n",
    "    elif row[\"FTR\"] == \"A\":\n",
    "        outcome.append(2)\n",
    "    else:\n",
    "        raise ValueError(\"Result not recognised\")"
   ]
  },
  {
   "cell_type": "code",
   "execution_count": 18,
   "id": "0a4a0171-31d2-470a-a0da-7f33cbbf1dab",
   "metadata": {},
   "outputs": [],
   "source": [
    "rps_scores = list()\n",
    "for i in range(len(outcome)):\n",
    "    rps_scores.append(pb.rps(preds[i], outcome[i]))"
   ]
  },
  {
   "cell_type": "code",
   "execution_count": 19,
   "id": "07d6c1ba-3647-4e3a-96f7-aa8c5b5f180c",
   "metadata": {},
   "outputs": [
    {
     "data": {
      "text/plain": [
       "0.20175300119587533"
      ]
     },
     "execution_count": 19,
     "metadata": {},
     "output_type": "execute_result"
    }
   ],
   "source": [
    "np.mean(rps_scores)"
   ]
  },
  {
   "cell_type": "markdown",
   "id": "09a00262-482e-4ad3-84b7-b115c5a9dca2",
   "metadata": {},
   "source": [
    "### Rue Salvesen"
   ]
  },
  {
   "cell_type": "code",
   "execution_count": 18,
   "id": "470d4d34-6a0c-492e-ad4e-12f6521fae27",
   "metadata": {},
   "outputs": [],
   "source": [
    "rs = pb.RueSalvesenGoalModel(df[\"FTHG\"], df[\"FTAG\"], df[\"HomeTeam\"], df[\"AwayTeam\"])"
   ]
  },
  {
   "cell_type": "code",
   "execution_count": 19,
   "id": "573d3aaf-3f32-4bdb-8636-71528460e669",
   "metadata": {},
   "outputs": [
    {
     "name": "stderr",
     "output_type": "stream",
     "text": [
      "/opt/conda/lib/python3.9/site-packages/pandas/core/arraylike.py:358: RuntimeWarning: divide by zero encountered in log\n",
      "  result = getattr(ufunc, method)(*inputs, **kwargs)\n",
      "/opt/conda/lib/python3.9/site-packages/pandas/core/arraylike.py:358: RuntimeWarning: invalid value encountered in log\n",
      "  result = getattr(ufunc, method)(*inputs, **kwargs)\n"
     ]
    }
   ],
   "source": [
    "rs.fit()"
   ]
  },
  {
   "cell_type": "code",
   "execution_count": 20,
   "id": "a7dc51f8-38dd-4758-a359-06181b75e6c1",
   "metadata": {},
   "outputs": [
    {
     "data": {
      "text/plain": [
       "Module: Penaltyblog\n",
       "\n",
       "Model: Rue Salvesen\n",
       "\n",
       "Number of parameters: 44\n",
       "Log Likelihood: -1061.167\n",
       "AIC: 2210.334\n",
       "\n",
       "Team                 Attack               Defence             \n",
       "------------------------------------------------------------\n",
       "Arsenal              1.266                -0.924              \n",
       "Bournemouth          1.005                -0.607              \n",
       "Brighton             0.69                 -0.952              \n",
       "Burnley              0.852                -0.709              \n",
       "Cardiff              0.641                -0.779              \n",
       "Chelsea              1.224                -1.337              \n",
       "Crystal Palace       0.996                -0.988              \n",
       "Everton              1.072                -1.18               \n",
       "Fulham               0.609                -0.578              \n",
       "Huddersfield         0.298                -0.8                \n",
       "Leicester            1.014                -1.119              \n",
       "Liverpool            1.603                -1.91               \n",
       "Man City             1.617                -1.853              \n",
       "Man United           1.171                -0.888              \n",
       "Newcastle            0.874                -1.175              \n",
       "Southampton          0.866                -0.784              \n",
       "Tottenham            1.249                -1.305              \n",
       "Watford              0.987                -0.847              \n",
       "West Ham             1.0                  -0.941              \n",
       "Wolves               0.965                -1.201              \n",
       "------------------------------------------------------------\n",
       "Home Advantage: 0.222\n",
       "Intercept: 0.167\n",
       "Rho: -0.04\n",
       "Gamma: -0.505"
      ]
     },
     "execution_count": 20,
     "metadata": {},
     "output_type": "execute_result"
    }
   ],
   "source": [
    "rs"
   ]
  },
  {
   "cell_type": "code",
   "execution_count": 21,
   "id": "a7d06ac2-5050-4a30-b699-c998687924fc",
   "metadata": {},
   "outputs": [
    {
     "ename": "ValueError",
     "evalue": "No parameters for away team - please ensure the team was included in the training data",
     "output_type": "error",
     "traceback": [
      "\u001b[0;31m---------------------------------------------------------------------------\u001b[0m",
      "\u001b[0;31mValueError\u001b[0m                                Traceback (most recent call last)",
      "\u001b[0;32m<ipython-input-21-1edc0c6c1885>\u001b[0m in \u001b[0;36m<module>\u001b[0;34m\u001b[0m\n\u001b[0;32m----> 1\u001b[0;31m \u001b[0mx\u001b[0m \u001b[0;34m=\u001b[0m \u001b[0mrs\u001b[0m\u001b[0;34m.\u001b[0m\u001b[0mpredict\u001b[0m\u001b[0;34m(\u001b[0m\u001b[0;34m\"Liverpool\"\u001b[0m\u001b[0;34m,\u001b[0m \u001b[0;34m\"Stoke\"\u001b[0m\u001b[0;34m)\u001b[0m\u001b[0;34m\u001b[0m\u001b[0;34m\u001b[0m\u001b[0m\n\u001b[0m\u001b[1;32m      2\u001b[0m \u001b[0mx\u001b[0m\u001b[0;34m.\u001b[0m\u001b[0mhome_draw_away\u001b[0m\u001b[0;34m\u001b[0m\u001b[0;34m\u001b[0m\u001b[0m\n",
      "\u001b[0;32m~/repos/martin/penaltyblog/penaltyblog/poisson/rue_salvesen.py\u001b[0m in \u001b[0;36mpredict\u001b[0;34m(self, home_team, away_team, max_goals)\u001b[0m\n\u001b[1;32m    254\u001b[0m \u001b[0;34m\u001b[0m\u001b[0m\n\u001b[1;32m    255\u001b[0m         \u001b[0;32mif\u001b[0m \u001b[0maway_team\u001b[0m \u001b[0;32mnot\u001b[0m \u001b[0;32min\u001b[0m \u001b[0mself\u001b[0m\u001b[0;34m.\u001b[0m\u001b[0mteams\u001b[0m\u001b[0;34m:\u001b[0m\u001b[0;34m\u001b[0m\u001b[0;34m\u001b[0m\u001b[0m\n\u001b[0;32m--> 256\u001b[0;31m             raise ValueError(\n\u001b[0m\u001b[1;32m    257\u001b[0m                 \u001b[0;34m\"No parameters for away team - please ensure the team was included in the training data\"\u001b[0m\u001b[0;34m\u001b[0m\u001b[0;34m\u001b[0m\u001b[0m\n\u001b[1;32m    258\u001b[0m             )\n",
      "\u001b[0;31mValueError\u001b[0m: No parameters for away team - please ensure the team was included in the training data"
     ]
    }
   ],
   "source": [
    "x = rs.predict(\"Liverpool\", \"Stoke\")\n",
    "x.home_draw_away"
   ]
  },
  {
   "cell_type": "code",
   "execution_count": null,
   "id": "7014255a-e65e-4ff7-8b91-7bb0c219be5f",
   "metadata": {},
   "outputs": [],
   "source": [
    "probs = rs.predict(\"Liverpool\", \"Stoke\")\n",
    "probs.total_goals(\"over\", 2.5)"
   ]
  },
  {
   "cell_type": "code",
   "execution_count": null,
   "id": "96a0546b-fd35-4627-86ae-d75922b5b776",
   "metadata": {},
   "outputs": [],
   "source": [
    "probs = rs.predict(\"Liverpool\", \"Stoke\")\n",
    "probs.total_goals(\"under\", 2.5)"
   ]
  },
  {
   "cell_type": "code",
   "execution_count": 43,
   "id": "dce20362-d05a-4c13-b4fb-5fd65c73460b",
   "metadata": {},
   "outputs": [
    {
     "data": {
      "text/plain": [
       "0.7397383751361912"
      ]
     },
     "execution_count": 43,
     "metadata": {},
     "output_type": "execute_result"
    }
   ],
   "source": [
    "probs.asian_handicap(\"away\", -1.5)"
   ]
  },
  {
   "cell_type": "code",
   "execution_count": 44,
   "id": "97fcb4fa-fbbc-4645-aa44-2768d428bc21",
   "metadata": {},
   "outputs": [
    {
     "name": "stdout",
     "output_type": "stream",
     "text": [
      "{'attack_Arsenal': 1.3650671020694474,\n",
      " 'attack_Aston Villa': 0.6807140182913024,\n",
      " 'attack_Blackburn': 0.971135574781119,\n",
      " 'attack_Bolton': 0.9502712140456423,\n",
      " 'attack_Chelsea': 1.235466344414206,\n",
      " 'attack_Everton': 0.9257685468926837,\n",
      " 'attack_Fulham': 0.9122902202053228,\n",
      " 'attack_Liverpool': 0.8684673939949753,\n",
      " 'attack_Man City': 1.543379586931267,\n",
      " 'attack_Man United': 1.4968564161865994,\n",
      " 'attack_Newcastle': 1.1095636706231062,\n",
      " 'attack_Norwich': 1.0424304866584615,\n",
      " 'attack_QPR': 0.827439335780754,\n",
      " 'attack_Stoke': 0.6248927873330669,\n",
      " 'attack_Sunderland': 0.8510292333101492,\n",
      " 'attack_Swansea': 0.8471368133406263,\n",
      " 'attack_Tottenham': 1.2496040004504756,\n",
      " 'attack_West Brom': 0.8625207332372105,\n",
      " 'attack_Wigan': 0.8177807129177644,\n",
      " 'attack_Wolves': 0.8181858085358248,\n",
      " 'defence_Arsenal': -1.2192247076852236,\n",
      " 'defence_Aston Villa': -1.0566859588325535,\n",
      " 'defence_Blackburn': -0.7430288162188969,\n",
      " 'defence_Bolton': -0.7268011436918458,\n",
      " 'defence_Chelsea': -1.2065700516830344,\n",
      " 'defence_Everton': -1.3564763976122773,\n",
      " 'defence_Fulham': -1.1159544166204092,\n",
      " 'defence_Liverpool': -1.3293118049518535,\n",
      " 'defence_Man City': -1.6549894606952225,\n",
      " 'defence_Man United': -1.5728126940204685,\n",
      " 'defence_Newcastle': -1.1186158411320268,\n",
      " 'defence_Norwich': -0.8865413401238464,\n",
      " 'defence_QPR': -0.9124617361500764,\n",
      " 'defence_Stoke': -1.0766419199030601,\n",
      " 'defence_Sunderland': -1.2049421203955355,\n",
      " 'defence_Swansea': -1.1077243368907703,\n",
      " 'defence_Tottenham': -1.3160823704397775,\n",
      " 'defence_West Brom': -1.1014569193066301,\n",
      " 'defence_Wigan': -0.932997180492951,\n",
      " 'defence_Wolves': -0.6618461794219439,\n",
      " 'home_advantage': 0.2655860528422758,\n",
      " 'intercept': 0.23467961435272489,\n",
      " 'rho': -0.1375912978446625,\n",
      " 'rue_salvesen': 0.1401430558820631}\n"
     ]
    }
   ],
   "source": [
    "from pprint import pprint\n",
    "params = rs.get_params()\n",
    "pprint(params)"
   ]
  },
  {
   "cell_type": "markdown",
   "id": "a87de48f-d21e-429b-b2ec-5a80d4f600fc",
   "metadata": {},
   "source": [
    "### RPS"
   ]
  },
  {
   "cell_type": "code",
   "execution_count": 30,
   "id": "edcbb6b9-8d67-4469-a5da-7f4746cfda35",
   "metadata": {},
   "outputs": [],
   "source": [
    "predictions = np.array(\n",
    "    [\n",
    "        [1, 0, 0],\n",
    "        [0.9, 0.1, 0],\n",
    "        [0.8, 0.1, 0.1],\n",
    "        [0.5, 0.25, 0.25],\n",
    "        [0.35, 0.3, 0.35],\n",
    "        [0.6, 0.3, 0.1],\n",
    "        [0.6, 0.1, 0.3],\n",
    "        [0.5, 0.45, 0.05],\n",
    "        [0.55, 0.1, 0.35],\n",
    "    ]\n",
    ")\n",
    "\n",
    "observed = [0, 0, 0, 0, 1, 1, 0, 0, 0, 0]"
   ]
  },
  {
   "cell_type": "code",
   "execution_count": 88,
   "id": "8a92870a-e237-47d9-8035-333a188f4fdc",
   "metadata": {},
   "outputs": [
    {
     "name": "stdout",
     "output_type": "stream",
     "text": [
      "0.0\n",
      "0.0049999999999999975\n",
      "0.024999999999999988\n",
      "0.15625\n",
      "0.12250000000000003\n",
      "0.185\n",
      "0.12500000000000003\n",
      "0.12625\n",
      "0.16249999999999998\n"
     ]
    },
    {
     "data": {
      "text/plain": [
       "(array([1., 0., 0.]), 0.32499999999999996)"
      ]
     },
     "execution_count": 88,
     "metadata": {},
     "output_type": "execute_result"
    }
   ],
   "source": [
    "n_cat = 3\n",
    "n_pred = len(predictions)\n",
    "\n",
    "rps = np.zeros(n_pred)\n",
    "\n",
    "for x in range(0, n_pred):\n",
    "    obs_vec = np.zeros(n_cat)\n",
    "    obs_vec[observed[x]] = 1\n",
    "    cumulative = 0\n",
    "    for i in range(n_cat):\n",
    "        cumulative += (sum(predictions[x][:i+1]) - sum(obs_vec[0:i+1])) **2\n",
    "    print(cumulative / (n_cat - 1))\n",
    "\n",
    "obs_vec, cumulative"
   ]
  },
  {
   "cell_type": "code",
   "execution_count": 110,
   "id": "62c7618c-9dfa-4641-b1cf-e75047464e66",
   "metadata": {},
   "outputs": [
    {
     "data": {
      "text/plain": [
       "0.0049999999999999975"
      ]
     },
     "execution_count": 110,
     "metadata": {},
     "output_type": "execute_result"
    }
   ],
   "source": [
    "import numpy as np\n",
    "\n",
    "# Outcome should be a binary list of the ordinal outcome. [0, 1, 0] for exmaple.\n",
    "# Probs should be a list of probabilities. [0.79, 0.09, 0.12] for example.\n",
    "# Outcome and Probs must be provided with the same order as probabilities.\n",
    "\n",
    "def rps(probs, outcome):\n",
    "    cum_probs = np.cumsum(probs)\n",
    "    \n",
    "    cum_outcomes = np.zeros(len(probs))\n",
    "    cum_outcomes[outcome] = 1\n",
    "    cum_outcomes = np.cumsum(cum_outcomes)\n",
    "\n",
    "    sum_rps = 0\n",
    "    for i in range(len(probs)):         \n",
    "        sum_rps+= (cum_probs[i] - cum_outcomes[i])**2\n",
    "    \n",
    "    return sum_rps/(len(probs)-1)\n",
    "\n",
    "rps(predictions[1], observed[1])"
   ]
  },
  {
   "cell_type": "code",
   "execution_count": 111,
   "id": "3b22883e-2ece-4e1a-a12a-1ad697eecbab",
   "metadata": {},
   "outputs": [
    {
     "data": {
      "text/plain": [
       "0.024999999999999988"
      ]
     },
     "execution_count": 111,
     "metadata": {},
     "output_type": "execute_result"
    }
   ],
   "source": [
    "rps([0.8, 0.1, 0.1], 0)"
   ]
  },
  {
   "cell_type": "code",
   "execution_count": null,
   "id": "6292bdb4-f65f-4955-9e16-62973e2e1521",
   "metadata": {},
   "outputs": [],
   "source": [
    "rankProbScore <- function(predictions, observed){\n",
    "  ncat <- ncol(predictions)\n",
    "  npred <- nrow(predictions)\n",
    "   \n",
    "  rps <- numeric(npred)\n",
    "   \n",
    "  for (rr in 1:npred){\n",
    "    obsvec <- rep(0, ncat)\n",
    "    obsvec[observed[rr]] <- 1\n",
    "    cumulative <- 0\n",
    "    for (i in 1:ncat){\n",
    "      cumulative <- cumulative + (sum(predictions[rr,1:i]) - sum(obsvec[1:i]))^2\n",
    "    }\n",
    "    rps[rr] <- (1/(ncat-1))*cumulative\n",
    "  }\n",
    "  return(rps)\n",
    "}"
   ]
  },
  {
   "cell_type": "code",
   "execution_count": null,
   "id": "bb9b4c37-6ae5-4e98-b1aa-bd40a4aaae41",
   "metadata": {},
   "outputs": [],
   "source": []
  },
  {
   "cell_type": "code",
   "execution_count": 11,
   "id": "f4617eae-e555-412b-83af-ad12b6aec347",
   "metadata": {},
   "outputs": [],
   "source": [
    "home_idx = np.where(mod.teams == \"Norwich\")[0][0]\n",
    "away_idx = np.where(mod.teams == \"Arsenal\")[0][0]\n",
    "\n",
    "home_attack = mod._params[home_idx]\n",
    "away_attack = mod._params[away_idx]\n",
    "\n",
    "home_defence = mod._params[home_idx + mod.n_teams]\n",
    "away_defence = mod._params[away_idx + mod.n_teams]\n",
    "\n",
    "intercept = mod._params[-2]\n",
    "home_advantage = mod._params[-1]\n",
    "\n",
    "home_goals = np.exp(intercept + home_advantage + home_attack + away_defence)\n",
    "away_goals = np.exp(intercept + away_attack + home_defence)\n",
    "\n",
    "home_vec = poisson(home_goals).pmf(np.arange(0, 10))\n",
    "away_vec = poisson(away_goals).pmf(np.arange(0, 10))\n",
    "m = np.outer(home_vec, away_vec)"
   ]
  },
  {
   "cell_type": "code",
   "execution_count": 12,
   "id": "3bea5258-d155-427e-b0e3-2af411a88625",
   "metadata": {},
   "outputs": [
    {
     "data": {
      "text/plain": [
       "0.5666354417609977"
      ]
     },
     "execution_count": 12,
     "metadata": {},
     "output_type": "execute_result"
    }
   ],
   "source": [
    "sum(np.triu(m, 1)).sum()"
   ]
  },
  {
   "cell_type": "code",
   "execution_count": 13,
   "id": "0d3e6fda-44a0-4c58-b3ed-08bcdf4333fe",
   "metadata": {},
   "outputs": [
    {
     "data": {
      "text/plain": [
       "0.8949525556391001"
      ]
     },
     "execution_count": 13,
     "metadata": {},
     "output_type": "execute_result"
    }
   ],
   "source": [
    "np.triu(m, -1).sum()"
   ]
  },
  {
   "cell_type": "code",
   "execution_count": null,
   "id": "a488112b-c5db-4a30-a998-8ca77307e86c",
   "metadata": {},
   "outputs": [],
   "source": []
  },
  {
   "cell_type": "code",
   "execution_count": 73,
   "id": "e1a06efb-edf6-4bea-b029-7b0a3b09d1df",
   "metadata": {},
   "outputs": [
    {
     "name": "stdout",
     "output_type": "stream",
     "text": [
      "Model: Poisson\n",
      "\n",
      "Log Likelihood: -1088.991\n",
      "AIC: 2261.982\n",
      "\n",
      "Team                 Attack               Defence             \n",
      "------------------------------------------------------------\n",
      "Arsenal              1.362                -1.199              \n",
      "Aston Villa          0.671                -1.157              \n",
      "Blackburn            0.957                -0.758              \n",
      "Bolton               0.913                -0.773              \n",
      "Chelsea              1.229                -1.271              \n",
      "Everton              0.96                 -1.426              \n",
      "Fulham               0.93                 -1.185              \n",
      "Liverpool            0.898                -1.429              \n",
      "Man City             1.571                -1.706              \n",
      "Man United           1.531                -1.58               \n",
      "Newcastle            1.084                -1.177              \n",
      "Norwich              1.025                -0.922              \n",
      "QPR                  0.834                -0.931              \n",
      "Stoke                0.643                -1.158              \n",
      "Sunderland           0.86                 -1.291              \n",
      "Swansea              0.843                -1.188              \n",
      "Tottenham            1.239                -1.386              \n",
      "West Brom            0.866                -1.168              \n",
      "Wigan                0.807                -0.995              \n",
      "Wolves               0.778                -0.716              \n",
      "------------------------------------------------------------\n",
      "Home Advantage: 0.268\n",
      "Intercept: 0.296\n",
      "\n"
     ]
    }
   ],
   "source": [
    "repr_str = \"\"\n",
    "\n",
    "repr_str += \"Model: Poisson\"\n",
    "repr_str += \"\\n\"\n",
    "repr_str += \"\\n\"\n",
    "\n",
    "repr_str += \"Log Likelihood: {0}\".format(round(mod.loglikelihood, 3))\n",
    "repr_str += \"\\n\"\n",
    "repr_str += \"AIC: {0}\".format(round(mod.aic, 3))\n",
    "repr_str += \"\\n\"\n",
    "repr_str += \"\\n\"\n",
    "\n",
    "repr_str += \"{0: <20} {1:<20} {2:<20}\".format(\"Team\", \"Attack\", \"Defence\")\n",
    "repr_str += \"\\n\"\n",
    "repr_str += \"-\" * 60\n",
    "repr_str += \"\\n\"\n",
    "\n",
    "for idx, team in enumerate(mod.teams):\n",
    "    repr_str += \"{0: <20} {1:<20} {2:<20}\".format(\n",
    "        mod.teams[idx],\n",
    "        round(mod._params[idx], 3),\n",
    "        round(mod._params[idx + mod.n_teams], 3),\n",
    "    )\n",
    "    repr_str += \"\\n\"\n",
    "\n",
    "repr_str += \"-\" * 60\n",
    "repr_str += \"\\n\"\n",
    "\n",
    "repr_str += \"Home Advantage: {0}\".format(round(mod._params[-2], 3))\n",
    "repr_str += \"\\n\"\n",
    "repr_str += \"Intercept: {0}\".format(round(mod._params[-1], 3))\n",
    "repr_str += \"\\n\"\n",
    "\n",
    "print(repr_str)"
   ]
  },
  {
   "cell_type": "code",
   "execution_count": null,
   "id": "3d57ea5a-23ff-4295-adaa-f0aa35b5a298",
   "metadata": {},
   "outputs": [],
   "source": []
  },
  {
   "cell_type": "code",
   "execution_count": null,
   "id": "3b542eb3-7620-4daa-b10c-bb2bc8935ebe",
   "metadata": {},
   "outputs": [],
   "source": []
  },
  {
   "cell_type": "code",
   "execution_count": 74,
   "id": "f0af7080-27be-4d01-bfef-5b1c3dca255b",
   "metadata": {},
   "outputs": [
    {
     "data": {
      "text/plain": [
       "<penaltyblog.poisson.poisson.Poisson at 0x7f9df3f4a8b0>"
      ]
     },
     "execution_count": 74,
     "metadata": {},
     "output_type": "execute_result"
    }
   ],
   "source": [
    "mod"
   ]
  },
  {
   "cell_type": "code",
   "execution_count": null,
   "id": "8ec1e130-8897-4439-9569-6f4c2b5324b0",
   "metadata": {},
   "outputs": [],
   "source": []
  },
  {
   "cell_type": "code",
   "execution_count": 42,
   "id": "73d75b05-af11-4b06-ab46-becfb1b592f6",
   "metadata": {},
   "outputs": [],
   "source": [
    "def _fit(params, fixtures, teams):\n",
    "    n_teams = len(teams)\n",
    "\n",
    "    params_df = pd.DataFrame(params[:n_teams], columns=[\"attack\"])\n",
    "    params_df[\"defence\"] = params[n_teams : n_teams * 2]\n",
    "    params_df[\"team\"] = teams\n",
    "\n",
    "    df2 = (\n",
    "        fixtures.merge(params_df, left_on=\"team_home\", right_on=\"team\")\n",
    "        .rename(columns={\"attack\": \"home_attack\", \"defence\": \"home_defence\"})\n",
    "        .drop(\"team\", axis=1)\n",
    "        .merge(params_df, left_on=\"team_away\", right_on=\"team\")\n",
    "        .rename(columns={\"attack\": \"away_attack\", \"defence\": \"away_defence\"})\n",
    "        .drop(\"team\", axis=1)\n",
    "        .assign(hfa=params[-2])\n",
    "        .assign(intercept=params[-1])\n",
    "    )\n",
    "\n",
    "    # import pdb\n",
    "\n",
    "    # pdb.set_trace()\n",
    "\n",
    "    df2[\"goals_home\"] = df2[\"goals_home\"].astype(int)\n",
    "    df2[\"goals_away\"] = df2[\"goals_away\"].astype(int)\n",
    "\n",
    "    # goal expectation\n",
    "    df2[\"home_exp\"] = np.exp(\n",
    "        df2[\"intercept\"] + df2[\"hfa\"] + df2[\"home_attack\"] + df2[\"away_defence\"]\n",
    "    )\n",
    "    df2[\"away_exp\"] = np.exp(\n",
    "        df2[\"intercept\"] + df2[\"away_attack\"] + df2[\"home_defence\"]\n",
    "    )\n",
    "\n",
    "    # likelihood\n",
    "    df2[\"home_llk\"] = poisson.pmf(df2[\"goals_home\"], df2[\"home_exp\"])\n",
    "    df2[\"away_llk\"] = poisson.pmf(df2[\"goals_away\"], df2[\"away_exp\"])\n",
    "    df2[\"llk\"] = np.log(df2[\"home_llk\"]) + np.log(df2[\"away_llk\"])\n",
    "\n",
    "    #     # return the sum of the negative likelihood\n",
    "    return -df2[\"llk\"].sum()\n",
    "\n",
    "\n",
    "#     return df2"
   ]
  },
  {
   "cell_type": "code",
   "execution_count": 43,
   "id": "1679f02e-c75e-455c-9ef4-b8f97f8f16a7",
   "metadata": {},
   "outputs": [],
   "source": [
    "df2 = _fit(mod.params, mod.fixtures, mod.teams)"
   ]
  },
  {
   "cell_type": "code",
   "execution_count": 44,
   "id": "8d4529c6-d3c5-4e41-9cf4-43637e633cfa",
   "metadata": {},
   "outputs": [
    {
     "data": {
      "text/plain": [
       "1482.7290022715952"
      ]
     },
     "execution_count": 44,
     "metadata": {},
     "output_type": "execute_result"
    }
   ],
   "source": [
    "df2"
   ]
  },
  {
   "cell_type": "code",
   "execution_count": 24,
   "id": "c8f903bc-8528-4568-94af-bff9ae89d79f",
   "metadata": {},
   "outputs": [
    {
     "ename": "TypeError",
     "evalue": "ufunc 'isnan' not supported for the input types, and the inputs could not be safely coerced to any supported types according to the casting rule ''safe''",
     "output_type": "error",
     "traceback": [
      "\u001b[0;31m---------------------------------------------------------------------------\u001b[0m",
      "\u001b[0;31mTypeError\u001b[0m                                 Traceback (most recent call last)",
      "\u001b[0;32m<ipython-input-24-59c81d0286a6>\u001b[0m in \u001b[0;36m<module>\u001b[0;34m\u001b[0m\n\u001b[0;32m----> 1\u001b[0;31m \u001b[0mpoisson\u001b[0m\u001b[0;34m.\u001b[0m\u001b[0mpmf\u001b[0m\u001b[0;34m(\u001b[0m\u001b[0mdf2\u001b[0m\u001b[0;34m[\u001b[0m\u001b[0;34m\"goals_home\"\u001b[0m\u001b[0;34m]\u001b[0m\u001b[0;34m,\u001b[0m \u001b[0mdf2\u001b[0m\u001b[0;34m[\u001b[0m\u001b[0;34m\"home_exp\"\u001b[0m\u001b[0;34m]\u001b[0m\u001b[0;34m)\u001b[0m\u001b[0;34m\u001b[0m\u001b[0;34m\u001b[0m\u001b[0m\n\u001b[0m",
      "\u001b[0;32m/opt/conda/lib/python3.9/site-packages/scipy/stats/_distn_infrastructure.py\u001b[0m in \u001b[0;36mpmf\u001b[0;34m(self, k, *args, **kwds)\u001b[0m\n\u001b[1;32m   3107\u001b[0m         \u001b[0mcond\u001b[0m \u001b[0;34m=\u001b[0m \u001b[0mcond0\u001b[0m \u001b[0;34m&\u001b[0m \u001b[0mcond1\u001b[0m\u001b[0;34m\u001b[0m\u001b[0;34m\u001b[0m\u001b[0m\n\u001b[1;32m   3108\u001b[0m         \u001b[0moutput\u001b[0m \u001b[0;34m=\u001b[0m \u001b[0mzeros\u001b[0m\u001b[0;34m(\u001b[0m\u001b[0mshape\u001b[0m\u001b[0;34m(\u001b[0m\u001b[0mcond\u001b[0m\u001b[0;34m)\u001b[0m\u001b[0;34m,\u001b[0m \u001b[0;34m'd'\u001b[0m\u001b[0;34m)\u001b[0m\u001b[0;34m\u001b[0m\u001b[0;34m\u001b[0m\u001b[0m\n\u001b[0;32m-> 3109\u001b[0;31m         \u001b[0mplace\u001b[0m\u001b[0;34m(\u001b[0m\u001b[0moutput\u001b[0m\u001b[0;34m,\u001b[0m \u001b[0;34m(\u001b[0m\u001b[0;36m1\u001b[0m\u001b[0;34m-\u001b[0m\u001b[0mcond0\u001b[0m\u001b[0;34m)\u001b[0m \u001b[0;34m+\u001b[0m \u001b[0mnp\u001b[0m\u001b[0;34m.\u001b[0m\u001b[0misnan\u001b[0m\u001b[0;34m(\u001b[0m\u001b[0mk\u001b[0m\u001b[0;34m)\u001b[0m\u001b[0;34m,\u001b[0m \u001b[0mself\u001b[0m\u001b[0;34m.\u001b[0m\u001b[0mbadvalue\u001b[0m\u001b[0;34m)\u001b[0m\u001b[0;34m\u001b[0m\u001b[0;34m\u001b[0m\u001b[0m\n\u001b[0m\u001b[1;32m   3110\u001b[0m         \u001b[0;32mif\u001b[0m \u001b[0mnp\u001b[0m\u001b[0;34m.\u001b[0m\u001b[0many\u001b[0m\u001b[0;34m(\u001b[0m\u001b[0mcond\u001b[0m\u001b[0;34m)\u001b[0m\u001b[0;34m:\u001b[0m\u001b[0;34m\u001b[0m\u001b[0;34m\u001b[0m\u001b[0m\n\u001b[1;32m   3111\u001b[0m             \u001b[0mgoodargs\u001b[0m \u001b[0;34m=\u001b[0m \u001b[0margsreduce\u001b[0m\u001b[0;34m(\u001b[0m\u001b[0mcond\u001b[0m\u001b[0;34m,\u001b[0m \u001b[0;34m*\u001b[0m\u001b[0;34m(\u001b[0m\u001b[0;34m(\u001b[0m\u001b[0mk\u001b[0m\u001b[0;34m,\u001b[0m\u001b[0;34m)\u001b[0m\u001b[0;34m+\u001b[0m\u001b[0margs\u001b[0m\u001b[0;34m)\u001b[0m\u001b[0;34m)\u001b[0m\u001b[0;34m\u001b[0m\u001b[0;34m\u001b[0m\u001b[0m\n",
      "\u001b[0;31mTypeError\u001b[0m: ufunc 'isnan' not supported for the input types, and the inputs could not be safely coerced to any supported types according to the casting rule ''safe''"
     ]
    }
   ],
   "source": [
    "poisson.pmf(df2[\"goals_home\"], df2[\"home_exp\"])"
   ]
  },
  {
   "cell_type": "code",
   "execution_count": 36,
   "id": "27425ebc-76f9-4c9f-b92a-13a106e3aa49",
   "metadata": {},
   "outputs": [
    {
     "data": {
      "text/plain": [
       "0      4\n",
       "1      0\n",
       "2      0\n",
       "3      5\n",
       "4      2\n",
       "      ..\n",
       "375    3\n",
       "376    0\n",
       "377    1\n",
       "378    3\n",
       "379    0\n",
       "Name: goals_home, Length: 380, dtype: int64"
      ]
     },
     "execution_count": 36,
     "metadata": {},
     "output_type": "execute_result"
    }
   ],
   "source": [
    "df2[\"goals_home\"].astype(int)"
   ]
  },
  {
   "cell_type": "code",
   "execution_count": null,
   "id": "c2a56230-0a12-44c0-aa6c-14928fb75e70",
   "metadata": {},
   "outputs": [],
   "source": []
  },
  {
   "cell_type": "code",
   "execution_count": null,
   "id": "c54d2b24-7826-4ae2-9ca9-455554bd3631",
   "metadata": {},
   "outputs": [],
   "source": []
  },
  {
   "cell_type": "code",
   "execution_count": 4,
   "id": "36620cd1-e111-4069-aeb6-94b42aacda75",
   "metadata": {},
   "outputs": [],
   "source": [
    "home_teams = np.unique(df[\"HomeTeam\"].values)\n",
    "away_teams = np.unique(df[\"AwayTeam\"].values)"
   ]
  },
  {
   "cell_type": "code",
   "execution_count": 5,
   "id": "1a05adfa-2707-424c-aae5-7c6d75f0ad30",
   "metadata": {},
   "outputs": [
    {
     "data": {
      "text/plain": [
       "array(['Arsenal', 'Aston Villa', 'Blackburn', 'Bolton', 'Chelsea',\n",
       "       'Everton', 'Fulham', 'Liverpool', 'Man City', 'Man United',\n",
       "       'Newcastle', 'Norwich', 'QPR', 'Stoke', 'Sunderland', 'Swansea',\n",
       "       'Tottenham', 'West Brom', 'Wigan', 'Wolves'], dtype=object)"
      ]
     },
     "execution_count": 5,
     "metadata": {},
     "output_type": "execute_result"
    }
   ],
   "source": [
    "teams = np.sort(np.unique(np.concatenate([home_teams, away_teams])))\n",
    "n_teams = len(teams)\n",
    "\n",
    "teams"
   ]
  },
  {
   "cell_type": "code",
   "execution_count": 6,
   "id": "44a9e37d-e230-44f6-a0fc-cbd76cbee55e",
   "metadata": {},
   "outputs": [
    {
     "data": {
      "text/plain": [
       "array([ 1.  ,  1.  ,  1.  ,  1.  ,  1.  ,  1.  ,  1.  ,  1.  ,  1.  ,\n",
       "        1.  ,  1.  ,  1.  ,  1.  ,  1.  ,  1.  ,  1.  ,  1.  ,  1.  ,\n",
       "        1.  ,  1.  , -1.  , -1.  , -1.  , -1.  , -1.  , -1.  , -1.  ,\n",
       "       -1.  , -1.  , -1.  , -1.  , -1.  , -1.  , -1.  , -1.  , -1.  ,\n",
       "       -1.  , -1.  , -1.  , -1.  ,  0.25,  0.13])"
      ]
     },
     "execution_count": 6,
     "metadata": {},
     "output_type": "execute_result"
    }
   ],
   "source": [
    "params = np.concatenate(\n",
    "    (\n",
    "        [1] * n_teams,  # attack strength\n",
    "        [-1] * n_teams,  # defence strength\n",
    "        [0.25],  # home advantage\n",
    "        [0.13],  # intercept\n",
    "    )\n",
    ")\n",
    "\n",
    "params"
   ]
  },
  {
   "cell_type": "code",
   "execution_count": 7,
   "id": "1c8298f7-10e5-4e63-b543-0f73b98ca09d",
   "metadata": {},
   "outputs": [
    {
     "data": {
      "text/plain": [
       "({'Arsenal': 1.0,\n",
       "  'Aston Villa': 1.0,\n",
       "  'Blackburn': 1.0,\n",
       "  'Bolton': 1.0,\n",
       "  'Chelsea': 1.0,\n",
       "  'Everton': 1.0,\n",
       "  'Fulham': 1.0,\n",
       "  'Liverpool': 1.0,\n",
       "  'Man City': 1.0,\n",
       "  'Man United': 1.0,\n",
       "  'Newcastle': 1.0,\n",
       "  'Norwich': 1.0,\n",
       "  'QPR': 1.0,\n",
       "  'Stoke': 1.0,\n",
       "  'Sunderland': 1.0,\n",
       "  'Swansea': 1.0,\n",
       "  'Tottenham': 1.0,\n",
       "  'West Brom': 1.0,\n",
       "  'Wigan': 1.0,\n",
       "  'Wolves': 1.0},\n",
       " {'Arsenal': -1.0,\n",
       "  'Aston Villa': -1.0,\n",
       "  'Blackburn': -1.0,\n",
       "  'Bolton': -1.0,\n",
       "  'Chelsea': -1.0,\n",
       "  'Everton': -1.0,\n",
       "  'Fulham': -1.0,\n",
       "  'Liverpool': -1.0,\n",
       "  'Man City': -1.0,\n",
       "  'Man United': -1.0,\n",
       "  'Newcastle': -1.0,\n",
       "  'Norwich': -1.0,\n",
       "  'QPR': -1.0,\n",
       "  'Stoke': -1.0,\n",
       "  'Sunderland': -1.0,\n",
       "  'Swansea': -1.0,\n",
       "  'Tottenham': -1.0,\n",
       "  'West Brom': -1.0,\n",
       "  'Wigan': -1.0,\n",
       "  'Wolves': -1.0},\n",
       " 0.25,\n",
       " 0.13)"
      ]
     },
     "execution_count": 7,
     "metadata": {},
     "output_type": "execute_result"
    }
   ],
   "source": [
    "attack_params = dict(zip(teams, params[:n_teams]))\n",
    "defence_params = dict(zip(teams, params[n_teams : n_teams * 2]))\n",
    "hfa = params[-2]\n",
    "intercept = params[-1]\n",
    "\n",
    "attack_params, defence_params, hfa, intercept"
   ]
  },
  {
   "cell_type": "code",
   "execution_count": 8,
   "id": "a7427ee2-4cce-41f2-9836-8a2f764af70b",
   "metadata": {},
   "outputs": [],
   "source": [
    "def neg_log_likelihood(\n",
    "    goals_home_observed,\n",
    "    goals_away_observed,\n",
    "    attack_param_home,\n",
    "    defence_param_home,\n",
    "    attack_param_away,\n",
    "    defence_param_away,\n",
    "    home_advantage,\n",
    "    intercept,\n",
    "):\n",
    "    home_goals_expected = np.exp(\n",
    "        intercept + attack_param_home + defence_param_away + home_advantage\n",
    "    )\n",
    "    away_goals_expected = np.exp(intercept + attack_param_away + defence_param_home)\n",
    "\n",
    "    if home_goals_expected < 0 or away_goals_expected < 0:\n",
    "        return 100000000\n",
    "\n",
    "    log_lik_home = poisson.pmf(goals_home_observed, home_goals_expected)\n",
    "    log_lik_away = poisson.pmf(goals_away_observed, away_goals_expected)\n",
    "\n",
    "    log_lik = np.sum(np.log(log_lik_home) + np.log(log_lik_away))\n",
    "\n",
    "    return log_lik * -1"
   ]
  },
  {
   "cell_type": "code",
   "execution_count": 9,
   "id": "2c196c6b-fb11-4ef5-bc85-0d99ad62d1fd",
   "metadata": {},
   "outputs": [],
   "source": [
    "def fit(params, fixtures, teams):\n",
    "    attack_params = dict(zip(teams, params[:n_teams]))\n",
    "    defence_params = dict(zip(teams, params[n_teams : n_teams * 2]))\n",
    "    hfa = params[-2]\n",
    "    intercept = params[-1]\n",
    "\n",
    "    log_likelihood = list()\n",
    "    for idx, row in fixtures.iterrows():\n",
    "        llk = neg_log_likelihood(\n",
    "            row[\"FTHG\"],\n",
    "            row[\"FTAG\"],\n",
    "            attack_params[row[\"HomeTeam\"]],\n",
    "            defence_params[row[\"HomeTeam\"]],\n",
    "            attack_params[row[\"AwayTeam\"]],\n",
    "            defence_params[row[\"AwayTeam\"]],\n",
    "            hfa,\n",
    "            intercept,\n",
    "        )\n",
    "        log_likelihood.append(llk)\n",
    "    #         import pdb; pdb.set_trace()\n",
    "\n",
    "    log_likelihood = np.sum(log_likelihood)\n",
    "    return log_likelihood"
   ]
  },
  {
   "cell_type": "code",
   "execution_count": 10,
   "id": "363d2d82-a045-422e-a473-d6e73cd6e5c5",
   "metadata": {},
   "outputs": [],
   "source": [
    "def fit2(params, fixtures, teams):\n",
    "    params_df = pd.DataFrame(params[:n_teams], columns=[\"attack\"])\n",
    "    params_df[\"defence\"] = params[n_teams : n_teams * 2]\n",
    "    params_df[\"team\"] = teams\n",
    "\n",
    "    df2 = (\n",
    "        fixtures.merge(params_df, left_on=\"HomeTeam\", right_on=\"team\")\n",
    "        .rename(columns={\"attack\": \"home_attack\", \"defence\": \"home_defence\"})\n",
    "        .drop(\"team\", axis=1)\n",
    "        .merge(params_df, left_on=\"AwayTeam\", right_on=\"team\")\n",
    "        .rename(columns={\"attack\": \"away_attack\", \"defence\": \"away_defence\"})\n",
    "        .drop(\"team\", axis=1)\n",
    "        .assign(hfa=params[-2])\n",
    "        .assign(intercept=params[-1])\n",
    "    )\n",
    "\n",
    "    # goal expectation\n",
    "    df2[\"home_exp\"] = np.exp(\n",
    "        df2[\"intercept\"] + df2[\"hfa\"] + df2[\"home_attack\"] + df2[\"away_defence\"]\n",
    "    )\n",
    "    df2[\"away_exp\"] = np.exp(\n",
    "        df2[\"intercept\"] + df2[\"away_attack\"] + df2[\"home_defence\"]\n",
    "    )\n",
    "\n",
    "    # likelihood\n",
    "    df2[\"home_llk\"] = poisson.pmf(df2[\"FTHG\"], df2[\"home_exp\"])\n",
    "    df2[\"away_llk\"] = poisson.pmf(df2[\"FTAG\"], df2[\"away_exp\"])\n",
    "    df2[\"llk\"] = np.log(df2[\"home_llk\"]) + np.log(df2[\"away_llk\"])\n",
    "\n",
    "    return -df2[\"llk\"].sum()"
   ]
  },
  {
   "cell_type": "code",
   "execution_count": 11,
   "id": "c65081f6-452c-4703-b684-da557905f7a5",
   "metadata": {},
   "outputs": [
    {
     "name": "stdout",
     "output_type": "stream",
     "text": [
      "CPU times: user 25.5 ms, sys: 8.61 ms, total: 34.1 ms\n",
      "Wall time: 31.3 ms\n"
     ]
    },
    {
     "data": {
      "text/plain": [
       "1169.1661546630157"
      ]
     },
     "execution_count": 11,
     "metadata": {},
     "output_type": "execute_result"
    }
   ],
   "source": [
    "%time fit2(params, df, teams)"
   ]
  },
  {
   "cell_type": "code",
   "execution_count": 12,
   "id": "982384eb-3318-497f-be91-af15056b94b4",
   "metadata": {},
   "outputs": [
    {
     "name": "stderr",
     "output_type": "stream",
     "text": [
      "/opt/conda/lib/python3.9/site-packages/pandas/core/arraylike.py:358: RuntimeWarning: divide by zero encountered in log\n",
      "  result = getattr(ufunc, method)(*inputs, **kwargs)\n"
     ]
    },
    {
     "name": "stdout",
     "output_type": "stream",
     "text": [
      "Optimization terminated successfully    (Exit mode 0)\n",
      "            Current function value: 1088.9910526412477\n",
      "            Iterations: 27\n",
      "            Function evaluations: 1207\n",
      "            Gradient evaluations: 27\n"
     ]
    }
   ],
   "source": [
    "options = {\n",
    "    \"maxiter\": 100,\n",
    "    \"disp\": True,\n",
    "}\n",
    "\n",
    "constraints = [{\"type\": \"eq\", \"fun\": lambda x: sum(x[:n_teams]) - n_teams}]\n",
    "\n",
    "res = minimize(\n",
    "    fit2,\n",
    "    params,\n",
    "    args=(df, teams),\n",
    "    constraints=constraints,\n",
    "    options=options,\n",
    ")"
   ]
  },
  {
   "cell_type": "code",
   "execution_count": 17,
   "id": "71738c47-7e55-4110-a5dd-60f632373684",
   "metadata": {},
   "outputs": [
    {
     "data": {
      "text/plain": [
       "42"
      ]
     },
     "execution_count": 17,
     "metadata": {},
     "output_type": "execute_result"
    }
   ],
   "source": [
    "len(res[\"x\"])"
   ]
  },
  {
   "cell_type": "code",
   "execution_count": 13,
   "id": "d846eff4-06d8-43b4-af32-ec14b137dd6c",
   "metadata": {},
   "outputs": [
    {
     "data": {
      "text/plain": [
       "{'attack_Arsenal': 1.3618894048046104,\n",
       " 'attack_Aston Villa': 0.6710556384701741,\n",
       " 'attack_Blackburn': 0.9565636311597576,\n",
       " 'attack_Bolton': 0.9129977612270153,\n",
       " 'attack_Chelsea': 1.2286740487399637,\n",
       " 'attack_Everton': 0.9599618908688915,\n",
       " 'attack_Fulham': 0.929668701183735,\n",
       " 'attack_Liverpool': 0.8978373454639799,\n",
       " 'attack_Man City': 1.5709770286005091,\n",
       " 'attack_Man United': 1.5309479144008318,\n",
       " 'attack_Newcastle': 1.0841956761868037,\n",
       " 'attack_Norwich': 1.0250161563424816,\n",
       " 'attack_QPR': 0.8343182520298015,\n",
       " 'attack_Stoke': 0.6432806103056741,\n",
       " 'attack_Sunderland': 0.8602148668669803,\n",
       " 'attack_Swansea': 0.8425827806293722,\n",
       " 'attack_Tottenham': 1.2391263982727108,\n",
       " 'attack_West Brom': 0.8661609505043957,\n",
       " 'attack_Wigan': 0.8066418147380476,\n",
       " 'attack_Wolves': 0.7778891292042638,\n",
       " 'defence_Arsenal': -1.0283507377341752,\n",
       " 'defence_Aston Villa': -0.9863219398955788,\n",
       " 'defence_Blackburn': -0.5878757870885645,\n",
       " 'defence_Bolton': -0.6027985047201236,\n",
       " 'defence_Chelsea': -1.1005237555739777,\n",
       " 'defence_Everton': -1.255546019561366,\n",
       " 'defence_Fulham': -1.014059406528516,\n",
       " 'defence_Liverpool': -1.2583849519009236,\n",
       " 'defence_Man City': -1.5353021594840577,\n",
       " 'defence_Man United': -1.4097529003203715,\n",
       " 'defence_Newcastle': -1.0060502325060297,\n",
       " 'defence_Norwich': -0.7514046473848128,\n",
       " 'defence_QPR': -0.7605915142571663,\n",
       " 'defence_Stoke': -0.9873282137041481,\n",
       " 'defence_Sunderland': -1.1203584139380312,\n",
       " 'defence_Swansea': -1.01792784604214,\n",
       " 'defence_Tottenham': -1.2153296632794721,\n",
       " 'defence_West Brom': -0.9975134246926428,\n",
       " 'defence_Wigan': -0.824040266928904,\n",
       " 'defence_Wolves': -0.5457608422383285,\n",
       " 'hfa': 0.26800820000376413,\n",
       " 'intercept': 0.1253231112088784}"
      ]
     },
     "execution_count": 13,
     "metadata": {},
     "output_type": "execute_result"
    }
   ],
   "source": [
    "dict(\n",
    "    zip(\n",
    "        [\"attack_\" + team for team in teams]\n",
    "        + [\"defence_\" + team for team in teams]\n",
    "        + [\"hfa\", \"intercept\"],\n",
    "        res.x,\n",
    "    )\n",
    ")"
   ]
  },
  {
   "cell_type": "code",
   "execution_count": 32,
   "id": "87bec3f2-ed68-488f-8266-4dce8070c1f8",
   "metadata": {},
   "outputs": [
    {
     "data": {
      "text/plain": [
       "array([ 0.1 ,  0.1 ,  0.1 ,  0.1 ,  0.1 ,  0.1 ,  0.1 ,  0.1 ,  0.1 ,\n",
       "        0.1 ,  0.1 ,  0.1 ,  0.1 ,  0.1 ,  0.1 ,  0.1 ,  0.1 ,  0.1 ,\n",
       "        0.1 ,  0.1 , -0.1 , -0.1 , -0.1 , -0.1 , -0.1 , -0.1 , -0.1 ,\n",
       "       -0.1 , -0.1 , -0.1 , -0.1 , -0.1 , -0.1 , -0.1 , -0.1 , -0.1 ,\n",
       "       -0.1 , -0.1 , -0.1 , -0.1 ,  0.25,  0.13])"
      ]
     },
     "execution_count": 32,
     "metadata": {},
     "output_type": "execute_result"
    }
   ],
   "source": [
    "params"
   ]
  },
  {
   "cell_type": "code",
   "execution_count": 149,
   "id": "f2c51420-f1a7-427e-b46e-61d2f67b57f1",
   "metadata": {},
   "outputs": [
    {
     "data": {
      "text/plain": [
       "array([0.07326256, 0.08422434, 0.08923508])"
      ]
     },
     "execution_count": 149,
     "metadata": {},
     "output_type": "execute_result"
    }
   ],
   "source": [
    "poisson.pmf([1, 2, 3], [4, 5, 6])"
   ]
  },
  {
   "cell_type": "code",
   "execution_count": 90,
   "id": "c9157caa-4bfb-4a34-8330-ff1222a220c9",
   "metadata": {},
   "outputs": [],
   "source": [
    "import pandas as pd"
   ]
  },
  {
   "cell_type": "code",
   "execution_count": 123,
   "id": "7851bd9e-61a7-463a-9863-3e72a962c288",
   "metadata": {},
   "outputs": [
    {
     "data": {
      "text/html": [
       "<div>\n",
       "<style scoped>\n",
       "    .dataframe tbody tr th:only-of-type {\n",
       "        vertical-align: middle;\n",
       "    }\n",
       "\n",
       "    .dataframe tbody tr th {\n",
       "        vertical-align: top;\n",
       "    }\n",
       "\n",
       "    .dataframe thead th {\n",
       "        text-align: right;\n",
       "    }\n",
       "</style>\n",
       "<table border=\"1\" class=\"dataframe\">\n",
       "  <thead>\n",
       "    <tr style=\"text-align: right;\">\n",
       "      <th></th>\n",
       "      <th>HomeTeam</th>\n",
       "      <th>AwayTeam</th>\n",
       "      <th>FTHG</th>\n",
       "      <th>FTAG</th>\n",
       "    </tr>\n",
       "  </thead>\n",
       "  <tbody>\n",
       "    <tr>\n",
       "      <th>0</th>\n",
       "      <td>Blackburn</td>\n",
       "      <td>Wolves</td>\n",
       "      <td>1</td>\n",
       "      <td>2</td>\n",
       "    </tr>\n",
       "    <tr>\n",
       "      <th>1</th>\n",
       "      <td>Fulham</td>\n",
       "      <td>Aston Villa</td>\n",
       "      <td>0</td>\n",
       "      <td>0</td>\n",
       "    </tr>\n",
       "    <tr>\n",
       "      <th>2</th>\n",
       "      <td>Liverpool</td>\n",
       "      <td>Sunderland</td>\n",
       "      <td>1</td>\n",
       "      <td>1</td>\n",
       "    </tr>\n",
       "    <tr>\n",
       "      <th>3</th>\n",
       "      <td>Newcastle</td>\n",
       "      <td>Arsenal</td>\n",
       "      <td>0</td>\n",
       "      <td>0</td>\n",
       "    </tr>\n",
       "    <tr>\n",
       "      <th>4</th>\n",
       "      <td>QPR</td>\n",
       "      <td>Bolton</td>\n",
       "      <td>0</td>\n",
       "      <td>4</td>\n",
       "    </tr>\n",
       "  </tbody>\n",
       "</table>\n",
       "</div>"
      ],
      "text/plain": [
       "    HomeTeam     AwayTeam  FTHG  FTAG\n",
       "0  Blackburn       Wolves     1     2\n",
       "1     Fulham  Aston Villa     0     0\n",
       "2  Liverpool   Sunderland     1     1\n",
       "3  Newcastle      Arsenal     0     0\n",
       "4        QPR       Bolton     0     4"
      ]
     },
     "execution_count": 123,
     "metadata": {},
     "output_type": "execute_result"
    }
   ],
   "source": [
    "df = pd.read_csv(\"http://www.football-data.co.uk/mmz4281/1112/E0.csv\")\n",
    "df = df[[\"HomeTeam\", \"AwayTeam\", \"FTHG\", \"FTAG\"]]\n",
    "df.head()"
   ]
  },
  {
   "cell_type": "code",
   "execution_count": 92,
   "id": "14d43386-8fc8-4cdb-addf-01c5e7aeffb4",
   "metadata": {},
   "outputs": [],
   "source": [
    "def dc_log_like(x, y, alpha_x, beta_x, alpha_y, beta_y, rho, gamma):\n",
    "    lambda_x, mu_y = np.exp(alpha_x + beta_y + gamma), np.exp(alpha_y + beta_x)\n",
    "    return (\n",
    "        np.log(rho_correction(x, y, lambda_x, mu_y, rho))\n",
    "        + np.log(poisson.pmf(x, lambda_x))\n",
    "        + np.log(poisson.pmf(y, mu_y))\n",
    "    )\n",
    "\n",
    "\n",
    "def rho_correction(x, y, lambda_x, mu_y, rho):\n",
    "    if x == 0 and y == 0:\n",
    "        return 1 - (lambda_x * mu_y * rho)\n",
    "    elif x == 0 and y == 1:\n",
    "        return 1 + (lambda_x * rho)\n",
    "    elif x == 1 and y == 0:\n",
    "        return 1 + (mu_y * rho)\n",
    "    elif x == 1 and y == 1:\n",
    "        return 1 - rho\n",
    "    else:\n",
    "        return 1.0"
   ]
  },
  {
   "cell_type": "code",
   "execution_count": 99,
   "id": "1dda7dec-e591-4af7-be8c-132f2afa4f04",
   "metadata": {},
   "outputs": [],
   "source": [
    "def solve_parameters(\n",
    "    dataset,\n",
    "    debug=False,\n",
    "    init_vals=None,\n",
    "    options={\"disp\": True, \"maxiter\": 100},\n",
    "    constraints=[{\"type\": \"eq\", \"fun\": lambda x: sum(x[:20]) - 20}],\n",
    "    **kwargs\n",
    "):\n",
    "    teams = np.sort(dataset[\"HomeTeam\"].unique())\n",
    "    # check for no weirdness in dataset\n",
    "    away_teams = np.sort(dataset[\"AwayTeam\"].unique())\n",
    "    if not np.array_equal(teams, away_teams):\n",
    "        raise ValueError(\"Something's not right\")\n",
    "    n_teams = len(teams)\n",
    "    if init_vals is None:\n",
    "        # random initialisation of model parameters\n",
    "        init_vals = np.concatenate(\n",
    "            (\n",
    "                np.random.uniform(0, 1, (n_teams)),  # attack strength\n",
    "                np.random.uniform(0, -1, (n_teams)),  # defence strength\n",
    "                np.array([0, 1.0]),  # rho (score correction), gamma (home advantage)\n",
    "            )\n",
    "        )\n",
    "\n",
    "    def dc_log_like(x, y, alpha_x, beta_x, alpha_y, beta_y, rho, gamma):\n",
    "        lambda_x, mu_y = np.exp(alpha_x + beta_y + gamma), np.exp(alpha_y + beta_x)\n",
    "\n",
    "        if lambda_x < 0 or mu_y < 0 or rho_correction(x, y, lambda_x, mu_y, rho) < 0:\n",
    "            return 100000000\n",
    "\n",
    "        return (\n",
    "            np.log(rho_correction(x, y, lambda_x, mu_y, rho))\n",
    "            + np.log(poisson.pmf(x, lambda_x))\n",
    "            + np.log(poisson.pmf(y, mu_y))\n",
    "        )\n",
    "\n",
    "    def estimate_paramters(params):\n",
    "        score_coefs = dict(zip(teams, params[:n_teams]))\n",
    "        defend_coefs = dict(zip(teams, params[n_teams : (2 * n_teams)]))\n",
    "        rho, gamma = params[-2:]\n",
    "        log_like = [\n",
    "            dc_log_like(\n",
    "                row.HomeGoals,\n",
    "                row.AwayGoals,\n",
    "                score_coefs[row.HomeTeam],\n",
    "                defend_coefs[row.HomeTeam],\n",
    "                score_coefs[row.AwayTeam],\n",
    "                defend_coefs[row.AwayTeam],\n",
    "                rho,\n",
    "                gamma,\n",
    "            )\n",
    "            for row in dataset.itertuples()\n",
    "        ]\n",
    "        return -sum(log_like)\n",
    "\n",
    "    opt_output = minimize(\n",
    "        estimate_paramters,\n",
    "        init_vals,\n",
    "        options=options,\n",
    "        constraints=constraints,\n",
    "        **kwargs\n",
    "    )\n",
    "    if debug:\n",
    "        # sort of hacky way to investigate the output of the optimisation process\n",
    "        return opt_output\n",
    "    else:\n",
    "        return dict(\n",
    "            zip(\n",
    "                [\"attack_\" + team for team in teams]\n",
    "                + [\"defence_\" + team for team in teams]\n",
    "                + [\"rho\", \"home_adv\"],\n",
    "                opt_output.x,\n",
    "            )\n",
    "        )"
   ]
  },
  {
   "cell_type": "code",
   "execution_count": 100,
   "id": "b35fb686-6a31-46cc-867a-fa8f0a143d68",
   "metadata": {},
   "outputs": [
    {
     "name": "stderr",
     "output_type": "stream",
     "text": [
      "<ipython-input-99-a9b80ae1315e>:33: RuntimeWarning: divide by zero encountered in log\n",
      "  + np.log(poisson.pmf(x, lambda_x))\n",
      "<ipython-input-99-a9b80ae1315e>:34: RuntimeWarning: divide by zero encountered in log\n",
      "  + np.log(poisson.pmf(y, mu_y))\n",
      "<ipython-input-99-a9b80ae1315e>:26: RuntimeWarning: overflow encountered in exp\n",
      "  lambda_x, mu_y = np.exp(alpha_x + beta_y + gamma), np.exp(alpha_y + beta_x)\n",
      "/opt/conda/lib/python3.9/site-packages/scipy/stats/_discrete_distns.py:763: RuntimeWarning: invalid value encountered in subtract\n",
      "  Pk = special.xlogy(k, mu) - gamln(k + 1) - mu\n",
      "<ipython-input-99-a9b80ae1315e>:32: RuntimeWarning: invalid value encountered in double_scalars\n",
      "  np.log(rho_correction(x, y, lambda_x, mu_y, rho))\n",
      "<ipython-input-92-04302d8440de>:8: RuntimeWarning: invalid value encountered in double_scalars\n",
      "  return 1- (lambda_x * mu_y * rho)\n"
     ]
    },
    {
     "name": "stdout",
     "output_type": "stream",
     "text": [
      "Iteration limit reached    (Exit mode 9)\n",
      "            Current function value: nan\n",
      "            Iterations: 100\n",
      "            Function evaluations: 5345\n",
      "            Gradient evaluations: 100\n"
     ]
    }
   ],
   "source": [
    "params = solve_parameters(epl_1718)"
   ]
  },
  {
   "cell_type": "code",
   "execution_count": 101,
   "id": "0f98f5ff-035d-4f1a-b3f6-38250d324862",
   "metadata": {},
   "outputs": [
    {
     "data": {
      "text/plain": [
       "{'attack_Arsenal': nan,\n",
       " 'attack_Bournemouth': nan,\n",
       " 'attack_Brighton': nan,\n",
       " 'attack_Burnley': nan,\n",
       " 'attack_Chelsea': nan,\n",
       " 'attack_Crystal Palace': nan,\n",
       " 'attack_Everton': nan,\n",
       " 'attack_Huddersfield': nan,\n",
       " 'attack_Leicester': nan,\n",
       " 'attack_Liverpool': nan,\n",
       " 'attack_Man City': nan,\n",
       " 'attack_Man United': nan,\n",
       " 'attack_Newcastle': nan,\n",
       " 'attack_Southampton': nan,\n",
       " 'attack_Stoke': nan,\n",
       " 'attack_Swansea': nan,\n",
       " 'attack_Tottenham': nan,\n",
       " 'attack_Watford': nan,\n",
       " 'attack_West Brom': nan,\n",
       " 'attack_West Ham': nan,\n",
       " 'defence_Arsenal': nan,\n",
       " 'defence_Bournemouth': nan,\n",
       " 'defence_Brighton': nan,\n",
       " 'defence_Burnley': nan,\n",
       " 'defence_Chelsea': nan,\n",
       " 'defence_Crystal Palace': nan,\n",
       " 'defence_Everton': nan,\n",
       " 'defence_Huddersfield': nan,\n",
       " 'defence_Leicester': nan,\n",
       " 'defence_Liverpool': nan,\n",
       " 'defence_Man City': nan,\n",
       " 'defence_Man United': nan,\n",
       " 'defence_Newcastle': nan,\n",
       " 'defence_Southampton': nan,\n",
       " 'defence_Stoke': nan,\n",
       " 'defence_Swansea': nan,\n",
       " 'defence_Tottenham': nan,\n",
       " 'defence_Watford': nan,\n",
       " 'defence_West Brom': nan,\n",
       " 'defence_West Ham': nan,\n",
       " 'rho': nan,\n",
       " 'home_adv': nan}"
      ]
     },
     "execution_count": 101,
     "metadata": {},
     "output_type": "execute_result"
    }
   ],
   "source": [
    "params"
   ]
  },
  {
   "cell_type": "code",
   "execution_count": 201,
   "id": "d8019e2d-20f0-4e46-a2ca-b8292ac9cd3d",
   "metadata": {},
   "outputs": [
    {
     "data": {
      "text/html": [
       "<div>\n",
       "<style scoped>\n",
       "    .dataframe tbody tr th:only-of-type {\n",
       "        vertical-align: middle;\n",
       "    }\n",
       "\n",
       "    .dataframe tbody tr th {\n",
       "        vertical-align: top;\n",
       "    }\n",
       "\n",
       "    .dataframe thead th {\n",
       "        text-align: right;\n",
       "    }\n",
       "</style>\n",
       "<table border=\"1\" class=\"dataframe\">\n",
       "  <thead>\n",
       "    <tr style=\"text-align: right;\">\n",
       "      <th></th>\n",
       "      <th>0</th>\n",
       "      <th>1</th>\n",
       "      <th>2</th>\n",
       "      <th>3</th>\n",
       "    </tr>\n",
       "  </thead>\n",
       "  <tbody>\n",
       "    <tr>\n",
       "      <th>0</th>\n",
       "      <td>1</td>\n",
       "      <td>2</td>\n",
       "      <td>Blackburn</td>\n",
       "      <td>Wolves</td>\n",
       "    </tr>\n",
       "    <tr>\n",
       "      <th>1</th>\n",
       "      <td>0</td>\n",
       "      <td>0</td>\n",
       "      <td>Fulham</td>\n",
       "      <td>Aston Villa</td>\n",
       "    </tr>\n",
       "    <tr>\n",
       "      <th>2</th>\n",
       "      <td>1</td>\n",
       "      <td>1</td>\n",
       "      <td>Liverpool</td>\n",
       "      <td>Sunderland</td>\n",
       "    </tr>\n",
       "    <tr>\n",
       "      <th>3</th>\n",
       "      <td>0</td>\n",
       "      <td>0</td>\n",
       "      <td>Newcastle</td>\n",
       "      <td>Arsenal</td>\n",
       "    </tr>\n",
       "    <tr>\n",
       "      <th>4</th>\n",
       "      <td>0</td>\n",
       "      <td>4</td>\n",
       "      <td>QPR</td>\n",
       "      <td>Bolton</td>\n",
       "    </tr>\n",
       "    <tr>\n",
       "      <th>...</th>\n",
       "      <td>...</td>\n",
       "      <td>...</td>\n",
       "      <td>...</td>\n",
       "      <td>...</td>\n",
       "    </tr>\n",
       "    <tr>\n",
       "      <th>375</th>\n",
       "      <td>0</td>\n",
       "      <td>1</td>\n",
       "      <td>Sunderland</td>\n",
       "      <td>Man United</td>\n",
       "    </tr>\n",
       "    <tr>\n",
       "      <th>376</th>\n",
       "      <td>1</td>\n",
       "      <td>0</td>\n",
       "      <td>Swansea</td>\n",
       "      <td>Liverpool</td>\n",
       "    </tr>\n",
       "    <tr>\n",
       "      <th>377</th>\n",
       "      <td>2</td>\n",
       "      <td>0</td>\n",
       "      <td>Tottenham</td>\n",
       "      <td>Fulham</td>\n",
       "    </tr>\n",
       "    <tr>\n",
       "      <th>378</th>\n",
       "      <td>2</td>\n",
       "      <td>3</td>\n",
       "      <td>West Brom</td>\n",
       "      <td>Arsenal</td>\n",
       "    </tr>\n",
       "    <tr>\n",
       "      <th>379</th>\n",
       "      <td>3</td>\n",
       "      <td>2</td>\n",
       "      <td>Wigan</td>\n",
       "      <td>Wolves</td>\n",
       "    </tr>\n",
       "  </tbody>\n",
       "</table>\n",
       "<p>380 rows × 4 columns</p>\n",
       "</div>"
      ],
      "text/plain": [
       "     0  1           2            3\n",
       "0    1  2   Blackburn       Wolves\n",
       "1    0  0      Fulham  Aston Villa\n",
       "2    1  1   Liverpool   Sunderland\n",
       "3    0  0   Newcastle      Arsenal\n",
       "4    0  4         QPR       Bolton\n",
       "..  .. ..         ...          ...\n",
       "375  0  1  Sunderland   Man United\n",
       "376  1  0     Swansea    Liverpool\n",
       "377  2  0   Tottenham       Fulham\n",
       "378  2  3   West Brom      Arsenal\n",
       "379  3  2       Wigan       Wolves\n",
       "\n",
       "[380 rows x 4 columns]"
      ]
     },
     "execution_count": 201,
     "metadata": {},
     "output_type": "execute_result"
    }
   ],
   "source": [
    "pd.DataFrame(\n",
    "    [\n",
    "        df[\"FTHG\"].tolist(),\n",
    "        df[\"FTAG\"].tolist(),\n",
    "        df[\"HomeTeam\"].tolist(),\n",
    "        df[\"AwayTeam\"].tolist(),\n",
    "    ]\n",
    ").T"
   ]
  },
  {
   "cell_type": "code",
   "execution_count": 17,
   "id": "f86b58c8-7a8c-48d8-9a37-a167c137dd71",
   "metadata": {},
   "outputs": [],
   "source": [
    "from datetime import datetime"
   ]
  },
  {
   "cell_type": "code",
   "execution_count": 20,
   "id": "1e0ad5f4-92ed-488b-bef3-7e94b83151f0",
   "metadata": {},
   "outputs": [
    {
     "data": {
      "text/plain": [
       "datetime.date(2021, 6, 3)"
      ]
     },
     "execution_count": 20,
     "metadata": {},
     "output_type": "execute_result"
    }
   ],
   "source": [
    "datetime.now().date()"
   ]
  },
  {
   "cell_type": "code",
   "execution_count": null,
   "id": "404441c5-144f-4aa3-9e2f-9dfaed1212de",
   "metadata": {},
   "outputs": [],
   "source": []
  }
 ],
 "metadata": {
  "kernelspec": {
   "display_name": "Python 3",
   "language": "python",
   "name": "python3"
  },
  "language_info": {
   "codemirror_mode": {
    "name": "ipython",
    "version": 3
   },
   "file_extension": ".py",
   "mimetype": "text/x-python",
   "name": "python",
   "nbconvert_exporter": "python",
   "pygments_lexer": "ipython3",
   "version": "3.9.4"
  }
 },
 "nbformat": 4,
 "nbformat_minor": 5
}
