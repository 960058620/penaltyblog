{
 "cells": [
  {
   "cell_type": "markdown",
   "id": "1ee69dc3-2f18-4110-a232-81d807884da9",
   "metadata": {},
   "source": [
    "# Understat"
   ]
  },
  {
   "cell_type": "code",
   "execution_count": null,
   "id": "2077b457-872d-420d-8799-9457e1a8f50f",
   "metadata": {},
   "outputs": [],
   "source": [
    "import sys\n",
    "\n",
    "sys.path.append(\"../\")\n",
    "\n",
    "import penaltyblog as pb"
   ]
  },
  {
   "cell_type": "markdown",
   "id": "56a9acc8-bf3a-4b1d-becb-f9b1e9ca1a09",
   "metadata": {},
   "source": [
    "## List available competitions"
   ]
  },
  {
   "cell_type": "code",
   "execution_count": null,
   "id": "bea88bf4-476f-4445-9345-379795d85025",
   "metadata": {},
   "outputs": [],
   "source": [
    "pb.scrapers.Understat.list_competitions()"
   ]
  },
  {
   "cell_type": "markdown",
   "id": "c22b88a5-d0bc-4553-a1b6-700c630a36a7",
   "metadata": {},
   "source": [
    "## Get Fixtures"
   ]
  },
  {
   "cell_type": "code",
   "execution_count": null,
   "id": "88b75ca5-90dd-4a6e-a0b4-4b1a5a63fec2",
   "metadata": {},
   "outputs": [],
   "source": [
    "under = pb.scrapers.Understat(\"ENG Premier League\", \"2021-2022\")\n",
    "df = under.get_fixtures()\n",
    "df.head()"
   ]
  },
  {
   "cell_type": "markdown",
   "id": "99cf8346-4d24-46f2-9217-7425e96dee69",
   "metadata": {},
   "source": [
    "## Get shots from a specific match (using the `understat_id` from the fixtures)"
   ]
  },
  {
   "cell_type": "code",
   "execution_count": null,
   "id": "2338420d-9f0b-492a-b827-6074fa21fde5",
   "metadata": {},
   "outputs": [],
   "source": [
    "shots = under.get_shots(\"16380\")\n",
    "shots.head()"
   ]
  },
  {
   "cell_type": "markdown",
   "id": "f798684e-baef-4a1a-9434-795623056a16",
   "metadata": {},
   "source": [
    "## Get the other stats for the fixture"
   ]
  },
  {
   "cell_type": "code",
   "execution_count": null,
   "id": "f20ba7af-78f6-4a6a-a18b-eace50eac2ec",
   "metadata": {},
   "outputs": [],
   "source": [
    "info = under.get_fixture_info(\"16380\")\n",
    "\n",
    "info"
   ]
  }
 ],
 "metadata": {
  "kernelspec": {
   "display_name": "Python 3 (ipykernel)",
   "language": "python",
   "name": "python3"
  },
  "language_info": {
   "codemirror_mode": {
    "name": "ipython",
    "version": 3
   },
   "file_extension": ".py",
   "mimetype": "text/x-python",
   "name": "python",
   "nbconvert_exporter": "python",
   "pygments_lexer": "ipython3",
   "version": "3.10.5"
  }
 },
 "nbformat": 4,
 "nbformat_minor": 5
}
