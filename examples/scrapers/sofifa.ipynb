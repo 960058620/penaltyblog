{
 "cells": [
  {
   "cell_type": "code",
   "execution_count": 1,
   "id": "b62ad0e9-a842-4306-a22b-86caa88203fe",
   "metadata": {},
   "outputs": [],
   "source": [
    "import sys\n",
    "import re\n",
    "import requests\n",
    "from lxml import html\n",
    "\n",
    "sys.path.append(\"../../\")\n",
    "\n",
    "import penaltyblog as pb"
   ]
  },
  {
   "cell_type": "code",
   "execution_count": 2,
   "id": "3651dd41-6234-474a-9df4-656f2d0a715d",
   "metadata": {},
   "outputs": [],
   "source": [
    "sofifa = pb.scrapers.SoFifa()"
   ]
  },
  {
   "cell_type": "code",
   "execution_count": 3,
   "id": "adb71848-ca4c-4765-896b-118bd98a889e",
   "metadata": {},
   "outputs": [],
   "source": [
    "player_info = sofifa.get_player_info(max_pages=1)"
   ]
  },
  {
   "cell_type": "code",
   "execution_count": 4,
   "id": "703e95c7-1c36-44e8-8117-011f2bb86ef1",
   "metadata": {},
   "outputs": [
    {
     "data": {
      "text/html": [
       "<div>\n",
       "<style scoped>\n",
       "    .dataframe tbody tr th:only-of-type {\n",
       "        vertical-align: middle;\n",
       "    }\n",
       "\n",
       "    .dataframe tbody tr th {\n",
       "        vertical-align: top;\n",
       "    }\n",
       "\n",
       "    .dataframe thead th {\n",
       "        text-align: right;\n",
       "    }\n",
       "</style>\n",
       "<table border=\"1\" class=\"dataframe\">\n",
       "  <thead>\n",
       "    <tr style=\"text-align: right;\">\n",
       "      <th></th>\n",
       "      <th>name</th>\n",
       "      <th>url</th>\n",
       "      <th>nationality</th>\n",
       "      <th>team</th>\n",
       "      <th>age</th>\n",
       "      <th>overall_rating</th>\n",
       "      <th>potential</th>\n",
       "      <th>value</th>\n",
       "      <th>wage</th>\n",
       "      <th>total</th>\n",
       "      <th>positions</th>\n",
       "    </tr>\n",
       "    <tr>\n",
       "      <th>id</th>\n",
       "      <th></th>\n",
       "      <th></th>\n",
       "      <th></th>\n",
       "      <th></th>\n",
       "      <th></th>\n",
       "      <th></th>\n",
       "      <th></th>\n",
       "      <th></th>\n",
       "      <th></th>\n",
       "      <th></th>\n",
       "      <th></th>\n",
       "    </tr>\n",
       "  </thead>\n",
       "  <tbody>\n",
       "    <tr>\n",
       "      <th>246764</th>\n",
       "      <td>Mohamed Camara</td>\n",
       "      <td>/player/246764/mohamed-camara/220067/</td>\n",
       "      <td>Mali</td>\n",
       "      <td>FC Red Bull Salzburg</td>\n",
       "      <td>21</td>\n",
       "      <td>76</td>\n",
       "      <td>84</td>\n",
       "      <td>€16M</td>\n",
       "      <td>€18K</td>\n",
       "      <td>2003</td>\n",
       "      <td>[CDM, CM]</td>\n",
       "    </tr>\n",
       "    <tr>\n",
       "      <th>208574</th>\n",
       "      <td>Filip Kostić</td>\n",
       "      <td>/player/208574/filip-kostic/220067/</td>\n",
       "      <td>Serbia</td>\n",
       "      <td>Eintracht Frankfurt</td>\n",
       "      <td>28</td>\n",
       "      <td>84</td>\n",
       "      <td>84</td>\n",
       "      <td>€42.5M</td>\n",
       "      <td>€52K</td>\n",
       "      <td>2229</td>\n",
       "      <td>[LM, LWB]</td>\n",
       "    </tr>\n",
       "    <tr>\n",
       "      <th>241811</th>\n",
       "      <td>Sergio Gómez Martín</td>\n",
       "      <td>/player/241811/sergio-gomez-martin/220067/</td>\n",
       "      <td>Spain</td>\n",
       "      <td>RSC Anderlecht</td>\n",
       "      <td>20</td>\n",
       "      <td>72</td>\n",
       "      <td>81</td>\n",
       "      <td>€4.9M</td>\n",
       "      <td>€11K</td>\n",
       "      <td>2014</td>\n",
       "      <td>[LB, RM, LM]</td>\n",
       "    </tr>\n",
       "    <tr>\n",
       "      <th>257319</th>\n",
       "      <td>Alan Virginius</td>\n",
       "      <td>/player/257319/alan-virginius/220067/</td>\n",
       "      <td>France</td>\n",
       "      <td>FC Sochaux-Montbéliard</td>\n",
       "      <td>18</td>\n",
       "      <td>65</td>\n",
       "      <td>82</td>\n",
       "      <td>€1.8M</td>\n",
       "      <td>€700</td>\n",
       "      <td>1530</td>\n",
       "      <td>[RM]</td>\n",
       "    </tr>\n",
       "    <tr>\n",
       "      <th>253124</th>\n",
       "      <td>Matheus Luiz Nunes</td>\n",
       "      <td>/player/253124/matheus-luiz-nunes/220067/</td>\n",
       "      <td>Portugal</td>\n",
       "      <td>Sporting CP</td>\n",
       "      <td>22</td>\n",
       "      <td>79</td>\n",
       "      <td>86</td>\n",
       "      <td>€35.5M</td>\n",
       "      <td>€15K</td>\n",
       "      <td>2102</td>\n",
       "      <td>[CM]</td>\n",
       "    </tr>\n",
       "  </tbody>\n",
       "</table>\n",
       "</div>"
      ],
      "text/plain": [
       "                       name                                         url  \\\n",
       "id                                                                        \n",
       "246764       Mohamed Camara       /player/246764/mohamed-camara/220067/   \n",
       "208574         Filip Kostić         /player/208574/filip-kostic/220067/   \n",
       "241811  Sergio Gómez Martín  /player/241811/sergio-gomez-martin/220067/   \n",
       "257319       Alan Virginius       /player/257319/alan-virginius/220067/   \n",
       "253124   Matheus Luiz Nunes   /player/253124/matheus-luiz-nunes/220067/   \n",
       "\n",
       "       nationality                    team  age  overall_rating  potential  \\\n",
       "id                                                                           \n",
       "246764        Mali    FC Red Bull Salzburg   21              76         84   \n",
       "208574      Serbia     Eintracht Frankfurt   28              84         84   \n",
       "241811       Spain          RSC Anderlecht   20              72         81   \n",
       "257319      France  FC Sochaux-Montbéliard   18              65         82   \n",
       "253124    Portugal             Sporting CP   22              79         86   \n",
       "\n",
       "         value  wage  total     positions  \n",
       "id                                         \n",
       "246764    €16M  €18K   2003     [CDM, CM]  \n",
       "208574  €42.5M  €52K   2229     [LM, LWB]  \n",
       "241811   €4.9M  €11K   2014  [LB, RM, LM]  \n",
       "257319   €1.8M  €700   1530          [RM]  \n",
       "253124  €35.5M  €15K   2102          [CM]  "
      ]
     },
     "execution_count": 4,
     "metadata": {},
     "output_type": "execute_result"
    }
   ],
   "source": [
    "player_info.head()"
   ]
  },
  {
   "cell_type": "code",
   "execution_count": null,
   "id": "27ef287e-03bd-48a6-bdef-84ea2fca2af9",
   "metadata": {},
   "outputs": [],
   "source": []
  },
  {
   "cell_type": "code",
   "execution_count": null,
   "id": "c4e5b85a-ec59-46b1-9c7c-bf9a83d972a9",
   "metadata": {},
   "outputs": [],
   "source": []
  },
  {
   "cell_type": "code",
   "execution_count": null,
   "id": "74e81dbe-9f85-4ffa-a886-c6d5e2d786b5",
   "metadata": {},
   "outputs": [],
   "source": []
  },
  {
   "cell_type": "code",
   "execution_count": 5,
   "id": "75391870-5355-42a0-8eeb-30fc3ffea2e7",
   "metadata": {},
   "outputs": [],
   "source": [
    "url = \"https://sofifa.com/player/241811/sergio-gomez-martin/220067/\"\n",
    "\n",
    "r = requests.get(url)\n",
    "\n",
    "content = r.content\n",
    "tree = html.fromstring(content)"
   ]
  },
  {
   "cell_type": "code",
   "execution_count": 6,
   "id": "7b142ef8-835e-4054-b2cd-97b6e1a95864",
   "metadata": {},
   "outputs": [],
   "source": [
    "parser = html.HTMLParser(encoding=r.encoding)\n",
    "tree = html.document_fromstring(content, parser=parser)"
   ]
  },
  {
   "cell_type": "code",
   "execution_count": 7,
   "id": "ec9dd74f-d4c2-4ab4-80f5-b3ca96f942ec",
   "metadata": {},
   "outputs": [
    {
     "data": {
      "text/plain": [
       "{'name': 'Sergio Gómez Martín',\n",
       " 'weight': 68,\n",
       " 'height': 171,\n",
       " 'age': 20,\n",
       " 'pos': ['LB', 'RM', 'LM'],\n",
       " 'Overall Rating': 72,\n",
       " 'Potential': 81,\n",
       " 'Value': '€4.9M',\n",
       " 'Wage': '€11K'}"
      ]
     },
     "execution_count": 7,
     "metadata": {},
     "output_type": "execute_result"
    }
   ],
   "source": [
    "tmp = dict()\n",
    "tmp[\"name\"] = tree.xpath(\"//div[contains(@class, 'info')]/h1\")[0].text\n",
    "\n",
    "info = tree.xpath(\"//div[contains(@class, 'info')]/div\")[0].text_content()\n",
    "tmp[\"weight\"] = int(re.search(\"[0-9]*kg\", info).group(0).split(\"kg\")[0])\n",
    "tmp[\"height\"] = int(re.search(\"[0-9]*cm\", info).group(0).split(\"cm\")[0])\n",
    "tmp[\"age\"] = int(re.search(\"[0-9]*y\\.o\", info).group(0).split(\"y.o\")[0])\n",
    "tmp[\"pos\"] = [x.text for x in tree.xpath(\"//div[contains(@class, 'info')]/div/span\")]\n",
    "\n",
    "stats = tree.xpath(\"//div[contains(@class, 'player')]//div[contains(@class, 'block-quarter')]\")\n",
    "for stat in stats[:2]:\n",
    "    v = int(stat.xpath(\"div/span\")[0].text)\n",
    "    k = stat.xpath(\"div/div\")[0].text\n",
    "    tmp[k] = v\n",
    "    \n",
    "for stat in stats[2:]:\n",
    "    v = stat.xpath(\"div\")[0].text\n",
    "    k = stat.xpath(\"div/div/text()\")[0]\n",
    "    tmp[k] = v    \n",
    "\n",
    "tmp"
   ]
  },
  {
   "cell_type": "code",
   "execution_count": 64,
   "id": "6004340c-fdd2-49b9-92e9-ca41ad1b2459",
   "metadata": {},
   "outputs": [
    {
     "name": "stdout",
     "output_type": "stream",
     "text": [
      "Preferred Foot Left\n",
      "Weak Foot 3\n",
      "Skill Moves 4\n",
      "International Reputation 1\n",
      "Work Rate High/ Medium\n",
      "Body Type Normal (170-185)\n",
      "Real Face Yes\n",
      "Release Clause €8.3M\n",
      "ID 241811\n",
      "Position LB\n",
      "Kit Number 17\n",
      "Joined Jul 1, 2021\n",
      "Contract Valid Until 2025\n"
     ]
    }
   ],
   "source": [
    "lis = tree.xpath(\"//div[contains(@class, 'block-quarter')]//ul[contains(@class, 'pl')]/li\")\n",
    "for li in lis:\n",
    "    label = li.find(\"label\")\n",
    "    if label is None:\n",
    "        continue\n",
    "    label = li.xpath(\"label/text()\")[0]\n",
    "    \n",
    "    span = li.find(\"span\")\n",
    "    if span is not None:\n",
    "        span = li.xpath(\"span/text()\")[0]\n",
    "    else:\n",
    "        span = li.xpath(\"text()\")[0].strip()\n",
    "    print(label, span)\n"
   ]
  },
  {
   "cell_type": "code",
   "execution_count": 59,
   "id": "56df2970-788f-44d1-b0ee-b7051ff8fad9",
   "metadata": {},
   "outputs": [
    {
     "data": {
      "text/plain": [
       "['Left']"
      ]
     },
     "execution_count": 59,
     "metadata": {},
     "output_type": "execute_result"
    }
   ],
   "source": [
    "li.xpath(\"text()\")"
   ]
  },
  {
   "cell_type": "code",
   "execution_count": null,
   "id": "879fb5ef-d17d-4697-96b8-636366c4b14a",
   "metadata": {},
   "outputs": [],
   "source": []
  }
 ],
 "metadata": {
  "kernelspec": {
   "display_name": "Python 3 (ipykernel)",
   "language": "python",
   "name": "python3"
  },
  "language_info": {
   "codemirror_mode": {
    "name": "ipython",
    "version": 3
   },
   "file_extension": ".py",
   "mimetype": "text/x-python",
   "name": "python",
   "nbconvert_exporter": "python",
   "pygments_lexer": "ipython3",
   "version": "3.10.5"
  }
 },
 "nbformat": 4,
 "nbformat_minor": 5
}
