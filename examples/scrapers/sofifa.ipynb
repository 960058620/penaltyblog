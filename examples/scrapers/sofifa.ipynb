{
 "cells": [
  {
   "cell_type": "code",
   "execution_count": 1,
   "id": "b62ad0e9-a842-4306-a22b-86caa88203fe",
   "metadata": {},
   "outputs": [],
   "source": [
    "import sys\n",
    "import requests\n",
    "from lxml import html\n",
    "\n",
    "sys.path.append(\"../../\")\n",
    "\n",
    "import penaltyblog as pb"
   ]
  },
  {
   "cell_type": "code",
   "execution_count": 2,
   "id": "3651dd41-6234-474a-9df4-656f2d0a715d",
   "metadata": {},
   "outputs": [],
   "source": [
    "sofifa = pb.scrapers.SoFifa()"
   ]
  },
  {
   "cell_type": "code",
   "execution_count": 3,
   "id": "adb71848-ca4c-4765-896b-118bd98a889e",
   "metadata": {},
   "outputs": [],
   "source": [
    "player_info = sofifa.get_player_info(max_pages=1)"
   ]
  },
  {
   "cell_type": "code",
   "execution_count": null,
   "id": "703e95c7-1c36-44e8-8117-011f2bb86ef1",
   "metadata": {},
   "outputs": [],
   "source": []
  },
  {
   "cell_type": "code",
   "execution_count": null,
   "id": "27ef287e-03bd-48a6-bdef-84ea2fca2af9",
   "metadata": {},
   "outputs": [],
   "source": []
  },
  {
   "cell_type": "code",
   "execution_count": null,
   "id": "c4e5b85a-ec59-46b1-9c7c-bf9a83d972a9",
   "metadata": {},
   "outputs": [],
   "source": []
  },
  {
   "cell_type": "code",
   "execution_count": null,
   "id": "74e81dbe-9f85-4ffa-a886-c6d5e2d786b5",
   "metadata": {},
   "outputs": [],
   "source": []
  },
  {
   "cell_type": "code",
   "execution_count": null,
   "id": "75391870-5355-42a0-8eeb-30fc3ffea2e7",
   "metadata": {},
   "outputs": [],
   "source": [
    "url = \"https://sofifa.com/players\"\n",
    "\n",
    "r = requests.get(url)\n",
    "\n",
    "content = r.content\n",
    "tree = html.fromstring(content)"
   ]
  },
  {
   "cell_type": "code",
   "execution_count": null,
   "id": "ec9dd74f-d4c2-4ab4-80f5-b3ca96f942ec",
   "metadata": {},
   "outputs": [],
   "source": [
    "trs = tree.cssselect(\"table tbody tr\")\n",
    "len(trs)"
   ]
  },
  {
   "cell_type": "code",
   "execution_count": null,
   "id": "75114c04-8a5c-45c0-8997-ff9453f2e3de",
   "metadata": {},
   "outputs": [],
   "source": [
    "for tr in trs:\n",
    "    for td in tr.findall(\"td\"):\n",
    "        pass"
   ]
  },
  {
   "cell_type": "code",
   "execution_count": null,
   "id": "d9b0ffb7-6241-46ae-bbda-2cc13f64bf3a",
   "metadata": {},
   "outputs": [],
   "source": [
    "for td in tr.findall(\"td\"):\n",
    "    break"
   ]
  },
  {
   "cell_type": "code",
   "execution_count": null,
   "id": "a1516b8c-9213-4c08-82a8-24758c29b86a",
   "metadata": {},
   "outputs": [],
   "source": [
    "tr = trs[1]\n",
    "\n",
    "tmp = dict()\n",
    "tmp[\"name\"] = tr.xpath(\"td[contains(@class, 'col-name')]/a[@role='tooltip']\")[0].get(\"aria-label\")\n",
    "tmp[\"url\"] = tr.xpath(\"td[contains(@class, 'col-name')]/a[@role='tooltip']\")[0].get(\"href\")\n",
    "tmp[\"nationality\"] = tr.xpath(\"td[contains(@class, 'col-name')]/img\")[0].get(\"title\")\n",
    "tmp[\"team\"] = tr.xpath(\"td[contains(@class, 'col-name')]/div/a\")[0].text\n",
    "tmp[\"age\"] = int(tr.xpath(\"td[contains(@class, 'col-ae')]\")[0].text)\n",
    "tmp[\"overall_rating\"] = int(tr.xpath(\"td[contains(@class, 'col-oa')]/span\")[0].text)\n",
    "tmp[\"potential\"] = int(tr.xpath(\"td[contains(@class, 'col-pt')]/span\")[0].text)\n",
    "tmp[\"value\"] = tr.xpath(\"td[contains(@class, 'col-vl')]\")[0].text\n",
    "tmp[\"wage\"] = tr.xpath(\"td[contains(@class, 'col-wg')]\")[0].text\n",
    "tmp[\"total\"] = int(tr.xpath(\"td[contains(@class, 'col-tt')]/span\")[0].text)\n",
    "\n",
    "pos = tr.xpath(\"td[contains(@class, 'col-name')]/a[contains(@rel, 'nofollow')]/span\")\n",
    "tmp[\"positions\"] = [x.text for x in pos]\n",
    "\n",
    "tmp"
   ]
  },
  {
   "cell_type": "code",
   "execution_count": null,
   "id": "67758194-3adb-4f12-9bf0-ce2cfa029bc2",
   "metadata": {},
   "outputs": [],
   "source": [
    "tree.xpath(\"div\")"
   ]
  },
  {
   "cell_type": "code",
   "execution_count": null,
   "id": "36744c9e-c092-407f-8c97-8f069e574d73",
   "metadata": {},
   "outputs": [],
   "source": [
    "dir(tree)"
   ]
  },
  {
   "cell_type": "code",
   "execution_count": null,
   "id": "6004340c-fdd2-49b9-92e9-ca41ad1b2459",
   "metadata": {},
   "outputs": [],
   "source": []
  }
 ],
 "metadata": {
  "kernelspec": {
   "display_name": "Python 3 (ipykernel)",
   "language": "python",
   "name": "python3"
  },
  "language_info": {
   "codemirror_mode": {
    "name": "ipython",
    "version": 3
   },
   "file_extension": ".py",
   "mimetype": "text/x-python",
   "name": "python",
   "nbconvert_exporter": "python",
   "pygments_lexer": "ipython3",
   "version": "3.10.5"
  }
 },
 "nbformat": 4,
 "nbformat_minor": 5
}
