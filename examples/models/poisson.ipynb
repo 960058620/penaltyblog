{
 "cells": [
  {
   "cell_type": "markdown",
   "id": "6601f1da-74e1-4f3e-95f1-5f5439d71210",
   "metadata": {},
   "source": [
    "# Poisson"
   ]
  },
  {
   "cell_type": "code",
   "execution_count": 1,
   "id": "1f931497-c1f9-4cb4-969a-058676e42a24",
   "metadata": {},
   "outputs": [],
   "source": [
    "import sys\n",
    "\n",
    "sys.path.append(\"../../\")\n",
    "\n",
    "import penaltyblog as pb"
   ]
  },
  {
   "cell_type": "markdown",
   "id": "4a1b5c76-8f47-4f59-8351-d5add2f69309",
   "metadata": {},
   "source": [
    "## Get data from football-data.co.uk"
   ]
  },
  {
   "cell_type": "code",
   "execution_count": 2,
   "id": "949b129d-e4e5-4975-8318-dd601d918e90",
   "metadata": {},
   "outputs": [
    {
     "data": {
      "text/html": [
       "<div>\n",
       "<style scoped>\n",
       "    .dataframe tbody tr th:only-of-type {\n",
       "        vertical-align: middle;\n",
       "    }\n",
       "\n",
       "    .dataframe tbody tr th {\n",
       "        vertical-align: top;\n",
       "    }\n",
       "\n",
       "    .dataframe thead th {\n",
       "        text-align: right;\n",
       "    }\n",
       "</style>\n",
       "<table border=\"1\" class=\"dataframe\">\n",
       "  <thead>\n",
       "    <tr style=\"text-align: right;\">\n",
       "      <th></th>\n",
       "      <th>competition</th>\n",
       "      <th>season</th>\n",
       "      <th>datetime</th>\n",
       "      <th>div</th>\n",
       "      <th>date</th>\n",
       "      <th>time</th>\n",
       "      <th>team_home</th>\n",
       "      <th>team_away</th>\n",
       "      <th>fthg</th>\n",
       "      <th>ftag</th>\n",
       "      <th>...</th>\n",
       "      <th>b365_cahh</th>\n",
       "      <th>b365_caha</th>\n",
       "      <th>pcahh</th>\n",
       "      <th>pcaha</th>\n",
       "      <th>max_cahh</th>\n",
       "      <th>max_caha</th>\n",
       "      <th>avg_cahh</th>\n",
       "      <th>avg_caha</th>\n",
       "      <th>goals_home</th>\n",
       "      <th>goals_away</th>\n",
       "    </tr>\n",
       "    <tr>\n",
       "      <th>id</th>\n",
       "      <th></th>\n",
       "      <th></th>\n",
       "      <th></th>\n",
       "      <th></th>\n",
       "      <th></th>\n",
       "      <th></th>\n",
       "      <th></th>\n",
       "      <th></th>\n",
       "      <th></th>\n",
       "      <th></th>\n",
       "      <th></th>\n",
       "      <th></th>\n",
       "      <th></th>\n",
       "      <th></th>\n",
       "      <th></th>\n",
       "      <th></th>\n",
       "      <th></th>\n",
       "      <th></th>\n",
       "      <th></th>\n",
       "      <th></th>\n",
       "      <th></th>\n",
       "    </tr>\n",
       "  </thead>\n",
       "  <tbody>\n",
       "    <tr>\n",
       "      <th>1565308800---liverpool---norwich</th>\n",
       "      <td>ENG Premier League</td>\n",
       "      <td>2019-2020</td>\n",
       "      <td>2019-08-09 20:00:00</td>\n",
       "      <td>E0</td>\n",
       "      <td>2019-08-09</td>\n",
       "      <td>20:00</td>\n",
       "      <td>Liverpool</td>\n",
       "      <td>Norwich</td>\n",
       "      <td>4</td>\n",
       "      <td>1</td>\n",
       "      <td>...</td>\n",
       "      <td>1.91</td>\n",
       "      <td>1.99</td>\n",
       "      <td>1.94</td>\n",
       "      <td>1.98</td>\n",
       "      <td>1.99</td>\n",
       "      <td>2.07</td>\n",
       "      <td>1.90</td>\n",
       "      <td>1.99</td>\n",
       "      <td>4</td>\n",
       "      <td>1</td>\n",
       "    </tr>\n",
       "    <tr>\n",
       "      <th>1565395200---bournemouth---sheffield_united</th>\n",
       "      <td>ENG Premier League</td>\n",
       "      <td>2019-2020</td>\n",
       "      <td>2019-08-10 15:00:00</td>\n",
       "      <td>E0</td>\n",
       "      <td>2019-08-10</td>\n",
       "      <td>15:00</td>\n",
       "      <td>Bournemouth</td>\n",
       "      <td>Sheffield United</td>\n",
       "      <td>1</td>\n",
       "      <td>1</td>\n",
       "      <td>...</td>\n",
       "      <td>1.95</td>\n",
       "      <td>1.95</td>\n",
       "      <td>1.98</td>\n",
       "      <td>1.95</td>\n",
       "      <td>2.00</td>\n",
       "      <td>1.96</td>\n",
       "      <td>1.96</td>\n",
       "      <td>1.92</td>\n",
       "      <td>1</td>\n",
       "      <td>1</td>\n",
       "    </tr>\n",
       "    <tr>\n",
       "      <th>1565395200---burnley---southampton</th>\n",
       "      <td>ENG Premier League</td>\n",
       "      <td>2019-2020</td>\n",
       "      <td>2019-08-10 15:00:00</td>\n",
       "      <td>E0</td>\n",
       "      <td>2019-08-10</td>\n",
       "      <td>15:00</td>\n",
       "      <td>Burnley</td>\n",
       "      <td>Southampton</td>\n",
       "      <td>3</td>\n",
       "      <td>0</td>\n",
       "      <td>...</td>\n",
       "      <td>1.87</td>\n",
       "      <td>2.03</td>\n",
       "      <td>1.89</td>\n",
       "      <td>2.03</td>\n",
       "      <td>1.90</td>\n",
       "      <td>2.07</td>\n",
       "      <td>1.86</td>\n",
       "      <td>2.02</td>\n",
       "      <td>3</td>\n",
       "      <td>0</td>\n",
       "    </tr>\n",
       "    <tr>\n",
       "      <th>1565395200---crystal_palace---everton</th>\n",
       "      <td>ENG Premier League</td>\n",
       "      <td>2019-2020</td>\n",
       "      <td>2019-08-10 15:00:00</td>\n",
       "      <td>E0</td>\n",
       "      <td>2019-08-10</td>\n",
       "      <td>15:00</td>\n",
       "      <td>Crystal Palace</td>\n",
       "      <td>Everton</td>\n",
       "      <td>0</td>\n",
       "      <td>0</td>\n",
       "      <td>...</td>\n",
       "      <td>1.82</td>\n",
       "      <td>2.08</td>\n",
       "      <td>1.97</td>\n",
       "      <td>1.96</td>\n",
       "      <td>2.03</td>\n",
       "      <td>2.08</td>\n",
       "      <td>1.96</td>\n",
       "      <td>1.93</td>\n",
       "      <td>0</td>\n",
       "      <td>0</td>\n",
       "    </tr>\n",
       "    <tr>\n",
       "      <th>1565395200---tottenham---aston_villa</th>\n",
       "      <td>ENG Premier League</td>\n",
       "      <td>2019-2020</td>\n",
       "      <td>2019-08-10 17:30:00</td>\n",
       "      <td>E0</td>\n",
       "      <td>2019-08-10</td>\n",
       "      <td>17:30</td>\n",
       "      <td>Tottenham</td>\n",
       "      <td>Aston Villa</td>\n",
       "      <td>3</td>\n",
       "      <td>1</td>\n",
       "      <td>...</td>\n",
       "      <td>2.10</td>\n",
       "      <td>1.70</td>\n",
       "      <td>2.18</td>\n",
       "      <td>1.77</td>\n",
       "      <td>2.21</td>\n",
       "      <td>1.87</td>\n",
       "      <td>2.08</td>\n",
       "      <td>1.80</td>\n",
       "      <td>3</td>\n",
       "      <td>1</td>\n",
       "    </tr>\n",
       "  </tbody>\n",
       "</table>\n",
       "<p>5 rows × 111 columns</p>\n",
       "</div>"
      ],
      "text/plain": [
       "                                                    competition     season  \\\n",
       "id                                                                           \n",
       "1565308800---liverpool---norwich             ENG Premier League  2019-2020   \n",
       "1565395200---bournemouth---sheffield_united  ENG Premier League  2019-2020   \n",
       "1565395200---burnley---southampton           ENG Premier League  2019-2020   \n",
       "1565395200---crystal_palace---everton        ENG Premier League  2019-2020   \n",
       "1565395200---tottenham---aston_villa         ENG Premier League  2019-2020   \n",
       "\n",
       "                                                       datetime div  \\\n",
       "id                                                                    \n",
       "1565308800---liverpool---norwich            2019-08-09 20:00:00  E0   \n",
       "1565395200---bournemouth---sheffield_united 2019-08-10 15:00:00  E0   \n",
       "1565395200---burnley---southampton          2019-08-10 15:00:00  E0   \n",
       "1565395200---crystal_palace---everton       2019-08-10 15:00:00  E0   \n",
       "1565395200---tottenham---aston_villa        2019-08-10 17:30:00  E0   \n",
       "\n",
       "                                                  date   time       team_home  \\\n",
       "id                                                                              \n",
       "1565308800---liverpool---norwich            2019-08-09  20:00       Liverpool   \n",
       "1565395200---bournemouth---sheffield_united 2019-08-10  15:00     Bournemouth   \n",
       "1565395200---burnley---southampton          2019-08-10  15:00         Burnley   \n",
       "1565395200---crystal_palace---everton       2019-08-10  15:00  Crystal Palace   \n",
       "1565395200---tottenham---aston_villa        2019-08-10  17:30       Tottenham   \n",
       "\n",
       "                                                    team_away  fthg  ftag  \\\n",
       "id                                                                          \n",
       "1565308800---liverpool---norwich                      Norwich     4     1   \n",
       "1565395200---bournemouth---sheffield_united  Sheffield United     1     1   \n",
       "1565395200---burnley---southampton                Southampton     3     0   \n",
       "1565395200---crystal_palace---everton                 Everton     0     0   \n",
       "1565395200---tottenham---aston_villa              Aston Villa     3     1   \n",
       "\n",
       "                                             ... b365_cahh  b365_caha  pcahh  \\\n",
       "id                                           ...                               \n",
       "1565308800---liverpool---norwich             ...      1.91       1.99   1.94   \n",
       "1565395200---bournemouth---sheffield_united  ...      1.95       1.95   1.98   \n",
       "1565395200---burnley---southampton           ...      1.87       2.03   1.89   \n",
       "1565395200---crystal_palace---everton        ...      1.82       2.08   1.97   \n",
       "1565395200---tottenham---aston_villa         ...      2.10       1.70   2.18   \n",
       "\n",
       "                                            pcaha max_cahh  max_caha  \\\n",
       "id                                                                     \n",
       "1565308800---liverpool---norwich             1.98     1.99      2.07   \n",
       "1565395200---bournemouth---sheffield_united  1.95     2.00      1.96   \n",
       "1565395200---burnley---southampton           2.03     1.90      2.07   \n",
       "1565395200---crystal_palace---everton        1.96     2.03      2.08   \n",
       "1565395200---tottenham---aston_villa         1.77     2.21      1.87   \n",
       "\n",
       "                                             avg_cahh  avg_caha  goals_home  \\\n",
       "id                                                                            \n",
       "1565308800---liverpool---norwich                 1.90      1.99           4   \n",
       "1565395200---bournemouth---sheffield_united      1.96      1.92           1   \n",
       "1565395200---burnley---southampton               1.86      2.02           3   \n",
       "1565395200---crystal_palace---everton            1.96      1.93           0   \n",
       "1565395200---tottenham---aston_villa             2.08      1.80           3   \n",
       "\n",
       "                                             goals_away  \n",
       "id                                                       \n",
       "1565308800---liverpool---norwich                      1  \n",
       "1565395200---bournemouth---sheffield_united           1  \n",
       "1565395200---burnley---southampton                    0  \n",
       "1565395200---crystal_palace---everton                 0  \n",
       "1565395200---tottenham---aston_villa                  1  \n",
       "\n",
       "[5 rows x 111 columns]"
      ]
     },
     "execution_count": 2,
     "metadata": {},
     "output_type": "execute_result"
    }
   ],
   "source": [
    "fb = pb.scrapers.FootballData(\"ENG Premier League\", \"2019-2020\")\n",
    "df = fb.get_fixtures()\n",
    "\n",
    "df.head()"
   ]
  },
  {
   "cell_type": "markdown",
   "id": "9257f0fc-5f2b-402f-9209-d005d14880be",
   "metadata": {},
   "source": [
    "## Train a basic poisson model"
   ]
  },
  {
   "cell_type": "code",
   "execution_count": 3,
   "id": "7d39d92f-6fa0-4a2a-8a48-22d214e38efc",
   "metadata": {},
   "outputs": [],
   "source": [
    "clf = pb.models.PoissonGoalsModel(\n",
    "    df[\"goals_home\"], df[\"goals_away\"], df[\"team_home\"], df[\"team_away\"]\n",
    ")\n",
    "clf.fit()"
   ]
  },
  {
   "cell_type": "markdown",
   "id": "63a12589-0066-431f-8444-92e2944b55a4",
   "metadata": {},
   "source": [
    "## The model's parameters"
   ]
  },
  {
   "cell_type": "code",
   "execution_count": 4,
   "id": "1831867d-c26e-4970-9586-a9e23e75cfed",
   "metadata": {},
   "outputs": [
    {
     "data": {
      "text/plain": [
       "{'attack_Arsenal': 1.1331236899973345,\n",
       " 'attack_Aston Villa': 0.8398888104788944,\n",
       " 'attack_Bournemouth': 0.8130897663316354,\n",
       " 'attack_Brighton': 0.7765248253257214,\n",
       " 'attack_Burnley': 0.8703023371771994,\n",
       " 'attack_Chelsea': 1.3487338919001544,\n",
       " 'attack_Crystal Palace': 0.5425422408745968,\n",
       " 'attack_Everton': 0.8994386622804366,\n",
       " 'attack_Leicester': 1.305683340822444,\n",
       " 'attack_Liverpool': 1.536142023201564,\n",
       " 'attack_Man City': 1.721273889006884,\n",
       " 'attack_Man United': 1.2855301627562425,\n",
       " 'attack_Newcastle': 0.754538349388783,\n",
       " 'attack_Norwich': 0.3911250522596789,\n",
       " 'attack_Sheffield United': 0.7614768317608919,\n",
       " 'attack_Southampton': 1.0516111981282654,\n",
       " 'attack_Tottenham': 1.2177895314312077,\n",
       " 'attack_Watford': 0.7064633632379288,\n",
       " 'attack_West Ham': 1.0135085594841655,\n",
       " 'attack_Wolves': 1.0312134741439425,\n",
       " 'defence_Arsenal': -0.9373593152185443,\n",
       " 'defence_Aston Villa': -0.6183887167614771,\n",
       " 'defence_Bournemouth': -0.6497780016893445,\n",
       " 'defence_Brighton': -0.8366644455845825,\n",
       " 'defence_Burnley': -0.9096445581199665,\n",
       " 'defence_Chelsea': -0.8056794617596451,\n",
       " 'defence_Crystal Palace': -0.9217234584764492,\n",
       " 'defence_Everton': -0.7950830265711245,\n",
       " 'defence_Leicester': -1.0841115587982018,\n",
       " 'defence_Liverpool': -1.283371292184721,\n",
       " 'defence_Man City': -1.2063235545625164,\n",
       " 'defence_Man United': -1.2156312104034752,\n",
       " 'defence_Newcastle': -0.766019714032436,\n",
       " 'defence_Norwich': -0.520671121600944,\n",
       " 'defence_Sheffield United': -1.1626929246095525,\n",
       " 'defence_Southampton': -0.7187488659558111,\n",
       " 'defence_Tottenham': -0.953348247236947,\n",
       " 'defence_Watford': -0.6693854533833772,\n",
       " 'defence_West Ham': -0.6878737389877748,\n",
       " 'defence_Wolves': -1.1252407856242987,\n",
       " 'home_advantage': 0.2292519839991387}"
      ]
     },
     "execution_count": 4,
     "metadata": {},
     "output_type": "execute_result"
    }
   ],
   "source": [
    "params = clf.get_params()\n",
    "params"
   ]
  },
  {
   "cell_type": "markdown",
   "id": "43bb1f12-7010-421b-bf93-bb8e1dba2df6",
   "metadata": {},
   "source": [
    "## Predict Match Outcomes"
   ]
  },
  {
   "cell_type": "code",
   "execution_count": 5,
   "id": "3a047b77-707d-46b6-bcf8-57f3356efee3",
   "metadata": {},
   "outputs": [
    {
     "data": {
      "text/plain": [
       "Module: Penaltyblog\n",
       "\n",
       "Class: FootballProbabilityGrid\n",
       "\n",
       "Home Goal Expectation: 1.8967714833577352\n",
       "Away Goal Expectation: 0.7771220845059058\n",
       "\n",
       "Home Win: 0.6385321493320355\n",
       "Draw: 0.21487353680172425\n",
       "Away Win: 0.1465943119417152"
      ]
     },
     "execution_count": 5,
     "metadata": {},
     "output_type": "execute_result"
    }
   ],
   "source": [
    "probs = clf.predict(\"Liverpool\", \"Wolves\")\n",
    "probs"
   ]
  },
  {
   "cell_type": "markdown",
   "id": "2a5274e7-d13e-455b-8e77-a6f51ba6f830",
   "metadata": {},
   "source": [
    "### 1x2 Probabilities"
   ]
  },
  {
   "cell_type": "code",
   "execution_count": 6,
   "id": "cc1d6199-c35e-4ea3-bf82-a89c31a7277d",
   "metadata": {},
   "outputs": [
    {
     "data": {
      "text/plain": [
       "[0.6385321493320355, 0.21487353680172425, 0.1465943119417152]"
      ]
     },
     "execution_count": 6,
     "metadata": {},
     "output_type": "execute_result"
    }
   ],
   "source": [
    "probs.home_draw_away"
   ]
  },
  {
   "cell_type": "markdown",
   "id": "9996be1b-acf8-4305-9bf0-6e4832505d47",
   "metadata": {},
   "source": [
    "### Probablity of Total Goals >1.5"
   ]
  },
  {
   "cell_type": "code",
   "execution_count": 7,
   "id": "8da5ea91-ff28-4c6d-b6bf-0d5ef417da2b",
   "metadata": {},
   "outputs": [
    {
     "data": {
      "text/plain": [
       "0.746563389116105"
      ]
     },
     "execution_count": 7,
     "metadata": {},
     "output_type": "execute_result"
    }
   ],
   "source": [
    "probs.total_goals(\"over\", 1.5)"
   ]
  },
  {
   "cell_type": "markdown",
   "id": "5a0876d3-9d69-4b63-ae8a-d2b3b8f40aa6",
   "metadata": {},
   "source": [
    "### Probability of Asian Handicap "
   ]
  },
  {
   "cell_type": "code",
   "execution_count": 8,
   "id": "280e7570-5010-4b39-8104-71ca27e4005a",
   "metadata": {},
   "outputs": [
    {
     "data": {
      "text/plain": [
       "0.38442594605181685"
      ]
     },
     "execution_count": 8,
     "metadata": {},
     "output_type": "execute_result"
    }
   ],
   "source": [
    "probs.asian_handicap(\"home\", 1.5)"
   ]
  },
  {
   "cell_type": "markdown",
   "id": "518288cd-e70e-43f7-a350-ab5bece62093",
   "metadata": {},
   "source": [
    "## Probability of both teams scoring"
   ]
  },
  {
   "cell_type": "code",
   "execution_count": 9,
   "id": "88e86748-fc5f-4416-8b64-0f41d0f92f69",
   "metadata": {},
   "outputs": [
    {
     "data": {
      "text/plain": [
       "0.45920366069754437"
      ]
     },
     "execution_count": 9,
     "metadata": {},
     "output_type": "execute_result"
    }
   ],
   "source": [
    "probs.both_teams_to_score"
   ]
  }
 ],
 "metadata": {
  "kernelspec": {
   "display_name": "Python 3 (ipykernel)",
   "language": "python",
   "name": "python3"
  },
  "language_info": {
   "codemirror_mode": {
    "name": "ipython",
    "version": 3
   },
   "file_extension": ".py",
   "mimetype": "text/x-python",
   "name": "python",
   "nbconvert_exporter": "python",
   "pygments_lexer": "ipython3",
   "version": "3.10.5"
  }
 },
 "nbformat": 4,
 "nbformat_minor": 5
}
